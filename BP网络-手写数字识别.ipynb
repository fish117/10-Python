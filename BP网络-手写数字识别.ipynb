{
 "cells": [
  {
   "cell_type": "code",
   "execution_count": 13,
   "metadata": {
    "collapsed": false
   },
   "outputs": [],
   "source": [
    "import numpy as np\n",
    "from sklearn.datasets import load_digits\n",
    "from sklearn.preprocessing import LabelBinarizer\n",
    "from sklearn.model_selection import train_test_split\n",
    "from sklearn.preprocessing import StandardScaler"
   ]
  },
  {
   "cell_type": "code",
   "execution_count": 30,
   "metadata": {
    "collapsed": true
   },
   "outputs": [],
   "source": [
    "def sigmoid(x):\n",
    "    return 1/(1+np.exp(-x))\n",
    "\n",
    "def dsigmoid(x):\n",
    "    return x*(1-x)\n",
    "\n",
    "class NeuralNetwork:\n",
    "    def __init__(self,layers):#(64,100,10)\n",
    "        #权值的初始化，范围-1到1\n",
    "        self.V = np.random.random((layers[0]+1,layers[1]+1))*2-1\n",
    "        self.W = np.random.random((layers[1]+1,layers[2]))*2-1\n",
    "        \n",
    "    def train(self,X,y,lr=0.11,epochs=10000):\n",
    "        #添加偏置\n",
    "        temp = np.ones([X.shape[0],X.shape[1]+1])\n",
    "        temp[:,0:-1] = X\n",
    "        X = temp\n",
    "        \n",
    "        for n in range(epochs+1):\n",
    "            i = np.random.randint(X.shape[0]) #随机选取一个数据\n",
    "            x = [X[i]]\n",
    "            x = np.atleast_2d(x)#转为2维数据\n",
    "            \n",
    "            L1 = sigmoid(np.dot(x,self.V))#隐层输出\n",
    "            L2 = sigmoid(np.dot(L1,self.W))#输出层输出\n",
    "            \n",
    "            L2_delta = (y[i]-L2)*dsigmoid(L2)\n",
    "            L1_delta= L2_delta.dot(self.W.T)*dsigmoid(L1)\n",
    "            \n",
    "            self.W += lr*L1.T.dot(L2_delta)\n",
    "            self.V += lr*x.T.dot(L1_delta)\n",
    "            \n",
    "            #每训练1000次预测一次准确率\n",
    "            if n%1000==0:\n",
    "                predictions = []\n",
    "                for j in range(X_test.shape[0]):\n",
    "                    o = self.predict(X_test[j])\n",
    "                    predictions.append(np.argmax(o))#获取预测结果\n",
    "                accuracy = np.mean(np.equal(predictions,y_test))\n",
    "                print('epoch:',n,'accuracy:',accuracy)\n",
    "        \n",
    "    def predict(self,x):\n",
    "        #添加偏置\n",
    "        temp = np.ones(x.shape[0]+1)\n",
    "        temp[0:-1] = x\n",
    "        x = temp\n",
    "        x = np.atleast_2d(x)#转为2维数据\n",
    "\n",
    "        L1 = sigmoid(np.dot(x,self.V))#隐层输出\n",
    "        L2 = sigmoid(np.dot(L1,self.W))#输出层输出\n",
    "        return L2"
   ]
  },
  {
   "cell_type": "code",
   "execution_count": 31,
   "metadata": {
    "collapsed": false
   },
   "outputs": [
    {
     "name": "stdout",
     "output_type": "stream",
     "text": [
      "(1797, 64)\n",
      "(1797,)\n"
     ]
    }
   ],
   "source": [
    "digits = load_digits()#载入数据\n",
    "X = digits.data#数据\n",
    "y = digits.target#标签\n",
    "print(X.shape)\n",
    "print(y.shape)"
   ]
  },
  {
   "cell_type": "code",
   "execution_count": 32,
   "metadata": {
    "collapsed": false
   },
   "outputs": [
    {
     "data": {
      "image/png": "[encoded data removed]",
      "text/plain": [
       "<matplotlib.figure.Figure at 0x20172db03c8>"
      ]
     },
     "metadata": {},
     "output_type": "display_data"
    }
   ],
   "source": [
    "import matplotlib.pyplot as plt\n",
    "\n",
    "plt.imshow(digits.images[0],cmap='gray')\n",
    "plt.show()"
   ]
  },
  {
   "cell_type": "code",
   "execution_count": 33,
   "metadata": {
    "collapsed": false
   },
   "outputs": [
    {
     "data": {
      "text/plain": [
       "array([[  0.,   0.,   5.,  13.,   9.,   1.,   0.,   0.],\n",
       "       [  0.,   0.,  13.,  15.,  10.,  15.,   5.,   0.],\n",
       "       [  0.,   3.,  15.,   2.,   0.,  11.,   8.,   0.],\n",
       "       [  0.,   4.,  12.,   0.,   0.,   8.,   8.,   0.],\n",
       "       [  0.,   5.,   8.,   0.,   0.,   9.,   8.,   0.],\n",
       "       [  0.,   4.,  11.,   0.,   1.,  12.,   7.,   0.],\n",
       "       [  0.,   2.,  14.,   5.,  10.,  12.,   0.,   0.],\n",
       "       [  0.,   0.,   6.,  13.,  10.,   0.,   0.,   0.]])"
      ]
     },
     "execution_count": 33,
     "metadata": {},
     "output_type": "execute_result"
    }
   ],
   "source": [
    "digits.images[0]"
   ]
  },
  {
   "cell_type": "code",
   "execution_count": 34,
   "metadata": {
    "collapsed": false
   },
   "outputs": [
    {
     "name": "stdout",
     "output_type": "stream",
     "text": [
      "start\n",
      "epoch: 0 accuracy: 0.0977777777778\n",
      "epoch: 1000 accuracy: 0.764444444444\n",
      "epoch: 2000 accuracy: 0.848888888889\n",
      "epoch: 3000 accuracy: 0.868888888889\n",
      "epoch: 4000 accuracy: 0.935555555556\n",
      "epoch: 5000 accuracy: 0.946666666667\n",
      "epoch: 6000 accuracy: 0.957777777778\n",
      "epoch: 7000 accuracy: 0.955555555556\n",
      "epoch: 8000 accuracy: 0.968888888889\n",
      "epoch: 9000 accuracy: 0.962222222222\n",
      "epoch: 10000 accuracy: 0.966666666667\n",
      "epoch: 11000 accuracy: 0.968888888889\n",
      "epoch: 12000 accuracy: 0.973333333333\n",
      "epoch: 13000 accuracy: 0.973333333333\n",
      "epoch: 14000 accuracy: 0.977777777778\n",
      "epoch: 15000 accuracy: 0.977777777778\n",
      "epoch: 16000 accuracy: 0.975555555556\n",
      "epoch: 17000 accuracy: 0.977777777778\n",
      "epoch: 18000 accuracy: 0.975555555556\n",
      "epoch: 19000 accuracy: 0.977777777778\n",
      "epoch: 20000 accuracy: 0.977777777778\n",
      "end\n"
     ]
    }
   ],
   "source": [
    "# 标准化\n",
    "scaler = StandardScaler()\n",
    "X = scaler.fit_transform(X)\n",
    "# 输入数据归一化\n",
    "# X -= X.min()\n",
    "# X /= X.max()\n",
    "\n",
    "nm = NeuralNetwork([64,100,10])#创建网络\n",
    "\n",
    "X_train,X_test,y_train,y_test = train_test_split(X,y) #分割数据1/4为测试数据，3/4为训练数据\n",
    "\n",
    "labels_train = LabelBinarizer().fit_transform(y_train)#标签二值化     0,8,6   0->1000000000  3->0001000000\n",
    "labels_test = LabelBinarizer().fit_transform(y_test)#标签二值化\n",
    "\n",
    "print('start')\n",
    "\n",
    "nm.train(X_train,labels_train,epochs=20000)\n",
    "\n",
    "print('end')"
   ]
  },
  {
   "cell_type": "code",
   "execution_count": null,
   "metadata": {
    "collapsed": true
   },
   "outputs": [],
   "source": []
  }
 ],
 "metadata": {
  "anaconda-cloud": {},
  "kernelspec": {
   "display_name": "Python [default]",
   "language": "python",
   "name": "python3"
  },
  "language_info": {
   "codemirror_mode": {
    "name": "ipython",
    "version": 3
   },
   "file_extension": ".py",
   "mimetype": "text/x-python",
   "name": "python",
   "nbconvert_exporter": "python",
   "pygments_lexer": "ipython3",
   "version": "3.5.2"
  }
 },
 "nbformat": 4,
 "nbformat_minor": 1
}
