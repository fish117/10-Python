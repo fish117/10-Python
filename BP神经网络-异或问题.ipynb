{
 "cells": [
  {
   "cell_type": "code",
   "execution_count": 10,
   "metadata": {
    "collapsed": true
   },
   "outputs": [],
   "source": [
    "import numpy as np"
   ]
  },
  {
   "cell_type": "code",
   "execution_count": 11,
   "metadata": {
    "collapsed": false
   },
   "outputs": [
    {
     "name": "stdout",
     "output_type": "stream",
     "text": [
      "[[-0.17166228  0.35927626 -0.44373275  0.99590698  0.39320379 -0.58916338\n",
      "  -0.90435135 -0.74277374 -0.0258937  -0.23827645]\n",
      " [ 0.23639629 -0.21972203  0.99734982 -0.13005779 -0.68159911  0.21961814\n",
      "   0.17699086  0.92232615 -0.78543149  0.85631562]\n",
      " [ 0.75597226 -0.02029629  0.15699427  0.89604604  0.88377115  0.82312848\n",
      "  -0.47507684 -0.31404143  0.34066457 -0.73532573]]\n",
      "[[-0.34697132]\n",
      " [-0.04122716]\n",
      " [ 0.77968287]\n",
      " [-0.89302276]\n",
      " [ 0.07520895]\n",
      " [-0.3063551 ]\n",
      " [ 0.61239415]\n",
      " [ 0.6611434 ]\n",
      " [-0.43924012]\n",
      " [ 0.97607243]]\n"
     ]
    }
   ],
   "source": [
    "#输入数据\n",
    "X = np.array([[1,0,0],\n",
    "              [1,0,1],\n",
    "              [1,1,0],\n",
    "              [1,1,1]])\n",
    "#标签\n",
    "Y = np.array([[0],\n",
    "              [1],\n",
    "              [1],\n",
    "              [0]])\n",
    "#权值初始化，取值范围-1到1\n",
    "V = np.random.random([3,10])*2-1 \n",
    "W = np.random.random([10,1])*2-1\n",
    "print(V)\n",
    "print(W)\n",
    "#学习率设置\n",
    "lr = 0.11\n",
    "\n",
    "def sigmoid(x):\n",
    "    return 1/(1+np.exp(-x))\n",
    "\n",
    "def dsigmoid(x):\n",
    "    return x*(1-x)\n",
    "\n",
    "def update():\n",
    "    global X,Y,W,V,lr\n",
    "    \n",
    "    # 求每一层输出\n",
    "    L1 = sigmoid(np.dot(X,V))#隐藏层输出 (4,10)\n",
    "    L2 = sigmoid(np.dot(L1,W))#输出层输出 (4,1)\n",
    "    \n",
    "    # 求每一层的学习信号\n",
    "    L2_delta = (Y - L2)*dsigmoid(L2) #(4,1)\n",
    "    L1_delta = L2_delta.dot(W.T)*dsigmoid(L1) #(4,10) \n",
    "    \n",
    "    # 求每一层权值的改变\n",
    "    W_C = lr*L1.T.dot(L2_delta)\n",
    "    V_C = lr*X.T.dot(L1_delta)\n",
    "    \n",
    "    # 改变权值\n",
    "    W = W + W_C\n",
    "    V = V + V_C"
   ]
  },
  {
   "cell_type": "code",
   "execution_count": 12,
   "metadata": {
    "collapsed": false
   },
   "outputs": [
    {
     "name": "stdout",
     "output_type": "stream",
     "text": [
      "loss: 0.129101304346\n",
      "loss: 0.124158167906\n",
      "loss: 0.120175902696\n",
      "loss: 0.105566475714\n",
      "loss: 0.0625775846097\n",
      "loss: 0.0228702886392\n",
      "loss: 0.010266350187\n",
      "loss: 0.00596511688299\n",
      "loss: 0.00402793812955\n",
      "loss: 0.00297574599093\n",
      "loss: 0.00233019597106\n",
      "loss: 0.001899680159\n",
      "loss: 0.00159479541262\n",
      "loss: 0.00136892348795\n",
      "loss: 0.00119563132716\n",
      "loss: 0.00105892177347\n",
      "loss: 0.000948596350234\n",
      "loss: 0.000857871417821\n",
      "loss: 0.000782072820601\n",
      "loss: 0.000717882699329\n",
      "[[ 0.02868221]\n",
      " [ 0.96201531]\n",
      " [ 0.9651659 ]\n",
      " [ 0.04271977]]\n",
      "0\n",
      "1\n",
      "1\n",
      "0\n"
     ]
    }
   ],
   "source": [
    "for i in range(10000):\n",
    "    update()#更新权值\n",
    "    if i%500==0:\n",
    "        L1 = sigmoid(np.dot(X,V))#隐藏层输出\n",
    "        L2 = sigmoid(np.dot(L1,W))#输出层输出\n",
    "        print('loss:',np.mean(np.square(Y-L2)/2))\n",
    "        \n",
    "L1 = sigmoid(np.dot(X,V))#隐藏层输出\n",
    "L2 = sigmoid(np.dot(L1,W))#输出层输出\n",
    "print(L2)\n",
    "\n",
    "def judge(x):\n",
    "    if x>=0.5:\n",
    "        return 1\n",
    "    else:\n",
    "        return 0\n",
    "\n",
    "for i in map(judge,L2):\n",
    "    print(i)"
   ]
  },
  {
   "cell_type": "code",
   "execution_count": null,
   "metadata": {
    "collapsed": true
   },
   "outputs": [],
   "source": []
  }
 ],
 "metadata": {
  "anaconda-cloud": {},
  "kernelspec": {
   "display_name": "Python [default]",
   "language": "python",
   "name": "python3"
  },
  "language_info": {
   "codemirror_mode": {
    "name": "ipython",
    "version": 3
   },
   "file_extension": ".py",
   "mimetype": "text/x-python",
   "name": "python",
   "nbconvert_exporter": "python",
   "pygments_lexer": "ipython3",
   "version": "3.5.2"
  }
 },
 "nbformat": 4,
 "nbformat_minor": 1
}
