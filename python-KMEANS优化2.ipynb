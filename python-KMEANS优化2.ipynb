{
 "cells": [
  {
   "cell_type": "code",
   "execution_count": 1,
   "metadata": {
    "collapsed": true
   },
   "outputs": [],
   "source": [
    "import numpy as np\n",
    "import matplotlib.pyplot as plt"
   ]
  },
  {
   "cell_type": "code",
   "execution_count": 2,
   "metadata": {
    "collapsed": true
   },
   "outputs": [],
   "source": [
    "data = np.genfromtxt('kmeans.txt',delimiter=' ')"
   ]
  },
  {
   "cell_type": "code",
   "execution_count": 3,
   "metadata": {
    "collapsed": false
   },
   "outputs": [
    {
     "data": {
      "image/png": "[encoded data removed]",
      "text/plain": [
       "<matplotlib.figure.Figure at 0x79c6588>"
      ]
     },
     "metadata": {},
     "output_type": "display_data"
    }
   ],
   "source": [
    "plt.scatter(data[:,0],data[:,1])\n",
    "plt.show()"
   ]
  },
  {
   "cell_type": "code",
   "execution_count": 4,
   "metadata": {
    "collapsed": true
   },
   "outputs": [],
   "source": [
    "def euclDistance(vector1, vector2):\n",
    "    return np.sqrt(sum((vector1-vector2)**2))\n",
    "\n",
    "def initCentroids(data, k):\n",
    "    numSamples, dim = data.shape\n",
    "    # k个质心，列数跟样本的列数一样\n",
    "    centroids = np.zeros((k, dim))\n",
    "    # 随机选出k个质心\n",
    "    for i in range(k):\n",
    "        # 随机选取一个样本的索引\n",
    "        index = int(np.random.uniform(0, numSamples))\n",
    "        # 作为初始化的质心\n",
    "        centroids[i,:] = data[index,:]\n",
    "    return centroids\n",
    "\n",
    "# 传入数据和k值\n",
    "def kmeans(data, k):\n",
    "    # 计算样本的个数\n",
    "    numSamples = data.shape[0]\n",
    "    # clusterData样本的属性，行是代表各个样本，第一列保存样本属于哪个簇，\n",
    "    # 第二列保存样本跟它所属簇的距离\n",
    "    clusterData = np.array(np.zeros((numSamples, 2)))\n",
    "    # 决定质心是否要改变\n",
    "    clusterChanged = True\n",
    "    \n",
    "    # 初始化质心\n",
    "    centroids = initCentroids(data, k)\n",
    "    \n",
    "    while clusterChanged:\n",
    "        clusterChanged = False\n",
    "        # 循环每一个样本\n",
    "        for i in range(numSamples):\n",
    "            # 最小距离\n",
    "            minDist = 100000.0\n",
    "            # 定义样本所属的簇\n",
    "            minIndex = 0\n",
    "            # 循环计算每一个质心和样本的距离\n",
    "            for j in range(k):\n",
    "                # 计算距离\n",
    "                distance = euclDistance(centroids[j,:],data[i,:])\n",
    "                if distance < minDist:\n",
    "                    # 更新最小距离\n",
    "                    minDist = distance\n",
    "                    # 更新样本所属的簇\n",
    "                    minIndex = j\n",
    "                    # 更新样本保存的最小距离\n",
    "                    clusterData[i,1] = distance\n",
    "                  \n",
    "            # 如果样本所属的簇发生改变\n",
    "            if clusterData[i,0] != minIndex:\n",
    "                # 质心发生改变\n",
    "                clusterChanged = True\n",
    "                # 更新样本的簇\n",
    "                clusterData[i,0] = minIndex\n",
    "        \n",
    "        # 更新质心\n",
    "        for j in range(k):\n",
    "            # 获取第j个簇所有的样本所在的索引\n",
    "            cluster_index = np.nonzero(clusterData[:,0]==j)\n",
    "            # 第j个簇所有的样本点\n",
    "            pointsInCluster = data[cluster_index]\n",
    "            # 计算质心\n",
    "            centroids[j,:] = np.mean(pointsInCluster,axis=0)\n",
    "        \n",
    "#         showCluster(data, k, centroids, clusterData)\n",
    "        \n",
    "    return centroids, clusterData"
   ]
  },
  {
   "cell_type": "code",
   "execution_count": 5,
   "metadata": {
    "collapsed": false
   },
   "outputs": [],
   "source": [
    "# 设置k值\n",
    "k = 4\n",
    "\n",
    "# centroids簇的中心\n",
    "# clusterData样本的属性，行是代表各个样本，第一列保存样本属于哪个簇，\n",
    "# 第二列保存样本跟它所属簇的距离\n",
    "centroids,clusterData = kmeans(data, k)"
   ]
  },
  {
   "cell_type": "code",
   "execution_count": 6,
   "metadata": {
    "collapsed": false
   },
   "outputs": [
    {
     "data": {
      "text/plain": [
       "array([[-4.04883533, -2.77633633],\n",
       "       [-0.02298687,  2.99472915],\n",
       "       [ 2.8692781 , -2.54779119],\n",
       "       [-2.38267313, -3.20383625]])"
      ]
     },
     "execution_count": 6,
     "metadata": {},
     "output_type": "execute_result"
    }
   ],
   "source": [
    "centroids"
   ]
  },
  {
   "cell_type": "code",
   "execution_count": 7,
   "metadata": {
    "collapsed": false
   },
   "outputs": [
    {
     "data": {
      "text/plain": [
       "array([[ 1.        ,  2.11994793],\n",
       "       [ 1.        ,  3.45749223],\n",
       "       [ 2.        ,  2.41369623],\n",
       "       [ 0.        ,  1.4540836 ],\n",
       "       [ 1.        ,  0.9980541 ],\n",
       "       [ 1.        ,  3.83500437],\n",
       "       [ 2.        ,  2.53359376],\n",
       "       [ 0.        ,  1.19249474],\n",
       "       [ 1.        ,  3.03400394],\n",
       "       [ 1.        ,  3.13964752],\n",
       "       [ 2.        ,  1.4819551 ],\n",
       "       [ 3.        ,  0.41745057],\n",
       "       [ 1.        ,  4.23118523],\n",
       "       [ 1.        ,  2.10097807],\n",
       "       [ 2.        ,  2.99424023],\n",
       "       [ 3.        ,  2.13042379],\n",
       "       [ 1.        ,  3.18864688],\n",
       "       [ 1.        ,  0.84257746],\n",
       "       [ 2.        ,  0.81267988],\n",
       "       [ 0.        ,  0.98488356],\n",
       "       [ 1.        ,  2.36246237],\n",
       "       [ 1.        ,  1.81754107],\n",
       "       [ 2.        ,  0.93442591],\n",
       "       [ 0.        ,  0.64547128],\n",
       "       [ 1.        ,  2.0072814 ],\n",
       "       [ 1.        ,  1.83243647],\n",
       "       [ 2.        ,  0.56551684],\n",
       "       [ 0.        ,  0.43273179],\n",
       "       [ 1.        ,  2.31430484],\n",
       "       [ 1.        ,  3.4549734 ],\n",
       "       [ 2.        ,  2.42938256],\n",
       "       [ 0.        ,  0.63692136],\n",
       "       [ 1.        ,  2.08544788],\n",
       "       [ 1.        ,  3.3913904 ],\n",
       "       [ 2.        ,  2.28858348],\n",
       "       [ 3.        ,  0.35348474],\n",
       "       [ 1.        ,  2.91149348],\n",
       "       [ 1.        ,  1.12094299],\n",
       "       [ 2.        ,  0.1155073 ],\n",
       "       [ 0.        ,  0.52200507],\n",
       "       [ 1.        ,  2.29944621],\n",
       "       [ 1.        ,  2.68698117],\n",
       "       [ 2.        ,  0.80841211],\n",
       "       [ 3.        ,  1.06138985],\n",
       "       [ 1.        ,  2.35979847],\n",
       "       [ 1.        ,  3.27368585],\n",
       "       [ 2.        ,  1.28675972],\n",
       "       [ 0.        ,  0.44794774],\n",
       "       [ 1.        ,  3.5715742 ],\n",
       "       [ 1.        ,  2.11908567],\n",
       "       [ 2.        ,  0.86073658],\n",
       "       [ 0.        ,  1.19387917],\n",
       "       [ 1.        ,  4.37482519],\n",
       "       [ 1.        ,  4.77735947],\n",
       "       [ 2.        ,  0.75391112],\n",
       "       [ 0.        ,  0.20561554],\n",
       "       [ 1.        ,  2.71952799],\n",
       "       [ 1.        ,  2.51550417],\n",
       "       [ 2.        ,  1.18526996],\n",
       "       [ 3.        ,  0.8704177 ],\n",
       "       [ 1.        ,  2.96069729],\n",
       "       [ 1.        ,  2.54194594],\n",
       "       [ 2.        ,  1.53159508],\n",
       "       [ 3.        ,  1.20569954],\n",
       "       [ 1.        ,  3.49845391],\n",
       "       [ 1.        ,  1.69554441],\n",
       "       [ 2.        ,  0.58877842],\n",
       "       [ 3.        ,  0.28679316],\n",
       "       [ 1.        ,  2.34985296],\n",
       "       [ 1.        ,  1.6636266 ],\n",
       "       [ 2.        ,  1.0845875 ],\n",
       "       [ 0.        ,  0.80750533],\n",
       "       [ 2.        ,  3.90672488],\n",
       "       [ 1.        ,  2.11319438],\n",
       "       [ 2.        ,  1.7996757 ],\n",
       "       [ 3.        ,  1.13126326],\n",
       "       [ 1.        ,  2.90749991],\n",
       "       [ 1.        ,  2.94827898],\n",
       "       [ 2.        ,  1.79036103],\n",
       "       [ 0.        ,  0.8672604 ]])"
      ]
     },
     "execution_count": 7,
     "metadata": {},
     "output_type": "execute_result"
    }
   ],
   "source": [
    "clusterData"
   ]
  },
  {
   "cell_type": "code",
   "execution_count": 8,
   "metadata": {
    "collapsed": true
   },
   "outputs": [],
   "source": [
    "# 显示结果\n",
    "def showCluster(data, k, centroids, clusterData):\n",
    "    numSamples, dim = data.shape\n",
    "    if dim !=2 :\n",
    "        print(\"dimension of your data is not 2!\")\n",
    "        return 1\n",
    "    # 用不同颜色形状来表示各个类别\n",
    "    mark = ['or','ob','og','ok','^r','+r','sr','dr','<r','pr']\n",
    "    # 画样本点\n",
    "    for i in range(numSamples):\n",
    "        # 获取样本点的类别\n",
    "        markIndex = int(clusterData[i,0])\n",
    "        plt.plot(data[i,0],data[i,1],mark[markIndex])\n",
    "    \n",
    "    # 画质心\n",
    "    mark = ['*r','*b','*g','*k','^r','+r','sr','dr','<r','pr']\n",
    "    for i in range(k):\n",
    "        plt.plot(centroids[i,0], centroids[i,1], mark[i], markersize = 20)\n",
    "    plt.show()"
   ]
  },
  {
   "cell_type": "code",
   "execution_count": 9,
   "metadata": {
    "collapsed": false
   },
   "outputs": [
    {
     "data": {
      "image/png": "[encoded data removed]",
      "text/plain": [
       "<matplotlib.figure.Figure at 0x7fac358>"
      ]
     },
     "metadata": {},
     "output_type": "display_data"
    }
   ],
   "source": [
    "showCluster(data, k, centroids, clusterData)"
   ]
  },
  {
   "cell_type": "markdown",
   "metadata": {},
   "source": [
    "# 做预测"
   ]
  },
  {
   "cell_type": "code",
   "execution_count": 10,
   "metadata": {
    "collapsed": true
   },
   "outputs": [],
   "source": [
    "x_test = [0,1]"
   ]
  },
  {
   "cell_type": "code",
   "execution_count": 11,
   "metadata": {
    "collapsed": false
   },
   "outputs": [
    {
     "data": {
      "text/plain": [
       "array([[0, 1],\n",
       "       [0, 1],\n",
       "       [0, 1],\n",
       "       [0, 1]])"
      ]
     },
     "execution_count": 11,
     "metadata": {},
     "output_type": "execute_result"
    }
   ],
   "source": [
    "np.tile(x_test,(k,1))"
   ]
  },
  {
   "cell_type": "code",
   "execution_count": 12,
   "metadata": {
    "collapsed": false
   },
   "outputs": [
    {
     "data": {
      "text/plain": [
       "array([[ 4.04883533,  3.77633633],\n",
       "       [ 0.02298687, -1.99472915],\n",
       "       [-2.8692781 ,  3.54779119],\n",
       "       [ 2.38267313,  4.20383625]])"
      ]
     },
     "execution_count": 12,
     "metadata": {},
     "output_type": "execute_result"
    }
   ],
   "source": [
    "np.tile(x_test,(k,1)) - centroids"
   ]
  },
  {
   "cell_type": "code",
   "execution_count": 13,
   "metadata": {
    "collapsed": false
   },
   "outputs": [
    {
     "data": {
      "text/plain": [
       "array([[  1.63930676e+01,   1.42607161e+01],\n",
       "       [  5.28396275e-04,   3.97894440e+00],\n",
       "       [  8.23275679e+00,   1.25868223e+01],\n",
       "       [  5.67713122e+00,   1.76722392e+01]])"
      ]
     },
     "execution_count": 13,
     "metadata": {},
     "output_type": "execute_result"
    }
   ],
   "source": [
    "(np.tile(x_test,(k,1)) - centroids)**2"
   ]
  },
  {
   "cell_type": "code",
   "execution_count": 14,
   "metadata": {
    "collapsed": false
   },
   "outputs": [
    {
     "data": {
      "text/plain": [
       "array([ 30.65378366,   3.97947279,  20.81957912,  23.34937044])"
      ]
     },
     "execution_count": 14,
     "metadata": {},
     "output_type": "execute_result"
    }
   ],
   "source": [
    "((np.tile(x_test,(k,1)) - centroids)**2).sum(axis=1)"
   ]
  },
  {
   "cell_type": "code",
   "execution_count": 15,
   "metadata": {
    "collapsed": false
   },
   "outputs": [
    {
     "data": {
      "text/plain": [
       "array([ 5.53658592,  1.9948616 ,  4.5628477 ,  4.83211863])"
      ]
     },
     "execution_count": 15,
     "metadata": {},
     "output_type": "execute_result"
    }
   ],
   "source": [
    "np.sqrt(((np.tile(x_test,(k,1)) - centroids)**2).sum(axis=1))"
   ]
  },
  {
   "cell_type": "code",
   "execution_count": 16,
   "metadata": {
    "collapsed": false
   },
   "outputs": [
    {
     "data": {
      "text/plain": [
       "1"
      ]
     },
     "execution_count": 16,
     "metadata": {},
     "output_type": "execute_result"
    }
   ],
   "source": [
    "np.argmin(np.sqrt(((np.tile(x_test,(k,1)) - centroids)**2).sum(axis=1)))"
   ]
  },
  {
   "cell_type": "code",
   "execution_count": 17,
   "metadata": {
    "collapsed": true
   },
   "outputs": [],
   "source": [
    "def predict(datas):\n",
    "    return np.array([np.argmin(np.sqrt(((np.tile(data,(k,1)) - centroids)**2).sum(axis=1))) for data in datas])"
   ]
  },
  {
   "cell_type": "markdown",
   "metadata": {},
   "source": [
    "# 画出每个簇的区域"
   ]
  },
  {
   "cell_type": "code",
   "execution_count": 18,
   "metadata": {
    "collapsed": false,
    "scrolled": true
   },
   "outputs": [
    {
     "name": "stderr",
     "output_type": "stream",
     "text": [
      "C:\\Anaconda3\\lib\\site-packages\\numpy\\ma\\core.py:6385: MaskedArrayFutureWarning: In the future the default for ma.minimum.reduce will be axis=0, not the current None, to match np.minimum.reduce. Explicitly pass 0 or None to silence this warning.\n",
      "  return self.reduce(a)\n",
      "C:\\Anaconda3\\lib\\site-packages\\numpy\\ma\\core.py:6385: MaskedArrayFutureWarning: In the future the default for ma.maximum.reduce will be axis=0, not the current None, to match np.maximum.reduce. Explicitly pass 0 or None to silence this warning.\n",
      "  return self.reduce(a)\n"
     ]
    },
    {
     "data": {
      "image/png": "[encoded data removed]",
      "text/plain": [
       "<matplotlib.figure.Figure at 0x7fa09e8>"
      ]
     },
     "metadata": {},
     "output_type": "display_data"
    }
   ],
   "source": [
    "# 获取数据值所在的范围\n",
    "x_min, x_max = data[:, 0].min() - 1, data[:, 0].max() + 1\n",
    "y_min, y_max = data[:, 1].min() - 1, data[:, 1].max() + 1\n",
    "\n",
    "# 生成网格矩阵\n",
    "xx, yy = np.meshgrid(np.arange(x_min, x_max, 0.02),\n",
    "                     np.arange(y_min, y_max, 0.02))\n",
    "\n",
    "z = predict(np.c_[xx.ravel(), yy.ravel()])# ravel与flatten类似，多维数据转一维。flatten不会改变原始数据，ravel会改变原始数据\n",
    "z = z.reshape(xx.shape)\n",
    "# 等高线图\n",
    "cs = plt.contourf(xx, yy, z)\n",
    "\n",
    "showCluster(data, k, centroids, clusterData)"
   ]
  },
  {
   "cell_type": "code",
   "execution_count": 19,
   "metadata": {
    "collapsed": false
   },
   "outputs": [
    {
     "data": {
      "text/plain": [
       "array([1, 1, 2, 0, 1, 1, 2, 0, 1, 1, 2, 3, 1, 1, 2, 3, 1, 1, 2, 0, 1, 1, 2,\n",
       "       0, 1, 1, 2, 0, 1, 1, 2, 0, 1, 1, 2, 3, 1, 1, 2, 0, 1, 1, 2, 3, 1, 1,\n",
       "       2, 0, 1, 1, 2, 0, 1, 1, 2, 0, 1, 1, 2, 3, 1, 1, 2, 3, 1, 1, 2, 3, 1,\n",
       "       1, 2, 0, 2, 1, 2, 3, 1, 1, 2, 0], dtype=int64)"
      ]
     },
     "execution_count": 19,
     "metadata": {},
     "output_type": "execute_result"
    }
   ],
   "source": [
    "predict(data)"
   ]
  },
  {
   "cell_type": "code",
   "execution_count": 24,
   "metadata": {
    "collapsed": false,
    "scrolled": true
   },
   "outputs": [
    {
     "name": "stderr",
     "output_type": "stream",
     "text": [
      "C:\\Anaconda3\\lib\\site-packages\\numpy\\core\\fromnumeric.py:2909: RuntimeWarning: Mean of empty slice.\n",
      "  out=out, **kwargs)\n",
      "C:\\Anaconda3\\lib\\site-packages\\numpy\\core\\_methods.py:73: RuntimeWarning: invalid value encountered in true_divide\n",
      "  ret, rcount, out=ret, casting='unsafe', subok=False)\n"
     ]
    },
    {
     "data": {
      "image/png": "[encoded data removed]",
      "text/plain": [
       "<matplotlib.figure.Figure at 0x910b5f8>"
      ]
     },
     "metadata": {},
     "output_type": "display_data"
    }
   ],
   "source": [
    "\n",
    "list_loss = []\n",
    "\n",
    "for k in range(2,10):\n",
    "    min_loss = 10000\n",
    "    min_loss_centroids = np.array([])\n",
    "    min_loss_clusterData = np.array([])\n",
    "    for i in range(50):\n",
    "        # centroids簇的中心\n",
    "        # clusterData样本的属性，行是代表各个样本，第一列保存样本属于哪个簇，\n",
    "        # 第二列保存样本跟它所属簇的距离\n",
    "        centroids,clusterData = kmeans(data, k)\n",
    "        loss = sum((clusterData[:,1])**2)/data.shape[0]\n",
    "        if loss < min_loss:\n",
    "            min_loss = loss\n",
    "            min_loss_centroids = centroids\n",
    "            min_loss_clusterData = clusterData\n",
    "    list_loss.append(min_loss)\n",
    "        \n",
    "plt.plot(range(2,10),list_loss)\n",
    "plt.xlabel('k')\n",
    "plt.ylabel('loss')\n",
    "plt.show()"
   ]
  },
  {
   "cell_type": "code",
   "execution_count": null,
   "metadata": {
    "collapsed": true
   },
   "outputs": [],
   "source": []
  }
 ],
 "metadata": {
  "anaconda-cloud": {},
  "kernelspec": {
   "display_name": "Python [default]",
   "language": "python",
   "name": "python3"
  },
  "language_info": {
   "codemirror_mode": {
    "name": "ipython",
    "version": 3
   },
   "file_extension": ".py",
   "mimetype": "text/x-python",
   "name": "python",
   "nbconvert_exporter": "python",
   "pygments_lexer": "ipython3",
   "version": "3.5.2"
  }
 },
 "nbformat": 4,
 "nbformat_minor": 1
}
