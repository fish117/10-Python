{
 "cells": [
  {
   "cell_type": "code",
   "execution_count": 1,
   "metadata": {
    "collapsed": true
   },
   "outputs": [],
   "source": [
    "import numpy as np\n",
    "import matplotlib.pyplot as plt"
   ]
  },
  {
   "cell_type": "code",
   "execution_count": 16,
   "metadata": {
    "collapsed": false
   },
   "outputs": [
    {
     "name": "stdout",
     "output_type": "stream",
     "text": [
      "[[ 0.60337459]\n",
      " [-0.45137436]\n",
      " [-0.86376035]\n",
      " [ 0.11038777]\n",
      " [-0.65095923]\n",
      " [ 0.51375826]]\n"
     ]
    }
   ],
   "source": [
    "# 00\n",
    "# 01\n",
    "# 10\n",
    "# 11\n",
    "#输入数据(x0,x1,x2,x1*x1,x1*x2,x2*x2)\n",
    "X = np.array([[1,0,0,0,0,0],\n",
    "              [1,0,1,0,0,1],\n",
    "              [1,1,0,1,0,0],\n",
    "              [1,1,1,1,1,1]])\n",
    "#标签\n",
    "Y = np.array([[-1],\n",
    "              [1],\n",
    "              [1],\n",
    "              [-1]])\n",
    "\n",
    "#权值初始化，6行1列，取值范围-1到1\n",
    "W = (np.random.random([6,1])-0.5)*2\n",
    "print(W)\n",
    "#学习率设置\n",
    "lr = 0.11\n",
    "#计算迭代次数\n",
    "n = 0\n",
    "#神经网络输出\n",
    "O = 0\n",
    "\n",
    "def update():\n",
    "    global X,Y,W,lr\n",
    "    O = np.dot(X,W)\n",
    "    W_C = lr*(X.T.dot(Y-O))/int(X.shape[0])\n",
    "    W = W + W_C"
   ]
  },
  {
   "cell_type": "code",
   "execution_count": 17,
   "metadata": {
    "collapsed": false
   },
   "outputs": [
    {
     "data": {
      "image/png": "[encoded data removed]",
      "text/plain": [
       "<matplotlib.figure.Figure at 0x8081278>"
      ]
     },
     "metadata": {},
     "output_type": "display_data"
    },
    {
     "name": "stdout",
     "output_type": "stream",
     "text": [
      "[[-0.99143196]\n",
      " [ 0.71197415]\n",
      " [ 0.30409591]\n",
      " [ 1.27373628]\n",
      " [-3.9755617 ]\n",
      " [ 1.68161452]]\n"
     ]
    }
   ],
   "source": [
    "for _ in range(1000):\n",
    "    update()#更新权值\n",
    "\n",
    "#正样本\n",
    "x1 = [0,1]\n",
    "y1 = [1,0]\n",
    "#负样本\n",
    "x2 = [0,1]\n",
    "y2 = [0,1]\n",
    "\n",
    "def calculate(x,root):\n",
    "    a = W[5]\n",
    "    b = W[2]+x*W[4]\n",
    "    c = W[0]+x*W[1]+x*x*W[3]\n",
    "    if root==1:\n",
    "        return (-b+np.sqrt(b*b-4*a*c))/(2*a)\n",
    "    if root==2:\n",
    "        return (-b-np.sqrt(b*b-4*a*c))/(2*a)\n",
    "    \n",
    "\n",
    "xdata = np.linspace(-1,2)\n",
    "\n",
    "plt.figure()\n",
    "\n",
    "plt.plot(xdata,calculate(xdata,1),'r')\n",
    "plt.plot(xdata,calculate(xdata,2),'r')\n",
    "\n",
    "plt.scatter(x1,y1,c='b')\n",
    "plt.scatter(x2,y2,c='y')\n",
    "plt.show()\n",
    "\n",
    "print(W)"
   ]
  },
  {
   "cell_type": "code",
   "execution_count": 18,
   "metadata": {
    "collapsed": false
   },
   "outputs": [
    {
     "name": "stdout",
     "output_type": "stream",
     "text": [
      "[[-0.99143196]\n",
      " [ 0.99427847]\n",
      " [ 0.99427847]\n",
      " [-0.9955728 ]]\n"
     ]
    }
   ],
   "source": [
    "O = np.dot(X,W)\n",
    "print(O)"
   ]
  },
  {
   "cell_type": "code",
   "execution_count": null,
   "metadata": {
    "collapsed": true
   },
   "outputs": [],
   "source": []
  },
  {
   "cell_type": "code",
   "execution_count": null,
   "metadata": {
    "collapsed": true
   },
   "outputs": [],
   "source": []
  }
 ],
 "metadata": {
  "anaconda-cloud": {},
  "kernelspec": {
   "display_name": "Python [default]",
   "language": "python",
   "name": "python3"
  },
  "language_info": {
   "codemirror_mode": {
    "name": "ipython",
    "version": 3
   },
   "file_extension": ".py",
   "mimetype": "text/x-python",
   "name": "python",
   "nbconvert_exporter": "python",
   "pygments_lexer": "ipython3",
   "version": "3.5.2"
  }
 },
 "nbformat": 4,
 "nbformat_minor": 1
}
