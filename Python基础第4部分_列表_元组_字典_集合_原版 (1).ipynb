{
 "cells": [
  {
   "cell_type": "markdown",
   "metadata": {
    "toc": true
   },
   "source": [
    "<h1>Table of Contents<span class=\"tocSkip\"></span></h1>\n",
    "<div class=\"toc\"><ul class=\"toc-item\"><li><span><a href=\"#列表\" data-toc-modified-id=\"列表-1\"><span class=\"toc-item-num\">1&nbsp;&nbsp;</span>列表</a></span><ul class=\"toc-item\"><li><span><a href=\"#列表的索引和切片\" data-toc-modified-id=\"列表的索引和切片-1.1\"><span class=\"toc-item-num\">1.1&nbsp;&nbsp;</span>列表的索引和切片</a></span></li><li><span><a href=\"#列表的常用方法\" data-toc-modified-id=\"列表的常用方法-1.2\"><span class=\"toc-item-num\">1.2&nbsp;&nbsp;</span>列表的常用方法</a></span><ul class=\"toc-item\"><li><span><a href=\"#修改元素\" data-toc-modified-id=\"修改元素-1.2.1\"><span class=\"toc-item-num\">1.2.1&nbsp;&nbsp;</span>修改元素</a></span></li><li><span><a href=\"#append\" data-toc-modified-id=\"append-1.2.2\"><span class=\"toc-item-num\">1.2.2&nbsp;&nbsp;</span>append</a></span></li><li><span><a href=\"#extend\" data-toc-modified-id=\"extend-1.2.3\"><span class=\"toc-item-num\">1.2.3&nbsp;&nbsp;</span>extend</a></span></li><li><span><a href=\"#insert\" data-toc-modified-id=\"insert-1.2.4\"><span class=\"toc-item-num\">1.2.4&nbsp;&nbsp;</span>insert</a></span></li><li><span><a href=\"#查找元素-in-not-in-index-count\" data-toc-modified-id=\"查找元素-in-not-in-index-count-1.2.5\"><span class=\"toc-item-num\">1.2.5&nbsp;&nbsp;</span>查找元素 in not in index count</a></span></li><li><span><a href=\"#删除元素del-pop-remove\" data-toc-modified-id=\"删除元素del-pop-remove-1.2.6\"><span class=\"toc-item-num\">1.2.6&nbsp;&nbsp;</span>删除元素del pop remove</a></span></li><li><span><a href=\"#对元素排序sort-reverse\" data-toc-modified-id=\"对元素排序sort-reverse-1.2.7\"><span class=\"toc-item-num\">1.2.7&nbsp;&nbsp;</span>对元素排序sort reverse</a></span></li></ul></li><li><span><a href=\"#列表生成式List-Comprehensions(选讲)\" data-toc-modified-id=\"列表生成式List-Comprehensions(选讲)-1.3\"><span class=\"toc-item-num\">1.3&nbsp;&nbsp;</span>列表生成式List Comprehensions(选讲)</a></span></li><li><span><a href=\"#列表生成器(不讲)\" data-toc-modified-id=\"列表生成器(不讲)-1.4\"><span class=\"toc-item-num\">1.4&nbsp;&nbsp;</span>列表生成器(不讲)</a></span></li><li><span><a href=\"#小练习:-请用索引取出下面list的指定元素：\" data-toc-modified-id=\"小练习:-请用索引取出下面list的指定元素：-1.5\"><span class=\"toc-item-num\">1.5&nbsp;&nbsp;</span>小练习: 请用索引取出下面list的指定元素：</a></span></li></ul></li><li><span><a href=\"#元组(Turple)\" data-toc-modified-id=\"元组(Turple)-2\"><span class=\"toc-item-num\">2&nbsp;&nbsp;</span>元组(Turple)</a></span><ul class=\"toc-item\"><li><span><a href=\"#元组运算符\" data-toc-modified-id=\"元组运算符-2.1\"><span class=\"toc-item-num\">2.1&nbsp;&nbsp;</span>元组运算符</a></span></li></ul></li><li><span><a href=\"#字典dict\" data-toc-modified-id=\"字典dict-3\"><span class=\"toc-item-num\">3&nbsp;&nbsp;</span>字典dict</a></span><ul class=\"toc-item\"><li><span><a href=\"#创建字典\" data-toc-modified-id=\"创建字典-3.1\"><span class=\"toc-item-num\">3.1&nbsp;&nbsp;</span>创建字典</a></span></li><li><span><a href=\"#字典赋值或更改\" data-toc-modified-id=\"字典赋值或更改-3.2\"><span class=\"toc-item-num\">3.2&nbsp;&nbsp;</span>字典赋值或更改</a></span></li><li><span><a href=\"#判断key是否存在\" data-toc-modified-id=\"判断key是否存在-3.3\"><span class=\"toc-item-num\">3.3&nbsp;&nbsp;</span>判断key是否存在</a></span></li><li><span><a href=\"#删除字典元素\" data-toc-modified-id=\"删除字典元素-3.4\"><span class=\"toc-item-num\">3.4&nbsp;&nbsp;</span>删除字典元素</a></span></li><li><span><a href=\"#字典常见操作\" data-toc-modified-id=\"字典常见操作-3.5\"><span class=\"toc-item-num\">3.5&nbsp;&nbsp;</span>字典常见操作</a></span></li><li><span><a href=\"#遍历字典\" data-toc-modified-id=\"遍历字典-3.6\"><span class=\"toc-item-num\">3.6&nbsp;&nbsp;</span>遍历字典</a></span></li><li><span><a href=\"#将其他数据处理成字典\" data-toc-modified-id=\"将其他数据处理成字典-3.7\"><span class=\"toc-item-num\">3.7&nbsp;&nbsp;</span>将其他数据处理成字典</a></span></li></ul></li><li><span><a href=\"#集合-Set\" data-toc-modified-id=\"集合-Set-4\"><span class=\"toc-item-num\">4&nbsp;&nbsp;</span>集合 Set</a></span></li><li><span><a href=\"#不可变对象\" data-toc-modified-id=\"不可变对象-5\"><span class=\"toc-item-num\">5&nbsp;&nbsp;</span>不可变对象</a></span></li></ul></div>"
   ]
  },
  {
   "cell_type": "markdown",
   "metadata": {},
   "source": [
    "## 列表"
   ]
  },
  {
   "cell_type": "markdown",
   "metadata": {},
   "source": [
    "当我们有一百个变量要储存起来的时候,总不能弄一百个变量啊,怎么办的,用列表."
   ]
  },
  {
   "cell_type": "markdown",
   "metadata": {},
   "source": [
    "我对列表的理解, 我们就把它当成一个大桶, 当我们有一堆东西需要找个地方临时存放在一起, 以便后续进行排序, 筛选等操作, 就弄一个列表, 先放进去."
   ]
  },
  {
   "cell_type": "code",
   "execution_count": 68,
   "metadata": {
    "collapsed": true
   },
   "outputs": [],
   "source": [
    "list1 = [1, 2, 3,'on','go',True,False,None]"
   ]
  },
  {
   "cell_type": "code",
   "execution_count": null,
   "metadata": {
    "collapsed": true
   },
   "outputs": [],
   "source": []
  },
  {
   "cell_type": "markdown",
   "metadata": {},
   "source": [
    "### 列表的索引和切片"
   ]
  },
  {
   "cell_type": "markdown",
   "metadata": {},
   "source": [
    "list是一种有序的集合，可以随时添加和删除其中的元素。\n",
    "也就是说列表是内部元素可变的一个容器mutable"
   ]
  },
  {
   "cell_type": "markdown",
   "metadata": {},
   "source": [
    "列表和字符串一样,是一种可迭代对象.\n",
    "\n",
    "因此可以和字符串一样进行索引和切片.语法方面是一样的."
   ]
  },
  {
   "cell_type": "code",
   "execution_count": null,
   "metadata": {
    "collapsed": true
   },
   "outputs": [],
   "source": [
    "l = [1,2,3,4,5,6,7,8,9,0]"
   ]
  },
  {
   "cell_type": "code",
   "execution_count": null,
   "metadata": {
    "collapsed": true
   },
   "outputs": [],
   "source": [
    "l[-2:0:-3]"
   ]
  },
  {
   "cell_type": "code",
   "execution_count": null,
   "metadata": {
    "collapsed": true
   },
   "outputs": [],
   "source": [
    "a[1::2]"
   ]
  },
  {
   "cell_type": "code",
   "execution_count": 72,
   "metadata": {},
   "outputs": [
    {
     "data": {
      "text/plain": [
       "1"
      ]
     },
     "execution_count": 72,
     "metadata": {},
     "output_type": "execute_result"
    },
    {
     "data": {
      "text/plain": [
       "2"
      ]
     },
     "execution_count": 72,
     "metadata": {},
     "output_type": "execute_result"
    },
    {
     "data": {
      "text/plain": [
       "False"
      ]
     },
     "execution_count": 72,
     "metadata": {},
     "output_type": "execute_result"
    }
   ],
   "source": [
    "list1[0]\n",
    "list1[1]\n",
    "list1[-2]"
   ]
  },
  {
   "cell_type": "markdown",
   "metadata": {},
   "source": [
    "L[起始位置:终止位置:步长]  # 包含起始位置,不包含终止位置"
   ]
  },
  {
   "cell_type": "code",
   "execution_count": null,
   "metadata": {
    "collapsed": true
   },
   "outputs": [],
   "source": [
    "L[0:3:1]"
   ]
  },
  {
   "cell_type": "code",
   "execution_count": null,
   "metadata": {
    "collapsed": true
   },
   "outputs": [],
   "source": [
    "L[:3:]"
   ]
  },
  {
   "cell_type": "code",
   "execution_count": 103,
   "metadata": {},
   "outputs": [
    {
     "data": {
      "text/plain": [
       "['Superman', 'Hulk', 'Spiderman']"
      ]
     },
     "execution_count": 103,
     "metadata": {},
     "output_type": "execute_result"
    }
   ],
   "source": [
    "L[:3]"
   ]
  },
  {
   "cell_type": "code",
   "execution_count": 104,
   "metadata": {},
   "outputs": [
    {
     "data": {
      "text/plain": [
       "['Hulk']"
      ]
     },
     "execution_count": 104,
     "metadata": {},
     "output_type": "execute_result"
    }
   ],
   "source": [
    "L[-3:0:-1]"
   ]
  },
  {
   "cell_type": "code",
   "execution_count": null,
   "metadata": {
    "collapsed": true
   },
   "outputs": [],
   "source": []
  },
  {
   "cell_type": "code",
   "execution_count": 77,
   "metadata": {},
   "outputs": [
    {
     "data": {
      "text/plain": [
       "[None, False, True, 'go', 'on', 3, 2, 1]"
      ]
     },
     "execution_count": 77,
     "metadata": {},
     "output_type": "execute_result"
    },
    {
     "data": {
      "text/plain": [
       "[None, True, 'on', 2]"
      ]
     },
     "execution_count": 77,
     "metadata": {},
     "output_type": "execute_result"
    },
    {
     "data": {
      "text/plain": [
       "[False, True, 'go', 'on', 3, 2]"
      ]
     },
     "execution_count": 77,
     "metadata": {},
     "output_type": "execute_result"
    }
   ],
   "source": [
    "list1[::-1]\n",
    "list1[::-2]\n",
    "list1[-2:0:-1]"
   ]
  },
  {
   "cell_type": "code",
   "execution_count": 146,
   "metadata": {},
   "outputs": [
    {
     "data": {
      "text/plain": [
       "[1, 2, 3]"
      ]
     },
     "execution_count": 146,
     "metadata": {},
     "output_type": "execute_result"
    }
   ],
   "source": [
    "list2"
   ]
  },
  {
   "cell_type": "markdown",
   "metadata": {},
   "source": [
    "### 列表的常用方法"
   ]
  },
  {
   "cell_type": "markdown",
   "metadata": {},
   "source": [
    "#### 修改元素\n",
    "\n",
    "通过元素的索引位置来索引元素"
   ]
  },
  {
   "cell_type": "code",
   "execution_count": null,
   "metadata": {
    "collapsed": true
   },
   "outputs": [],
   "source": []
  },
  {
   "cell_type": "markdown",
   "metadata": {},
   "source": [
    "添加元素\n",
    "\n",
    "#### append\n",
    "\n",
    "通过append可以向列表添加元素"
   ]
  },
  {
   "cell_type": "code",
   "execution_count": 81,
   "metadata": {},
   "outputs": [
    {
     "data": {
      "text/plain": [
       "['Superman', 'Hulk', 'Spiderman', 'Leifengxia']"
      ]
     },
     "execution_count": 81,
     "metadata": {},
     "output_type": "execute_result"
    }
   ],
   "source": [
    "L = ['Superman','Hulk','Spiderman']\n",
    "L.append('Leifengxia')\n",
    "L"
   ]
  },
  {
   "cell_type": "markdown",
   "metadata": {},
   "source": [
    "#### extend\n",
    "\n",
    "通过extend可以将另一个集合中的元素逐一添加到列表中"
   ]
  },
  {
   "cell_type": "code",
   "execution_count": 84,
   "metadata": {
    "collapsed": true
   },
   "outputs": [],
   "source": [
    "a = [1,2]\n",
    "b = [3,4]"
   ]
  },
  {
   "cell_type": "code",
   "execution_count": 85,
   "metadata": {},
   "outputs": [
    {
     "data": {
      "text/plain": [
       "[1, 2, [3, 4]]"
      ]
     },
     "execution_count": 85,
     "metadata": {},
     "output_type": "execute_result"
    },
    {
     "data": {
      "text/plain": [
       "[1, 2, [3, 4], 3, 4]"
      ]
     },
     "execution_count": 85,
     "metadata": {},
     "output_type": "execute_result"
    }
   ],
   "source": [
    "a.append(b)\n",
    "a\n",
    "a.extend(b)\n",
    "a"
   ]
  },
  {
   "cell_type": "markdown",
   "metadata": {},
   "source": [
    "#### insert\n",
    "\n",
    "insert(index, object) 在指定位置index前插入元素object"
   ]
  },
  {
   "cell_type": "code",
   "execution_count": null,
   "metadata": {
    "collapsed": true
   },
   "outputs": [],
   "source": [
    "a = [0, 1, 2]\n",
    "a.insert(1, 3)\n",
    "a\n",
    "[0, 3, 1, 2]"
   ]
  },
  {
   "cell_type": "markdown",
   "metadata": {},
   "source": [
    "#### 查找元素 in not in index count"
   ]
  },
  {
   "cell_type": "code",
   "execution_count": 91,
   "metadata": {
    "scrolled": false
   },
   "outputs": [
    {
     "data": {
      "text/plain": [
       "[1, 2, [3, 4], 3, 4]"
      ]
     },
     "execution_count": 91,
     "metadata": {},
     "output_type": "execute_result"
    },
    {
     "data": {
      "text/plain": [
       "True"
      ]
     },
     "execution_count": 91,
     "metadata": {},
     "output_type": "execute_result"
    },
    {
     "data": {
      "text/plain": [
       "True"
      ]
     },
     "execution_count": 91,
     "metadata": {},
     "output_type": "execute_result"
    },
    {
     "data": {
      "text/plain": [
       "False"
      ]
     },
     "execution_count": 91,
     "metadata": {},
     "output_type": "execute_result"
    }
   ],
   "source": [
    "a\n",
    "2 in a\n",
    "0 not in a\n",
    "1 not in a"
   ]
  },
  {
   "cell_type": "markdown",
   "metadata": {},
   "source": [
    "#### 删除元素del pop remove"
   ]
  },
  {
   "cell_type": "markdown",
   "metadata": {},
   "source": [
    "del：根据下标进行删除\n",
    "pop：删除最后一个元素\n",
    "remove：根据元素的值进行删除"
   ]
  },
  {
   "cell_type": "code",
   "execution_count": 158,
   "metadata": {},
   "outputs": [
    {
     "data": {
      "text/plain": [
       "3"
      ]
     },
     "execution_count": 158,
     "metadata": {},
     "output_type": "execute_result"
    }
   ],
   "source": [
    "list1.pop()"
   ]
  },
  {
   "cell_type": "code",
   "execution_count": 93,
   "metadata": {},
   "outputs": [
    {
     "data": {
      "text/plain": [
       "[1, 2, [3, 4], 3, 4]"
      ]
     },
     "execution_count": 93,
     "metadata": {},
     "output_type": "execute_result"
    },
    {
     "data": {
      "text/plain": [
       "[1, 2, 3, 4]"
      ]
     },
     "execution_count": 93,
     "metadata": {},
     "output_type": "execute_result"
    }
   ],
   "source": [
    "a\n",
    "del a[2]\n",
    "a"
   ]
  },
  {
   "cell_type": "code",
   "execution_count": 96,
   "metadata": {},
   "outputs": [
    {
     "data": {
      "text/plain": [
       "[1, 3, 4]"
      ]
     },
     "execution_count": 96,
     "metadata": {},
     "output_type": "execute_result"
    },
    {
     "data": {
      "text/plain": [
       "2"
      ]
     },
     "execution_count": 96,
     "metadata": {},
     "output_type": "execute_result"
    }
   ],
   "source": [
    "a = [1,2,3,4]\n",
    "b = a.pop(1)\n",
    "a\n",
    "b"
   ]
  },
  {
   "cell_type": "code",
   "execution_count": 97,
   "metadata": {},
   "outputs": [
    {
     "data": {
      "text/plain": [
       "['加勒比海盗', '第一滴血', '指环王', '霍比特人', '速度与激情']"
      ]
     },
     "execution_count": 97,
     "metadata": {},
     "output_type": "execute_result"
    }
   ],
   "source": [
    "movieName = ['加勒比海盗','骇客帝国','第一滴血','指环王','霍比特人','速度与激情']\n",
    "movieName.remove('骇客帝国')\n",
    "movieName"
   ]
  },
  {
   "cell_type": "markdown",
   "metadata": {},
   "source": [
    "#### 对元素排序sort reverse"
   ]
  },
  {
   "cell_type": "code",
   "execution_count": null,
   "metadata": {
    "collapsed": true
   },
   "outputs": [],
   "source": [
    "排序(sort, reverse)\n",
    "sort方法是将list按特定顺序重新排列，默认为由小到大，参数reverse=True可改为倒序，由大到小。\n",
    "reverse方法是将list逆置。"
   ]
  },
  {
   "cell_type": "code",
   "execution_count": 99,
   "metadata": {},
   "outputs": [
    {
     "data": {
      "text/plain": [
       "[1, 4, 2, 3]"
      ]
     },
     "execution_count": 99,
     "metadata": {},
     "output_type": "execute_result"
    },
    {
     "data": {
      "text/plain": [
       "[3, 2, 4, 1]"
      ]
     },
     "execution_count": 99,
     "metadata": {},
     "output_type": "execute_result"
    }
   ],
   "source": [
    "a = [1, 4, 2, 3]\n",
    "a\n",
    "a.reverse()\n",
    "a"
   ]
  },
  {
   "cell_type": "code",
   "execution_count": 102,
   "metadata": {},
   "outputs": [
    {
     "data": {
      "text/plain": [
       "[1, 4, 2, 3]"
      ]
     },
     "execution_count": 102,
     "metadata": {},
     "output_type": "execute_result"
    },
    {
     "data": {
      "text/plain": [
       "[1, 2, 3, 4]"
      ]
     },
     "execution_count": 102,
     "metadata": {},
     "output_type": "execute_result"
    },
    {
     "data": {
      "text/plain": [
       "[4, 3, 2, 1]"
      ]
     },
     "execution_count": 102,
     "metadata": {},
     "output_type": "execute_result"
    }
   ],
   "source": [
    "a = [1, 4, 2, 3]\n",
    "a\n",
    "a.sort()\n",
    "a\n",
    "a.sort(reverse=True)\n",
    "a"
   ]
  },
  {
   "cell_type": "code",
   "execution_count": null,
   "metadata": {
    "collapsed": true
   },
   "outputs": [],
   "source": []
  },
  {
   "cell_type": "code",
   "execution_count": 156,
   "metadata": {
    "collapsed": true
   },
   "outputs": [],
   "source": [
    "list2 = list1.copy()"
   ]
  },
  {
   "cell_type": "code",
   "execution_count": 160,
   "metadata": {},
   "outputs": [
    {
     "data": {
      "text/plain": [
       "[1, 2, 3]"
      ]
     },
     "execution_count": 160,
     "metadata": {},
     "output_type": "execute_result"
    }
   ],
   "source": [
    "list2"
   ]
  },
  {
   "cell_type": "code",
   "execution_count": 31,
   "metadata": {
    "collapsed": true
   },
   "outputs": [],
   "source": [
    "names = ['raymond', 'rachel', 'matthew', 'roger',\n",
    "         'betty', 'melissa', 'judith', 'charlie']"
   ]
  },
  {
   "cell_type": "code",
   "execution_count": 33,
   "metadata": {},
   "outputs": [
    {
     "name": "stdout",
     "output_type": "stream",
     "text": [
      "raymond, rachel, matthew, roger, betty, melissa, judith, charlie\n"
     ]
    }
   ],
   "source": [
    "s = names[0]\n",
    "for name in names[1:]:\n",
    "    s += ', ' + name\n",
    "print (s)\n",
    "\n"
   ]
  },
  {
   "cell_type": "code",
   "execution_count": 35,
   "metadata": {},
   "outputs": [
    {
     "name": "stdout",
     "output_type": "stream",
     "text": [
      "raymond, rachel, matthew, roger, betty, melissa, judith, charlie\n"
     ]
    }
   ],
   "source": [
    "print( ', '.join(names))"
   ]
  },
  {
   "cell_type": "code",
   "execution_count": 38,
   "metadata": {},
   "outputs": [
    {
     "data": {
      "text/plain": [
       "'raymond---->rachel---->matthew---->roger---->betty---->melissa---->judith---->charlie'"
      ]
     },
     "execution_count": 38,
     "metadata": {},
     "output_type": "execute_result"
    }
   ],
   "source": [
    "'---->'.join(names)"
   ]
  },
  {
   "cell_type": "code",
   "execution_count": null,
   "metadata": {
    "collapsed": true
   },
   "outputs": [],
   "source": []
  },
  {
   "cell_type": "code",
   "execution_count": 30,
   "metadata": {
    "collapsed": true
   },
   "outputs": [
    {
     "name": "stdout",
     "output_type": "stream",
     "text": [
      "0 ---> red\n",
      "1 ---> green\n",
      "2 ---> blue\n",
      "3 ---> yellow\n",
      "0 ----> red\n",
      "1 ----> green\n",
      "2 ----> blue\n",
      "3 ----> yellow\n",
      "0 ----> red\n",
      "1 ----> green\n",
      "2 ----> blue\n",
      "3 ----> yellow\n"
     ]
    }
   ],
   "source": [
    "colors = ['red', 'green', 'blue', 'yellow']\n",
    "\n",
    "n = 0\n",
    "for i in colors:\n",
    "    print(n, \"--->\", colors[n])\n",
    "    n+=1\n",
    "\n",
    "for i in range(len(colors)):\n",
    "    print(i , \"---->\", colors[i])\n",
    "\n",
    "for i, color in enumerate(colors):\n",
    "    print(i, \"---->\", color)"
   ]
  },
  {
   "cell_type": "markdown",
   "metadata": {},
   "source": [
    "### 列表生成式List Comprehensions(选讲)"
   ]
  },
  {
   "cell_type": "markdown",
   "metadata": {},
   "source": [
    "如果我们想要生成一个由1 - 10的数字组成的列表,都有什么办法呢?"
   ]
  },
  {
   "cell_type": "code",
   "execution_count": 112,
   "metadata": {},
   "outputs": [
    {
     "data": {
      "text/plain": [
       "[1, 2, 3, 4, 5, 6, 7, 8, 9, 10, 1, 2, 3, 4, 5, 6, 7, 8, 9, 10]"
      ]
     },
     "execution_count": 112,
     "metadata": {},
     "output_type": "execute_result"
    }
   ],
   "source": [
    "a = [1,2,3,4,5,6,7,8,9,10]\n",
    "a"
   ]
  },
  {
   "cell_type": "code",
   "execution_count": 106,
   "metadata": {},
   "outputs": [
    {
     "data": {
      "text/plain": [
       "[1, 2, 3, 4, 5, 6, 7, 8, 9, 10]"
      ]
     },
     "execution_count": 106,
     "metadata": {},
     "output_type": "execute_result"
    }
   ],
   "source": [
    "list(range(1,11))"
   ]
  },
  {
   "cell_type": "code",
   "execution_count": 107,
   "metadata": {},
   "outputs": [
    {
     "data": {
      "text/plain": [
       "[1, 2, 3, 4, 5, 6, 7, 8, 9, 10]"
      ]
     },
     "execution_count": 107,
     "metadata": {},
     "output_type": "execute_result"
    }
   ],
   "source": [
    "L = []\n",
    "for i in range(1,11):\n",
    "    L.append(i)\n",
    "L"
   ]
  },
  {
   "cell_type": "code",
   "execution_count": 114,
   "metadata": {},
   "outputs": [
    {
     "data": {
      "text/plain": [
       "[1, 2, 3, 4, 5, 6, 7, 8, 9, 10]"
      ]
     },
     "execution_count": 114,
     "metadata": {},
     "output_type": "execute_result"
    }
   ],
   "source": [
    "# 把上面的循环代码整合一下\n",
    "[关于i的表达式 for i in range(1,11) ]"
   ]
  },
  {
   "cell_type": "code",
   "execution_count": 116,
   "metadata": {},
   "outputs": [
    {
     "data": {
      "text/plain": [
       "[1, 4, 9, 16, 25, 36, 49, 64, 81, 100]"
      ]
     },
     "execution_count": 116,
     "metadata": {},
     "output_type": "execute_result"
    }
   ],
   "source": [
    "[x**2 for x in range(1,11)]"
   ]
  },
  {
   "cell_type": "code",
   "execution_count": 117,
   "metadata": {},
   "outputs": [
    {
     "data": {
      "text/plain": [
       "[2, 4, 6, 8, 10]"
      ]
     },
     "execution_count": 117,
     "metadata": {},
     "output_type": "execute_result"
    }
   ],
   "source": [
    "# 生成偶数序列\n",
    "[i for i in range(1,11) if i % 2 == 0]"
   ]
  },
  {
   "cell_type": "code",
   "execution_count": 118,
   "metadata": {
    "collapsed": true
   },
   "outputs": [
    {
     "data": {
      "text/plain": [
       "[101,\n",
       " 102,\n",
       " 103,\n",
       " 104,\n",
       " 105,\n",
       " 106,\n",
       " 107,\n",
       " 108,\n",
       " 109,\n",
       " 110,\n",
       " 102,\n",
       " 103,\n",
       " 104,\n",
       " 105,\n",
       " 106,\n",
       " 107,\n",
       " 108,\n",
       " 109,\n",
       " 110,\n",
       " 111]"
      ]
     },
     "execution_count": 118,
     "metadata": {},
     "output_type": "execute_result"
    }
   ],
   "source": [
    "[ i+j for i in range(1,3) for j in range(100,110)]"
   ]
  },
  {
   "cell_type": "code",
   "execution_count": null,
   "metadata": {
    "collapsed": true
   },
   "outputs": [],
   "source": [
    "[m+n for m in 'ABC' for n in 'XYZ']"
   ]
  },
  {
   "cell_type": "code",
   "execution_count": null,
   "metadata": {
    "collapsed": true
   },
   "outputs": [],
   "source": [
    "import os # d导入os模块\n",
    "[d for d in os.listdir('.')]"
   ]
  },
  {
   "cell_type": "code",
   "execution_count": 80,
   "metadata": {
    "collapsed": true
   },
   "outputs": [],
   "source": [
    "# 例如, 我想生成一个 0到10 的平方组成的列表 1, 4, 9, 16\n",
    " # 注意运行之前一定要i\n",
    "result = []"
   ]
  },
  {
   "cell_type": "code",
   "execution_count": 81,
   "metadata": {},
   "outputs": [
    {
     "data": {
      "text/plain": [
       "[0, 1, 4, 9, 16, 25, 36, 49, 64, 81, 100]"
      ]
     },
     "execution_count": 81,
     "metadata": {},
     "output_type": "execute_result"
    }
   ],
   "source": [
    "\n",
    "for i in range(11):\n",
    "    result.append(i**2)\n",
    "result"
   ]
  },
  {
   "cell_type": "code",
   "execution_count": 86,
   "metadata": {},
   "outputs": [
    {
     "data": {
      "text/plain": [
       "[0, 1, 4, 9, 16, 25, 36, 49, 64, 81, 100]"
      ]
     },
     "execution_count": 86,
     "metadata": {},
     "output_type": "execute_result"
    }
   ],
   "source": [
    "[i**2 for i in range(11)]"
   ]
  },
  {
   "cell_type": "code",
   "execution_count": 77,
   "metadata": {},
   "outputs": [
    {
     "data": {
      "text/plain": [
       "[0, 1, 4, 9, 16, 25, 36, 49, 64, 81, 100]"
      ]
     },
     "execution_count": 77,
     "metadata": {},
     "output_type": "execute_result"
    }
   ],
   "source": [
    "# result.extend([4, 5, 6])\n",
    "result"
   ]
  },
  {
   "cell_type": "code",
   "execution_count": 70,
   "metadata": {
    "collapsed": true
   },
   "outputs": [],
   "source": [
    "result.append([4, 5, 6])"
   ]
  },
  {
   "cell_type": "code",
   "execution_count": 119,
   "metadata": {
    "collapsed": true
   },
   "outputs": [],
   "source": [
    "L1 = ['Hello', 'World', 18, 'Apple', None]"
   ]
  },
  {
   "cell_type": "code",
   "execution_count": null,
   "metadata": {
    "collapsed": true
   },
   "outputs": [],
   "source": [
    "当列表判断式里面有判断语句, 如果只有if,放在for 循环后面\n",
    "\n",
    "如果,有if ++ else语句,整个放在for 前边"
   ]
  },
  {
   "cell_type": "code",
   "execution_count": null,
   "metadata": {
    "collapsed": true
   },
   "outputs": [],
   "source": [
    "L2 = [i.lower() if isinstance(i ,str) else i for i in L1 ]\n",
    "L2"
   ]
  },
  {
   "cell_type": "markdown",
   "metadata": {
    "collapsed": true
   },
   "source": [
    "### 列表生成器(不讲)"
   ]
  },
  {
   "cell_type": "markdown",
   "metadata": {},
   "source": [
    "如果创建一个包含100万个元素的列表,不仅占用很大的储存空间,而且后面绝大多数 数据可能不需要访问,那么空间都白白浪费了.\n",
    "如果列表中的元素,是按照某种算法推算出来的,那我们是否可以在循环过程中不断推算后续的元素呢?\n",
    "这样就不必创建完整的list,从而节省大量的空间.\n",
    "在python中,这种一边循环一边计算的机制,称为生成器:generator\n",
    "要创建一个generator有很多种方法,第一种方法很简单,只要把一个列表生成式[]改成(),就创建了一个generator."
   ]
  },
  {
   "cell_type": "code",
   "execution_count": null,
   "metadata": {
    "collapsed": true
   },
   "outputs": [],
   "source": [
    "g = (x * x for x in range(10))\n",
    "g"
   ]
  },
  {
   "cell_type": "markdown",
   "metadata": {},
   "source": [
    "通过generator实际上是保存的算法,每次调用next(g),就计算出g的下一个元素的值 知道计算到最后一个元素,没有更多元素时,抛出StopIteration错误"
   ]
  },
  {
   "cell_type": "code",
   "execution_count": null,
   "metadata": {
    "collapsed": true
   },
   "outputs": [],
   "source": [
    "next(g)"
   ]
  },
  {
   "cell_type": "code",
   "execution_count": null,
   "metadata": {
    "collapsed": true
   },
   "outputs": [],
   "source": []
  },
  {
   "cell_type": "markdown",
   "metadata": {},
   "source": [
    "### 小练习: 请用索引取出下面list的指定元素：\n",
    "\n",
    "```python\n",
    "L = [\n",
    "    ['Apple', 'Google', 'Microsoft'],\n",
    "    ['Java', 'Python', 'Ruby', 'PHP'],\n",
    "    ['Adam', 'Bart', 'Lisa']\n",
    "]\n",
    "```"
   ]
  },
  {
   "cell_type": "code",
   "execution_count": 9,
   "metadata": {
    "collapsed": true
   },
   "outputs": [],
   "source": [
    "# 打印Apple:\n",
    "\n",
    "# 打印Python:\n",
    "\n",
    "# 打印Lisa:\n"
   ]
  },
  {
   "cell_type": "markdown",
   "metadata": {},
   "source": [
    "## 元组(Turple)"
   ]
  },
  {
   "cell_type": "markdown",
   "metadata": {},
   "source": [
    "Python的元组与列表类似，不同之处在于元组的元素不能修改。元组使用小括号，列表使用方括号。"
   ]
  },
  {
   "cell_type": "code",
   "execution_count": 124,
   "metadata": {},
   "outputs": [
    {
     "data": {
      "text/plain": [
       "('et', 77, 99.9, 'OK')"
      ]
     },
     "execution_count": 124,
     "metadata": {},
     "output_type": "execute_result"
    },
    {
     "data": {
      "text/plain": [
       "'et'"
      ]
     },
     "execution_count": 124,
     "metadata": {},
     "output_type": "execute_result"
    },
    {
     "data": {
      "text/plain": [
       "77"
      ]
     },
     "execution_count": 124,
     "metadata": {},
     "output_type": "execute_result"
    }
   ],
   "source": [
    "aTuple = ('et',77,99.9,'OK')\n",
    "aTuple\n",
    "aTuple[0]\n",
    "aTuple[1]"
   ]
  },
  {
   "cell_type": "code",
   "execution_count": 122,
   "metadata": {},
   "outputs": [
    {
     "ename": "TypeError",
     "evalue": "'tuple' object does not support item assignment",
     "output_type": "error",
     "traceback": [
      "\u001b[1;31m---------------------------------------------------------------------------\u001b[0m",
      "\u001b[1;31mTypeError\u001b[0m                                 Traceback (most recent call last)",
      "\u001b[1;32m<ipython-input-122-9dda268710b2>\u001b[0m in \u001b[0;36m<module>\u001b[1;34m()\u001b[0m\n\u001b[0;32m      1\u001b[0m \u001b[1;31m# 元组的元素时不能修改的\u001b[0m\u001b[1;33m\u001b[0m\u001b[1;33m\u001b[0m\u001b[0m\n\u001b[1;32m----> 2\u001b[1;33m \u001b[0maTuple\u001b[0m\u001b[1;33m[\u001b[0m\u001b[1;36m0\u001b[0m\u001b[1;33m]\u001b[0m \u001b[1;33m=\u001b[0m \u001b[1;36m1\u001b[0m\u001b[1;33m\u001b[0m\u001b[0m\n\u001b[0m",
      "\u001b[1;31mTypeError\u001b[0m: 'tuple' object does not support item assignment"
     ]
    }
   ],
   "source": [
    "# 元组的元素时不能修改的\n",
    "aTuple[0] = 1"
   ]
  },
  {
   "cell_type": "code",
   "execution_count": 125,
   "metadata": {},
   "outputs": [
    {
     "data": {
      "text/plain": [
       "('et', 77, 99.9)"
      ]
     },
     "execution_count": 125,
     "metadata": {},
     "output_type": "execute_result"
    }
   ],
   "source": [
    "aTuple = aTuple[:3]\n",
    "aTuple\n",
    "# 元组不是不能修改吗,这里为什么被修改了呢?"
   ]
  },
  {
   "cell_type": "code",
   "execution_count": 126,
   "metadata": {},
   "outputs": [
    {
     "ename": "AttributeError",
     "evalue": "'tuple' object has no attribute 'append'",
     "output_type": "error",
     "traceback": [
      "\u001b[1;31m---------------------------------------------------------------------------\u001b[0m",
      "\u001b[1;31mAttributeError\u001b[0m                            Traceback (most recent call last)",
      "\u001b[1;32m<ipython-input-126-47564575fd77>\u001b[0m in \u001b[0;36m<module>\u001b[1;34m()\u001b[0m\n\u001b[1;32m----> 1\u001b[1;33m \u001b[0maTuple\u001b[0m\u001b[1;33m.\u001b[0m\u001b[0mappend\u001b[0m\u001b[1;33m(\u001b[0m\u001b[1;34m\"test\"\u001b[0m\u001b[1;33m)\u001b[0m\u001b[1;33m\u001b[0m\u001b[0m\n\u001b[0m",
      "\u001b[1;31mAttributeError\u001b[0m: 'tuple' object has no attribute 'append'"
     ]
    }
   ],
   "source": [
    "aTuple.append(\"test\")"
   ]
  },
  {
   "cell_type": "code",
   "execution_count": 127,
   "metadata": {},
   "outputs": [
    {
     "data": {
      "text/plain": [
       "True"
      ]
     },
     "execution_count": 127,
     "metadata": {},
     "output_type": "execute_result"
    }
   ],
   "source": [
    "77 in aTuple"
   ]
  },
  {
   "cell_type": "markdown",
   "metadata": {
    "collapsed": true
   },
   "source": [
    "现在，aTuple这个tuple不能变了，它也没有append()，insert()这样的方法。其他获取元素的方法和list是一样的，你可以正常地使用aTuple[0]，aTuple[-1]，但不能赋值成另外的元素。\n",
    "\n",
    "不可变的tuple有什么意义？因为tuple不可变，所以代码更安全。\n",
    "\n",
    "如果可能，能用tuple代替list就尽量用tuple。"
   ]
  },
  {
   "cell_type": "markdown",
   "metadata": {},
   "source": [
    "tuple的陷阱：\n",
    "\n",
    "当你定义一个tuple时，在定义的时候，tuple的元素就必须被确定下来，比如："
   ]
  },
  {
   "cell_type": "code",
   "execution_count": 1,
   "metadata": {},
   "outputs": [
    {
     "data": {
      "text/plain": [
       "(1, 2)"
      ]
     },
     "execution_count": 1,
     "metadata": {},
     "output_type": "execute_result"
    }
   ],
   "source": [
    "tp = (1, 2)\n",
    "tp"
   ]
  },
  {
   "cell_type": "code",
   "execution_count": 3,
   "metadata": {},
   "outputs": [
    {
     "data": {
      "text/plain": [
       "(1, 2)"
      ]
     },
     "execution_count": 3,
     "metadata": {},
     "output_type": "execute_result"
    }
   ],
   "source": [
    "tp2 = ()\n",
    "tp2 = (1, 2)\n",
    "tp2"
   ]
  },
  {
   "cell_type": "code",
   "execution_count": 5,
   "metadata": {},
   "outputs": [
    {
     "data": {
      "text/plain": [
       "1"
      ]
     },
     "execution_count": 5,
     "metadata": {},
     "output_type": "execute_result"
    }
   ],
   "source": [
    "#这样定义出来的是数字, 而不是元组\n",
    "tp3 = (1)\n",
    "tp3"
   ]
  },
  {
   "cell_type": "code",
   "execution_count": 6,
   "metadata": {},
   "outputs": [
    {
     "data": {
      "text/plain": [
       "(1,)"
      ]
     },
     "execution_count": 6,
     "metadata": {},
     "output_type": "execute_result"
    }
   ],
   "source": [
    "# 如果想要定义一个元素的元组\n",
    "tp4 = (1,)\n",
    "tp4"
   ]
  },
  {
   "cell_type": "markdown",
   "metadata": {},
   "source": [
    "tuple的第二个陷阱"
   ]
  },
  {
   "cell_type": "code",
   "execution_count": 7,
   "metadata": {},
   "outputs": [
    {
     "data": {
      "text/plain": [
       "('a', 'b', ['A', 'B'])"
      ]
     },
     "execution_count": 7,
     "metadata": {},
     "output_type": "execute_result"
    }
   ],
   "source": [
    "tp5 = ('a', 'b', ['A', 'B'])\n",
    "tp5"
   ]
  },
  {
   "cell_type": "code",
   "execution_count": 8,
   "metadata": {},
   "outputs": [
    {
     "data": {
      "text/plain": [
       "('a', 'b', ['X', 'Y'])"
      ]
     },
     "execution_count": 8,
     "metadata": {},
     "output_type": "execute_result"
    }
   ],
   "source": [
    "tp5[2][0] = 'X'\n",
    "tp5[2][1] = 'Y'\n",
    "tp5"
   ]
  },
  {
   "attachments": {
    "_auto_0": {
     "image/png": "[encoded data removed]"
    }
   },
   "cell_type": "markdown",
   "metadata": {},
   "source": [
    "![_auto_0](attachment:_auto_0)"
   ]
  },
  {
   "attachments": {
    "_auto_0": {
     "image/png": "[encoded data removed]"
    }
   },
   "cell_type": "markdown",
   "metadata": {},
   "source": [
    "当我们把list的元素'A'和'B'修改为'X'和'Y'后，tuple变为：\n",
    "![_auto_0](attachment:_auto_0)"
   ]
  },
  {
   "cell_type": "markdown",
   "metadata": {},
   "source": [
    "表面上看，tuple的元素确实变了，但其实变的不是tuple的元素，而是list的元素。tuple一开始指向的list并没有改成别的list，所以，tuple所谓的“不变”是说，tuple的每个元素，指向永远不变。即指向'a'，就不能改成指向'b'，指向一个list，就不能改成指向其他对象，但指向的这个list本身是可变的！"
   ]
  },
  {
   "cell_type": "markdown",
   "metadata": {},
   "source": [
    "### 元组运算符\n",
    "\n",
    "和列表一样, 略\n",
    "\n",
    "| Python 表达式                | 结果                         | 描述         |\n",
    "| ---------------------------- | ---------------------------- | ------------ |\n",
    "| len((1, 2, 3))               | 3                            | 计算元素个数 |\n",
    "| (1, 2, 3) + (4, 5, 6)        | (1, 2, 3, 4, 5, 6)           | 连接         |\n",
    "| ('Hi!',) * 4                 | ('Hi!', 'Hi!', 'Hi!', 'Hi!') | 复制         |\n",
    "| 3 in (1, 2, 3)               | True                         | 元素是否存在 |\n",
    "| for x in (1, 2, 3): print x, | 1 2 3                        | 迭代     "
   ]
  },
  {
   "cell_type": "code",
   "execution_count": 15,
   "metadata": {},
   "outputs": [
    {
     "data": {
      "text/plain": [
       "(1, 3, 6, 'oh', 'my', 'baby', 1)"
      ]
     },
     "execution_count": 15,
     "metadata": {},
     "output_type": "execute_result"
    }
   ],
   "source": [
    "tp6 = (1, 3, 6, \"oh\", \"my\", 'baby', 1)\n",
    "tp6"
   ]
  },
  {
   "cell_type": "code",
   "execution_count": 16,
   "metadata": {},
   "outputs": [
    {
     "data": {
      "text/plain": [
       "2"
      ]
     },
     "execution_count": 16,
     "metadata": {},
     "output_type": "execute_result"
    }
   ],
   "source": [
    "tp6.count(1)"
   ]
  },
  {
   "cell_type": "code",
   "execution_count": 40,
   "metadata": {},
   "outputs": [
    {
     "name": "stdout",
     "output_type": "stream",
     "text": [
      "except: tuple.index(x): x not in tuple\n"
     ]
    }
   ],
   "source": [
    "try:\n",
    "    tp6.index(1, 1, 6)\n",
    "except ValueError as e:\n",
    "    print('except:', e)\n",
    "    "
   ]
  },
  {
   "cell_type": "code",
   "execution_count": 47,
   "metadata": {},
   "outputs": [
    {
     "name": "stdout",
     "output_type": "stream",
     "text": [
      "except:  division by zero\n",
      "1\n"
     ]
    }
   ],
   "source": [
    "try:\n",
    "    b = 1\n",
    "    a = 10/0\n",
    "except ZeroDivisionError as e:\n",
    "    print(\"except: \", e)\n",
    "finally:\n",
    "    print(b)"
   ]
  },
  {
   "cell_type": "markdown",
   "metadata": {
    "collapsed": true
   },
   "source": [
    "## 字典dict\n",
    "\n",
    "Python内置了字典：dict的支持，dict全称dictionary，在其他语言中也称为map，使用键-值（key-value）存储，具有极快的查找速度。\n",
    "\n",
    "举个例子，FIFA18球员能力值排名, 我们要根据球员的名字查找对应的成绩，如果用list实现，需要两个list：\n",
    "```python\n",
    "names = ['克里斯蒂亚诺·罗纳尔多', '里奥·梅西', '内马尔','路易斯·苏亚雷斯', '曼努埃尔·诺伊尔', '罗伯特·莱万多夫斯基', '塞尔吉奥·拉莫斯' ]\n",
    "scores = [94, 93, 92, 92, 92, 91, 90]\n",
    "```"
   ]
  },
  {
   "cell_type": "markdown",
   "metadata": {},
   "source": [
    "给你一个球员名字，要查找对应的成绩，就先要在names中找到对应的位置，再从scores取出对应的评分，list越长，耗时越长。"
   ]
  },
  {
   "cell_type": "code",
   "execution_count": 13,
   "metadata": {},
   "outputs": [
    {
     "name": "stdout",
     "output_type": "stream",
     "text": [
      "92\n"
     ]
    }
   ],
   "source": [
    "names = ['C罗纳尔多', '梅西', '内马尔','苏亚雷斯', '诺伊尔', '莱万多夫斯基', '拉莫斯' ]\n",
    "scores = [94, 93, 92, 92, 92, 91, 90]\n",
    "\n",
    "for i in range(len(names)):\n",
    "    if names[i]==\"内马尔\":\n",
    "        print(scores[i])"
   ]
  },
  {
   "cell_type": "markdown",
   "metadata": {},
   "source": [
    "### 创建字典\n",
    "\n",
    "字典由键（key）和对应值（value）成对组成。字典也被称作关联数组或哈希表。基本语法如下：\n",
    "\n",
    "dict = {'Alice': '2341', 'Beth': '9102', 'Cecil': '3258'}\n",
    "\n",
    "注意：\n",
    "每个键与值用冒号隔开（:），每对用逗号，每对用逗号分割，整体放在花括号中（{}）。\n",
    "键必须独一无二，但值则不必。\n",
    "\n",
    "值可以取任何数据类型，但必须是不可变的，如字符串，数组或元组。"
   ]
  },
  {
   "cell_type": "markdown",
   "metadata": {
    "collapsed": true
   },
   "source": [
    "如果用dict实现，只需要一个“名字”-“评分”的对照表，直接根据名字查找评分，无论这个表有多大，查找速度都不会变慢。用Python写一个dict如下"
   ]
  },
  {
   "cell_type": "code",
   "execution_count": 34,
   "metadata": {
    "collapsed": true
   },
   "outputs": [],
   "source": [
    "d = {'C罗纳尔多': 94, '梅西': 93, '内马尔': 92, '苏亚雷斯':92, \n",
    "     '诺伊尔':92, '莱万多夫斯基':91, '拉莫斯':90}"
   ]
  },
  {
   "cell_type": "code",
   "execution_count": 1,
   "metadata": {
    "collapsed": true
   },
   "outputs": [],
   "source": [
    "dd = {0:'a', 1:'b'}"
   ]
  },
  {
   "cell_type": "code",
   "execution_count": 5,
   "metadata": {},
   "outputs": [
    {
     "data": {
      "text/plain": [
       "100"
      ]
     },
     "execution_count": 5,
     "metadata": {},
     "output_type": "execute_result"
    }
   ],
   "source": [
    "dd.get(2, 100)"
   ]
  },
  {
   "cell_type": "code",
   "execution_count": 15,
   "metadata": {},
   "outputs": [
    {
     "data": {
      "text/plain": [
       "92"
      ]
     },
     "execution_count": 15,
     "metadata": {},
     "output_type": "execute_result"
    }
   ],
   "source": [
    "d['内马尔']"
   ]
  },
  {
   "cell_type": "code",
   "execution_count": null,
   "metadata": {
    "collapsed": true
   },
   "outputs": [],
   "source": []
  },
  {
   "cell_type": "markdown",
   "metadata": {},
   "source": [
    "我们平时使用字典的时候, 是在字典的索引表里（比如部首表）查这个字对应的页码，然后直接翻到该页，找到这个字。无论找哪个字，这种查找速度都非常快，不会随着字典大小的增加而变慢。\n",
    "\n",
    "dict就是这种实现方式，给定一个名字，比如'梅西'，dict在内部就可以直接计算出梅西对应的存放评分的“页码”，也就是93这个数字存放的内存地址，直接取出来，速度非常快。\n",
    "\n",
    "你可以猜到，这种key-value存储方式，在放进去的时候，必须根据key算出value的存放位置，这样，取的时候才能根据key直接拿到value。\n",
    "\n",
    "把数据放入dict的方法，除了初始化时指定外，还可以通过key放入："
   ]
  },
  {
   "cell_type": "markdown",
   "metadata": {},
   "source": [
    "### 字典赋值或更改\n",
    "\n",
    "```python\n",
    "d['key'] = value  #key 存在即修改，key不存在即新增\n",
    "d.setdefault('key',value)   #只能新增\n",
    "```"
   ]
  },
  {
   "cell_type": "code",
   "execution_count": 16,
   "metadata": {},
   "outputs": [
    {
     "data": {
      "text/plain": [
       "{'C罗纳尔多': 94,\n",
       " '克罗斯': 90,\n",
       " '内马尔': 92,\n",
       " '拉莫斯': 90,\n",
       " '梅西': 93,\n",
       " '苏亚雷斯': 92,\n",
       " '莱万多夫斯基': 91,\n",
       " '诺伊尔': 92}"
      ]
     },
     "execution_count": 16,
     "metadata": {},
     "output_type": "execute_result"
    }
   ],
   "source": [
    "d['克罗斯'] = 90\n",
    "d['克罗斯']\n",
    "d"
   ]
  },
  {
   "cell_type": "code",
   "execution_count": 35,
   "metadata": {
    "collapsed": true
   },
   "outputs": [],
   "source": [
    "d[\"李毅\"] = 66"
   ]
  },
  {
   "cell_type": "code",
   "execution_count": 36,
   "metadata": {},
   "outputs": [
    {
     "data": {
      "text/plain": [
       "{'C罗纳尔多': 94,\n",
       " '内马尔': 92,\n",
       " '拉莫斯': 90,\n",
       " '李毅': 66,\n",
       " '梅西': 93,\n",
       " '苏亚雷斯': 92,\n",
       " '莱万多夫斯基': 91,\n",
       " '诺伊尔': 92}"
      ]
     },
     "execution_count": 36,
     "metadata": {},
     "output_type": "execute_result"
    }
   ],
   "source": [
    "d"
   ]
  },
  {
   "cell_type": "code",
   "execution_count": null,
   "metadata": {
    "collapsed": true
   },
   "outputs": [],
   "source": []
  },
  {
   "cell_type": "code",
   "execution_count": 10,
   "metadata": {},
   "outputs": [
    {
     "data": {
      "text/plain": [
       "88"
      ]
     },
     "execution_count": 10,
     "metadata": {},
     "output_type": "execute_result"
    }
   ],
   "source": [
    "# 一个key只能对应一个value，所以，多次对一个key放入value，后面的值会把前面的值冲掉：\n",
    "d['托尼·克罗斯'] = 88\n",
    "d['托尼·克罗斯']"
   ]
  },
  {
   "cell_type": "code",
   "execution_count": 11,
   "metadata": {},
   "outputs": [
    {
     "ename": "KeyError",
     "evalue": "'大罗纳尔多'",
     "output_type": "error",
     "traceback": [
      "\u001b[1;31m---------------------------------------------------------------------------\u001b[0m",
      "\u001b[1;31mKeyError\u001b[0m                                  Traceback (most recent call last)",
      "\u001b[1;32m<ipython-input-11-aa0d953a8547>\u001b[0m in \u001b[0;36m<module>\u001b[1;34m()\u001b[0m\n\u001b[0;32m      1\u001b[0m \u001b[1;31m# 如果key不存在，dict就会报错\u001b[0m\u001b[1;33m\u001b[0m\u001b[1;33m\u001b[0m\u001b[0m\n\u001b[1;32m----> 2\u001b[1;33m \u001b[0md\u001b[0m\u001b[1;33m[\u001b[0m\u001b[1;34m'大罗纳尔多'\u001b[0m\u001b[1;33m]\u001b[0m\u001b[1;33m\u001b[0m\u001b[0m\n\u001b[0m",
      "\u001b[1;31mKeyError\u001b[0m: '大罗纳尔多'"
     ]
    }
   ],
   "source": [
    "# 如果key不存在，dict就会报错\n",
    "d['大罗纳尔多']"
   ]
  },
  {
   "cell_type": "markdown",
   "metadata": {},
   "source": [
    "### 判断key是否存在"
   ]
  },
  {
   "cell_type": "markdown",
   "metadata": {},
   "source": [
    "可以通过 in判断key是否存在"
   ]
  },
  {
   "cell_type": "code",
   "execution_count": 12,
   "metadata": {},
   "outputs": [
    {
     "data": {
      "text/plain": [
       "False"
      ]
     },
     "execution_count": 12,
     "metadata": {},
     "output_type": "execute_result"
    }
   ],
   "source": [
    "\"大罗纳尔多\" in d"
   ]
  },
  {
   "cell_type": "code",
   "execution_count": 17,
   "metadata": {},
   "outputs": [
    {
     "data": {
      "text/plain": [
       "True"
      ]
     },
     "execution_count": 17,
     "metadata": {},
     "output_type": "execute_result"
    }
   ],
   "source": [
    "\"内马尔\" in d"
   ]
  },
  {
   "cell_type": "markdown",
   "metadata": {},
   "source": [
    "通过dict提供的get()方法，如果key不存在，可以返回None，或者自己指定的value："
   ]
  },
  {
   "cell_type": "code",
   "execution_count": 20,
   "metadata": {},
   "outputs": [
    {
     "name": "stdout",
     "output_type": "stream",
     "text": [
      "None\n"
     ]
    }
   ],
   "source": [
    "k = d.get('卡恩')\n",
    "print(k)"
   ]
  },
  {
   "cell_type": "code",
   "execution_count": 22,
   "metadata": {},
   "outputs": [
    {
     "data": {
      "text/plain": [
       "-1"
      ]
     },
     "execution_count": 22,
     "metadata": {},
     "output_type": "execute_result"
    }
   ],
   "source": [
    "d.get('托马斯', -1)"
   ]
  },
  {
   "cell_type": "code",
   "execution_count": 23,
   "metadata": {},
   "outputs": [
    {
     "data": {
      "text/plain": [
       "93"
      ]
     },
     "execution_count": 23,
     "metadata": {},
     "output_type": "execute_result"
    }
   ],
   "source": [
    "d.get('梅西', -1)"
   ]
  },
  {
   "cell_type": "markdown",
   "metadata": {},
   "source": [
    "### 删除字典元素\n",
    "```python\n",
    "d.pop('key')  必须要传值，因为字典是无序的\n",
    "d.popitem()  随机删除一个\n",
    "del d['key'] \n",
    "d.clear()  清空字典\n",
    "```"
   ]
  },
  {
   "cell_type": "code",
   "execution_count": 6,
   "metadata": {},
   "outputs": [
    {
     "data": {
      "text/plain": [
       "'H:\\\\FangCloudV2\\\\个人文件\\\\大数据资料同步公司端\\\\Python课件\\\\pythoncode\\\\备课文件夹'"
      ]
     },
     "execution_count": 6,
     "metadata": {},
     "output_type": "execute_result"
    }
   ],
   "source": [
    "%pwd"
   ]
  },
  {
   "cell_type": "code",
   "execution_count": null,
   "metadata": {
    "collapsed": true
   },
   "outputs": [],
   "source": []
  },
  {
   "cell_type": "code",
   "execution_count": 2,
   "metadata": {
    "collapsed": true
   },
   "outputs": [],
   "source": [
    "with open(\"C:/Users/Administrator/Desktop/test.txt\", 'r', encoding='utf-8') as f:\n",
    "    data = f.read()"
   ]
  },
  {
   "cell_type": "code",
   "execution_count": 3,
   "metadata": {},
   "outputs": [
    {
     "data": {
      "text/plain": [
       "'罗纳尔多,94\\n梅西, 93\\n内马尔, 92\\n苏亚雷斯, 92\\n诺伊尔, 91\\n莱万多夫斯基拉莫斯, 90'"
      ]
     },
     "execution_count": 3,
     "metadata": {},
     "output_type": "execute_result"
    }
   ],
   "source": [
    "data"
   ]
  },
  {
   "cell_type": "code",
   "execution_count": 11,
   "metadata": {},
   "outputs": [
    {
     "data": {
      "text/plain": [
       "['罗纳尔多,94', '梅西, 93', '内马尔, 92', '苏亚雷斯, 92', '诺伊尔, 91', '莱万多夫斯基拉莫斯, 90']"
      ]
     },
     "execution_count": 11,
     "metadata": {},
     "output_type": "execute_result"
    }
   ],
   "source": [
    "data_1 = data.splitlines()\n",
    "data_1"
   ]
  },
  {
   "cell_type": "code",
   "execution_count": 18,
   "metadata": {},
   "outputs": [
    {
     "data": {
      "text/plain": [
       "'94'"
      ]
     },
     "execution_count": 18,
     "metadata": {},
     "output_type": "execute_result"
    }
   ],
   "source": [
    "o, p = data_1[0].split(',')\n",
    "p"
   ]
  },
  {
   "cell_type": "code",
   "execution_count": null,
   "metadata": {
    "collapsed": true
   },
   "outputs": [],
   "source": [
    "dd = {}\n",
    "for i in data_1:\n",
    "    i.split(\",\")"
   ]
  },
  {
   "cell_type": "code",
   "execution_count": 22,
   "metadata": {},
   "outputs": [
    {
     "name": "stdout",
     "output_type": "stream",
     "text": [
      "{'梅西': 93, '内马尔': 92, '诺伊尔': 91, '罗纳尔多': 94, '苏亚雷斯': 92, '莱万多夫斯基拉莫斯': 90}\n"
     ]
    }
   ],
   "source": [
    "dd = {}\n",
    "for i in data_1:\n",
    "    m, n = i.split(',')\n",
    "    n1 = int(n)\n",
    "    dd[m] = n1\n",
    "print(dd)"
   ]
  },
  {
   "cell_type": "code",
   "execution_count": 24,
   "metadata": {},
   "outputs": [
    {
     "data": {
      "text/plain": [
       "{'内马尔': 92, '梅西': 93}"
      ]
     },
     "execution_count": 24,
     "metadata": {},
     "output_type": "execute_result"
    }
   ],
   "source": [
    "dict([('梅西', 93), ('内马尔', 92)])"
   ]
  },
  {
   "cell_type": "code",
   "execution_count": 9,
   "metadata": {
    "collapsed": true
   },
   "outputs": [],
   "source": [
    "dd['罗纳尔多']= 94"
   ]
  },
  {
   "cell_type": "code",
   "execution_count": 10,
   "metadata": {},
   "outputs": [
    {
     "data": {
      "text/plain": [
       "{'罗纳尔多': 94}"
      ]
     },
     "execution_count": 10,
     "metadata": {},
     "output_type": "execute_result"
    }
   ],
   "source": [
    "dd"
   ]
  },
  {
   "cell_type": "code",
   "execution_count": 30,
   "metadata": {
    "collapsed": true
   },
   "outputs": [
    {
     "ename": "KeyError",
     "evalue": "'诺伊尔'",
     "output_type": "error",
     "traceback": [
      "\u001b[1;31m---------------------------------------------------------------------------\u001b[0m",
      "\u001b[1;31mKeyError\u001b[0m                                  Traceback (most recent call last)",
      "\u001b[1;32m<ipython-input-30-f199e9a8c39c>\u001b[0m in \u001b[0;36m<module>\u001b[1;34m()\u001b[0m\n\u001b[1;32m----> 1\u001b[1;33m \u001b[1;32mdel\u001b[0m \u001b[0md\u001b[0m\u001b[1;33m[\u001b[0m\u001b[1;34m\"诺伊尔\"\u001b[0m\u001b[1;33m]\u001b[0m\u001b[1;33m\u001b[0m\u001b[0m\n\u001b[0m\u001b[0;32m      2\u001b[0m \u001b[0md\u001b[0m\u001b[1;33m\u001b[0m\u001b[0m\n",
      "\u001b[1;31mKeyError\u001b[0m: '诺伊尔'"
     ]
    }
   ],
   "source": [
    "del d[\"诺伊尔\"]"
   ]
  },
  {
   "cell_type": "code",
   "execution_count": 31,
   "metadata": {},
   "outputs": [
    {
     "data": {
      "text/plain": [
       "{'C罗纳尔多': 94, '克罗斯': 90, '内马尔': 92, '梅西': 93, '苏亚雷斯': 92, '莱万多夫斯基': 91}"
      ]
     },
     "execution_count": 31,
     "metadata": {},
     "output_type": "execute_result"
    }
   ],
   "source": [
    "d"
   ]
  },
  {
   "cell_type": "code",
   "execution_count": 32,
   "metadata": {
    "collapsed": true
   },
   "outputs": [],
   "source": [
    "d.clear()"
   ]
  },
  {
   "cell_type": "code",
   "execution_count": 33,
   "metadata": {},
   "outputs": [
    {
     "data": {
      "text/plain": [
       "{}"
      ]
     },
     "execution_count": 33,
     "metadata": {},
     "output_type": "execute_result"
    }
   ],
   "source": [
    "d"
   ]
  },
  {
   "cell_type": "markdown",
   "metadata": {},
   "source": [
    "### 字典常见操作"
   ]
  },
  {
   "cell_type": "code",
   "execution_count": 42,
   "metadata": {},
   "outputs": [
    {
     "data": {
      "text/plain": [
       "dict_keys(['李毅', '拉莫斯', '梅西', '诺伊尔', '莱万多夫斯基', '苏亚雷斯', 'C罗纳尔多', '内马尔'])"
      ]
     },
     "execution_count": 42,
     "metadata": {},
     "output_type": "execute_result"
    }
   ],
   "source": [
    "# 获取字典key\n",
    "d.keys()"
   ]
  },
  {
   "cell_type": "code",
   "execution_count": 43,
   "metadata": {},
   "outputs": [
    {
     "data": {
      "text/plain": [
       "dict_values([66, 90, 93, 92, 91, 92, 94, 92])"
      ]
     },
     "execution_count": 43,
     "metadata": {},
     "output_type": "execute_result"
    }
   ],
   "source": [
    "# 获取字典values\n",
    "d.values()"
   ]
  },
  {
   "cell_type": "code",
   "execution_count": 38,
   "metadata": {},
   "outputs": [
    {
     "name": "stdout",
     "output_type": "stream",
     "text": [
      "dict_items([('李毅', 66), ('拉莫斯', 90), ('梅西', 93), ('诺伊尔', 92), ('莱万多夫斯基', 91), ('苏亚雷斯', 92), ('C罗纳尔多', 94), ('内马尔', 92)])\n"
     ]
    }
   ],
   "source": [
    "print(d.items())   # 输出一个list格式（非真正意义上的list）"
   ]
  },
  {
   "cell_type": "code",
   "execution_count": 39,
   "metadata": {},
   "outputs": [
    {
     "name": "stdout",
     "output_type": "stream",
     "text": [
      "[('李毅', 66), ('拉莫斯', 90), ('梅西', 93), ('诺伊尔', 92), ('莱万多夫斯基', 91), ('苏亚雷斯', 92), ('C罗纳尔多', 94), ('内马尔', 92)]\n"
     ]
    }
   ],
   "source": [
    "print(list(d.items()))  # 把字典的key 和 value 转成一个多维list"
   ]
  },
  {
   "cell_type": "code",
   "execution_count": 40,
   "metadata": {},
   "outputs": [
    {
     "data": {
      "text/plain": [
       "8"
      ]
     },
     "execution_count": 40,
     "metadata": {},
     "output_type": "execute_result"
    }
   ],
   "source": [
    "len(d)#计算字典元素个数，即键的总数。"
   ]
  },
  {
   "cell_type": "code",
   "execution_count": 41,
   "metadata": {},
   "outputs": [
    {
     "data": {
      "text/plain": [
       "\"{'李毅': 66, '拉莫斯': 90, '梅西': 93, '诺伊尔': 92, '莱万多夫斯基': 91, '苏亚雷斯': 92, 'C罗纳尔多': 94, '内马尔': 92}\""
      ]
     },
     "execution_count": 41,
     "metadata": {},
     "output_type": "execute_result"
    }
   ],
   "source": [
    "str(d)#输出字典可打印的字符串。"
   ]
  },
  {
   "cell_type": "code",
   "execution_count": null,
   "metadata": {
    "collapsed": true
   },
   "outputs": [],
   "source": []
  },
  {
   "cell_type": "markdown",
   "metadata": {},
   "source": [
    "### 遍历字典"
   ]
  },
  {
   "cell_type": "markdown",
   "metadata": {},
   "source": [
    "```python\n",
    "\n",
    "for k,v in d.items():   #遍历字典\n",
    "    print(k,v)\n",
    "无须转换成list 格式，保留了字典原有的特性\n",
    "```"
   ]
  },
  {
   "cell_type": "code",
   "execution_count": 24,
   "metadata": {},
   "outputs": [
    {
     "name": "stdout",
     "output_type": "stream",
     "text": [
      "拉莫斯 90\n",
      "梅西 93\n",
      "诺伊尔 92\n",
      "莱万多夫斯基 91\n",
      "苏亚雷斯 92\n",
      "C罗纳尔多 94\n",
      "内马尔 92\n",
      "克罗斯 90\n"
     ]
    }
   ],
   "source": [
    "for k, v in d.items():\n",
    "    print(k, v)"
   ]
  },
  {
   "cell_type": "code",
   "execution_count": 25,
   "metadata": {},
   "outputs": [
    {
     "name": "stdout",
     "output_type": "stream",
     "text": [
      "拉莫斯 90\n",
      "拉莫斯 90\n",
      "梅西 93\n",
      "梅西 93\n",
      "诺伊尔 92\n",
      "诺伊尔 92\n",
      "莱万多夫斯基 91\n",
      "莱万多夫斯基 91\n",
      "苏亚雷斯 92\n",
      "苏亚雷斯 92\n",
      "C罗纳尔多 94\n",
      "C罗纳尔多 94\n",
      "内马尔 92\n",
      "内马尔 92\n",
      "克罗斯 90\n",
      "克罗斯 90\n"
     ]
    }
   ],
   "source": [
    "for k in d:\n",
    "    print(k,d[k])\n",
    "    print(k,d.get(k))   "
   ]
  },
  {
   "cell_type": "markdown",
   "metadata": {
    "collapsed": true
   },
   "source": [
    "### 将其他数据处理成字典"
   ]
  },
  {
   "cell_type": "code",
   "execution_count": 1,
   "metadata": {
    "collapsed": true
   },
   "outputs": [],
   "source": [
    "s = \"{'command': 'cmd1', 'option': [{'req': [{'ipt': [{'str1': 'name1'}]}]}], 'OS': 'OS1', 'device': 'D1'}\""
   ]
  },
  {
   "cell_type": "code",
   "execution_count": 18,
   "metadata": {
    "collapsed": true
   },
   "outputs": [],
   "source": [
    "with open(\"dict.txt\", 'r') as f:\n",
    "    data = f.read()"
   ]
  },
  {
   "cell_type": "code",
   "execution_count": 20,
   "metadata": {},
   "outputs": [
    {
     "data": {
      "text/plain": [
       "str"
      ]
     },
     "execution_count": 20,
     "metadata": {},
     "output_type": "execute_result"
    }
   ],
   "source": [
    "type(data)"
   ]
  },
  {
   "cell_type": "code",
   "execution_count": 21,
   "metadata": {},
   "outputs": [
    {
     "data": {
      "text/plain": [
       "{'command': 'cmd1',\n",
       " 'option': [{'req': [{'ipt': [{'str1': 'name1'}]}]}],\n",
       " 'OS': 'OS1',\n",
       " 'device': 'D1'}"
      ]
     },
     "execution_count": 21,
     "metadata": {},
     "output_type": "execute_result"
    }
   ],
   "source": [
    "x = eval(data)\n",
    "x"
   ]
  },
  {
   "cell_type": "code",
   "execution_count": 22,
   "metadata": {},
   "outputs": [
    {
     "data": {
      "text/plain": [
       "dict"
      ]
     },
     "execution_count": 22,
     "metadata": {},
     "output_type": "execute_result"
    }
   ],
   "source": [
    "type(x)"
   ]
  },
  {
   "cell_type": "code",
   "execution_count": 2,
   "metadata": {
    "collapsed": true
   },
   "outputs": [],
   "source": [
    "x = eval(s)"
   ]
  },
  {
   "cell_type": "code",
   "execution_count": 6,
   "metadata": {},
   "outputs": [
    {
     "data": {
      "text/plain": [
       "dict"
      ]
     },
     "execution_count": 6,
     "metadata": {},
     "output_type": "execute_result"
    }
   ],
   "source": [
    "type(x)"
   ]
  },
  {
   "cell_type": "code",
   "execution_count": 7,
   "metadata": {},
   "outputs": [
    {
     "name": "stdout",
     "output_type": "stream",
     "text": [
      "cmd1\n"
     ]
    }
   ],
   "source": [
    "print (x['command'])"
   ]
  },
  {
   "cell_type": "code",
   "execution_count": 16,
   "metadata": {},
   "outputs": [
    {
     "name": "stdout",
     "output_type": "stream",
     "text": [
      "[{'str1': 'name1'}]\n"
     ]
    }
   ],
   "source": [
    "print (x['option'][0]['req'][0]['ipt'])"
   ]
  },
  {
   "cell_type": "code",
   "execution_count": null,
   "metadata": {
    "collapsed": true
   },
   "outputs": [],
   "source": []
  },
  {
   "cell_type": "code",
   "execution_count": 23,
   "metadata": {
    "collapsed": true
   },
   "outputs": [],
   "source": [
    "with open('student_grade.txt', 'r') as f:\n",
    "    data = f.read()"
   ]
  },
  {
   "cell_type": "code",
   "execution_count": 27,
   "metadata": {
    "collapsed": true
   },
   "outputs": [],
   "source": [
    "data_lines = data.splitlines()"
   ]
  },
  {
   "cell_type": "code",
   "execution_count": 32,
   "metadata": {},
   "outputs": [
    {
     "data": {
      "text/plain": [
       "'姓名\\t语文\\t数学\\t英语\\t总分\\t班名次'"
      ]
     },
     "execution_count": 32,
     "metadata": {},
     "output_type": "execute_result"
    }
   ],
   "source": [
    "data_lines[0]"
   ]
  },
  {
   "cell_type": "code",
   "execution_count": 41,
   "metadata": {
    "collapsed": true
   },
   "outputs": [],
   "source": [
    "grade = {}\n",
    "for i in data_lines:\n",
    "    key = i.split('\\t')[0] \n",
    "    values = i.split('\\t')[1:]\n",
    "    grade[key] = values"
   ]
  },
  {
   "cell_type": "code",
   "execution_count": 49,
   "metadata": {},
   "outputs": [
    {
     "data": {
      "text/plain": [
       "'7'"
      ]
     },
     "execution_count": 49,
     "metadata": {},
     "output_type": "execute_result"
    }
   ],
   "source": [
    "grade['刘帅'][4]"
   ]
  },
  {
   "cell_type": "code",
   "execution_count": 44,
   "metadata": {
    "collapsed": true
   },
   "outputs": [
    {
     "data": {
      "text/plain": [
       "{'姓名': ['语文', '数学', '英语', '总分', '班名次'],\n",
       " '杨璐': ['131', '143', '144', '418', '1'],\n",
       " '王雪': ['131', '135', '144', '410', '2'],\n",
       " '韩林霖': ['127', '139', '142', '408', '3'],\n",
       " '沙龙逸': ['123', '148', '136', '407', '4'],\n",
       " '李鉴学': ['126', '135', '140', '401', '5'],\n",
       " '韩雨萌': ['129', '133', '138', '400', '6'],\n",
       " '刘帅': ['116', '143', '140', '399', '7'],\n",
       " '康惠雯': ['114', '142', '139', '395', '8'],\n",
       " '刘钰婷': ['115', '139', '135', '389', '9'],\n",
       " '林世博': ['116', '142', '129', '387', '10'],\n",
       " '张希': ['123', '130', '134', '387', '11'],\n",
       " '徐冲': ['122', '124', '139', '385', '12'],\n",
       " '苑宇飞': ['118', '136', '131', '385', '13'],\n",
       " '卢一凡': ['121', '123', '139', '383', '14'],\n",
       " '张瑞鑫': ['126', '115', '139', '380', '15'],\n",
       " '范作鑫': ['121', '127', '131', '379', '16'],\n",
       " '裴子翔': ['111', '139', '128', '378', '17'],\n",
       " '武传禹': ['119', '129', '130', '378', '18'],\n",
       " '任雪桐': ['124', '108', '144', '376', '19'],\n",
       " '刘姗': ['124', '128', '122', '374', '20'],\n",
       " '王柏坤': ['121', '123', '128', '372', '21'],\n",
       " '赵永刚': ['116', '131', '122', '369', '22'],\n",
       " '张馨月大': ['114', '124', '122', '360', '23'],\n",
       " '张曦月': ['116', '123', '119', '358', '24'],\n",
       " '胡丁文': ['116', '122', '118', '356', '25'],\n",
       " '赵美欣': ['118', '126', '111', '355', '26'],\n",
       " '赵殿宇': ['112', '109', '130', '351', '27'],\n",
       " '张智文': ['109', '116', '125', '350', '28'],\n",
       " '李季': ['114', '117', '118', '349', '29'],\n",
       " '杨加晖': ['110', '102', '136', '348', '30'],\n",
       " '何旭': ['114', '113', '120', '347', '31'],\n",
       " '张智凯': ['110', '117', '119', '346', '32'],\n",
       " '张晓爽': ['113', '113', '119', '345', '33'],\n",
       " '姜美慧': ['117', '121', '106', '344', '34'],\n",
       " '张埕镒': ['112', '105', '126', '343', '35'],\n",
       " '贺俊文': ['103', '127', '110', '340', '36'],\n",
       " '张馨月小': ['108', '110', '119', '337', '37'],\n",
       " '代诗涵': ['105', '105', '126', '336', '38'],\n",
       " '艾宇': ['115', '111', '106', '332', '39'],\n",
       " '黄俊焯': ['101', '112', '106', '319', '40'],\n",
       " '邹建志': ['98', '104', '116', '318', '41'],\n",
       " '张俊奎': ['103', '103', '111', '317', '42'],\n",
       " '孙波': ['96', '130', '89', '315', '43'],\n",
       " '张良': ['105', '102', '105', '312', '44'],\n",
       " '王春月': ['118', '82', '112', '312', '45'],\n",
       " '代明哲': ['101', '91', '115', '307', '46'],\n",
       " '张开羽': ['112', '90', '104', '306', '47'],\n",
       " '狄建译': ['109', '68', '126', '303', '48'],\n",
       " '张家硕': ['107', '67', '129', '303', '49'],\n",
       " '郭娜': ['94', '98', '104', '296', '50'],\n",
       " '周坤': ['107', '76', '104', '287', '51'],\n",
       " '洪禹': ['106', '100', '80', '286', '52'],\n",
       " '王治超': ['105', '95', '82', '282', '53'],\n",
       " '臧云飞': ['101', '59', '108', '268', '54'],\n",
       " '袁茂哲': ['85', '95', '85', '265', '55'],\n",
       " '丁婉艺': ['95', '71', '85', '251', '56'],\n",
       " '于娇莹': ['97', '76', '71', '244', '57'],\n",
       " '刘旭辉': ['99', '87', '44', '230', '58'],\n",
       " '张宇婷': ['83', '61', '71', '215', '59'],\n",
       " '黄明涛': ['87', '77', '43', '207', '60'],\n",
       " '吕文卓': ['82', '53', '62', '197', '61'],\n",
       " '王晟煜': ['79', '49', '64', '192', '62'],\n",
       " '孙龙基': ['99', '21', '67', '187', '63'],\n",
       " '赵森': ['90', '29', '64', '183', '64'],\n",
       " '满朝升': ['78', '45', '47', '170', '65'],\n",
       " '李忠浩': ['86', '32', '46', '164', '66'],\n",
       " '侯禹志': ['75', '23', '34', '132', '67'],\n",
       " '尹鸿涛': ['66', '23', '34', '123', '68']}"
      ]
     },
     "execution_count": 44,
     "metadata": {},
     "output_type": "execute_result"
    }
   ],
   "source": [
    "grade"
   ]
  },
  {
   "cell_type": "markdown",
   "metadata": {},
   "source": [
    "## 集合 Set\n",
    "\n",
    "set和dict类似，也是一组key的集合，但不存储value。由于key不能重复，所以，在set中，没有重复的key。"
   ]
  },
  {
   "cell_type": "code",
   "execution_count": 44,
   "metadata": {},
   "outputs": [
    {
     "data": {
      "text/plain": [
       "{1, 2, 3}"
      ]
     },
     "execution_count": 44,
     "metadata": {},
     "output_type": "execute_result"
    }
   ],
   "source": [
    "# 要创建一个set，需要提供一个list作为输入集合：\n",
    "\n",
    "s = set([1, 2, 3])\n",
    "s"
   ]
  },
  {
   "cell_type": "markdown",
   "metadata": {},
   "source": [
    "要注意的是set是无序的, 虽然这里1, 2, 3是顺序显示的"
   ]
  },
  {
   "cell_type": "code",
   "execution_count": 45,
   "metadata": {},
   "outputs": [
    {
     "data": {
      "text/plain": [
       "{1, 2, 3}"
      ]
     },
     "execution_count": 45,
     "metadata": {},
     "output_type": "execute_result"
    }
   ],
   "source": [
    "s = set([2, 1, 3])\n",
    "s"
   ]
  },
  {
   "cell_type": "markdown",
   "metadata": {},
   "source": [
    "set 一个常规应用时过滤重复值"
   ]
  },
  {
   "cell_type": "code",
   "execution_count": 46,
   "metadata": {},
   "outputs": [
    {
     "data": {
      "text/plain": [
       "{1, 2, 3}"
      ]
     },
     "execution_count": 46,
     "metadata": {},
     "output_type": "execute_result"
    }
   ],
   "source": [
    "s = set([1, 1, 2, 2, 3, 3])\n",
    "s"
   ]
  },
  {
   "cell_type": "markdown",
   "metadata": {},
   "source": [
    "可以通过add(key)方法添加元素到set中，但对于已经存在的值不会有效果"
   ]
  },
  {
   "cell_type": "code",
   "execution_count": 47,
   "metadata": {},
   "outputs": [
    {
     "data": {
      "text/plain": [
       "{1, 2, 3, 4}"
      ]
     },
     "execution_count": 47,
     "metadata": {},
     "output_type": "execute_result"
    }
   ],
   "source": [
    "s.add(4)\n",
    "s"
   ]
  },
  {
   "cell_type": "code",
   "execution_count": 48,
   "metadata": {},
   "outputs": [
    {
     "data": {
      "text/plain": [
       "{1, 2, 3, 4}"
      ]
     },
     "execution_count": 48,
     "metadata": {},
     "output_type": "execute_result"
    }
   ],
   "source": [
    "s.add(4)\n",
    "s"
   ]
  },
  {
   "cell_type": "code",
   "execution_count": 49,
   "metadata": {},
   "outputs": [
    {
     "data": {
      "text/plain": [
       "{1, 2, 3}"
      ]
     },
     "execution_count": 49,
     "metadata": {},
     "output_type": "execute_result"
    }
   ],
   "source": [
    "# remove(key)\n",
    "\n",
    "s.remove(4)\n",
    "s"
   ]
  },
  {
   "cell_type": "markdown",
   "metadata": {},
   "source": [
    "两个set可以做数学意义上的交集、并集等操作"
   ]
  },
  {
   "cell_type": "code",
   "execution_count": 50,
   "metadata": {},
   "outputs": [
    {
     "data": {
      "text/plain": [
       "{2, 3}"
      ]
     },
     "execution_count": 50,
     "metadata": {},
     "output_type": "execute_result"
    }
   ],
   "source": [
    "s1 = set([1, 2, 3])\n",
    "s2 = set([2, 3, 4])\n",
    "s1 & s2"
   ]
  },
  {
   "cell_type": "code",
   "execution_count": 51,
   "metadata": {},
   "outputs": [
    {
     "data": {
      "text/plain": [
       "{1, 2, 3, 4}"
      ]
     },
     "execution_count": 51,
     "metadata": {},
     "output_type": "execute_result"
    }
   ],
   "source": [
    "s1 | s2"
   ]
  },
  {
   "cell_type": "code",
   "execution_count": 52,
   "metadata": {},
   "outputs": [
    {
     "ename": "TypeError",
     "evalue": "unhashable type: 'list'",
     "output_type": "error",
     "traceback": [
      "\u001b[1;31m---------------------------------------------------------------------------\u001b[0m",
      "\u001b[1;31mTypeError\u001b[0m                                 Traceback (most recent call last)",
      "\u001b[1;32m<ipython-input-52-343aa6b2850a>\u001b[0m in \u001b[0;36m<module>\u001b[1;34m()\u001b[0m\n\u001b[1;32m----> 1\u001b[1;33m \u001b[0ms1\u001b[0m \u001b[1;33m=\u001b[0m \u001b[0mset\u001b[0m\u001b[1;33m(\u001b[0m\u001b[1;33m[\u001b[0m\u001b[1;36m1\u001b[0m\u001b[1;33m,\u001b[0m \u001b[1;36m2\u001b[0m\u001b[1;33m,\u001b[0m \u001b[1;36m3\u001b[0m\u001b[1;33m,\u001b[0m \u001b[1;33m[\u001b[0m\u001b[1;36m4\u001b[0m\u001b[1;33m,\u001b[0m \u001b[1;36m5\u001b[0m\u001b[1;33m,\u001b[0m \u001b[1;36m6\u001b[0m\u001b[1;33m]\u001b[0m\u001b[1;33m]\u001b[0m\u001b[1;33m)\u001b[0m\u001b[1;33m\u001b[0m\u001b[0m\n\u001b[0m",
      "\u001b[1;31mTypeError\u001b[0m: unhashable type: 'list'"
     ]
    }
   ],
   "source": [
    "s1 = set([1, 2, 3, [4, 5, 6]])"
   ]
  },
  {
   "cell_type": "markdown",
   "metadata": {},
   "source": [
    "## 不可变对象"
   ]
  },
  {
   "cell_type": "markdown",
   "metadata": {},
   "source": [
    "str是不变对象，而list是可变对象\n",
    "\n",
    "对于可变对象，比如list，对list进行操作，list内部的内容是会变化的"
   ]
  },
  {
   "cell_type": "code",
   "execution_count": 54,
   "metadata": {},
   "outputs": [
    {
     "data": {
      "text/plain": [
       "['a', 'b', 'c']"
      ]
     },
     "execution_count": 54,
     "metadata": {},
     "output_type": "execute_result"
    }
   ],
   "source": [
    "a = ['c', 'b', 'a']\n",
    "a.sort()\n",
    "a"
   ]
  },
  {
   "cell_type": "code",
   "execution_count": 56,
   "metadata": {},
   "outputs": [
    {
     "data": {
      "text/plain": [
       "'Abc'"
      ]
     },
     "execution_count": 56,
     "metadata": {},
     "output_type": "execute_result"
    }
   ],
   "source": [
    "# 而对于不可变对象，比如str\n",
    "a = 'abc'\n",
    "a.replace('a', 'A')"
   ]
  },
  {
   "cell_type": "markdown",
   "metadata": {},
   "source": [
    "虽然字符串有个replace()方法，也确实变出了'Abc'，但变量a最后仍是'abc'，应该怎么理解呢？"
   ]
  },
  {
   "cell_type": "code",
   "execution_count": 57,
   "metadata": {},
   "outputs": [
    {
     "data": {
      "text/plain": [
       "'Abc'"
      ]
     },
     "execution_count": 57,
     "metadata": {},
     "output_type": "execute_result"
    }
   ],
   "source": [
    "a = 'abc'\n",
    "b = a.replace('a', 'A')\n",
    "b"
   ]
  },
  {
   "cell_type": "code",
   "execution_count": 58,
   "metadata": {},
   "outputs": [
    {
     "data": {
      "text/plain": [
       "'abc'"
      ]
     },
     "execution_count": 58,
     "metadata": {},
     "output_type": "execute_result"
    }
   ],
   "source": [
    "a"
   ]
  },
  {
   "cell_type": "markdown",
   "metadata": {},
   "source": [
    "要始终牢记的是，a是变量，而'abc'才是字符串对象！有些时候，我们经常说，对象a的内容是'abc'，但其实是指，a本身是一个变量，它指向的对象的内容才是'abc'：\n",
    "```python\n",
    "┌───┐                  ┌─────┐\n",
    "│ a    │────── ──>│ 'abc'    │\n",
    "└───┘                  └─────┘\n",
    "```\n",
    "\n",
    "\n",
    "当我们调用a.replace('a', 'A')时，实际上调用方法replace是作用在字符串对象'abc'上的，而这个方法虽然名字叫replace，但却没有改变字符串'abc'的内容。相反，replace方法创建了一个新字符串'Abc'并返回，如果我们用变量b指向该新字符串，就容易理解了，变量a仍指向原有的字符串'abc'，但变量b却指向新字符串'Abc'了：\n",
    "\n",
    "```python\n",
    "┌───┐                  ┌────┐\n",
    "│ a    │─────── ─>│ 'abc'  │\n",
    "└───┘                  └────┘\n",
    "\n",
    "┌───┐                  ┌───┐\n",
    "│ b    │─────── ─>│ 'Abc'│\n",
    "└───┘                  └───┘\n",
    "```\n",
    "\n",
    "所以，对于不变对象来说，调用对象自身的任意方法，也不会改变该对象自身的内容。相反，这些方法会创建新的对象并返回，这样，就保证了不可变对象本身永远是不可变的。"
   ]
  },
  {
   "cell_type": "code",
   "execution_count": null,
   "metadata": {
    "collapsed": true
   },
   "outputs": [],
   "source": []
  },
  {
   "cell_type": "code",
   "execution_count": null,
   "metadata": {
    "collapsed": true
   },
   "outputs": [],
   "source": []
  }
 ],
 "metadata": {
  "kernelspec": {
   "display_name": "Python [default]",
   "language": "python",
   "name": "python3"
  },
  "language_info": {
   "codemirror_mode": {
    "name": "ipython",
    "version": 3
   },
   "file_extension": ".py",
   "mimetype": "text/x-python",
   "name": "python",
   "nbconvert_exporter": "python",
   "pygments_lexer": "ipython3",
   "version": "3.5.5"
  },
  "toc": {
   "base_numbering": 1,
   "nav_menu": {},
   "number_sections": true,
   "sideBar": true,
   "skip_h1_title": false,
   "title_cell": "Table of Contents",
   "title_sidebar": "Contents",
   "toc_cell": true,
   "toc_position": {
    "height": "calc(100% - 180px)",
    "left": "10px",
    "top": "150px",
    "width": "245px"
   },
   "toc_section_display": true,
   "toc_window_display": true
  },
  "varInspector": {
   "cols": {
    "lenName": 16,
    "lenType": 16,
    "lenVar": 40
   },
   "kernels_config": {
    "python": {
     "delete_cmd_postfix": "",
     "delete_cmd_prefix": "del ",
     "library": "var_list.py",
     "varRefreshCmd": "print(var_dic_list())"
    },
    "r": {
     "delete_cmd_postfix": ") ",
     "delete_cmd_prefix": "rm(",
     "library": "var_list.r",
     "varRefreshCmd": "cat(var_dic_list()) "
    }
   },
   "types_to_exclude": [
    "module",
    "function",
    "builtin_function_or_method",
    "instance",
    "_Feature"
   ],
   "window_display": false
  }
 },
 "nbformat": 4,
 "nbformat_minor": 2
}
