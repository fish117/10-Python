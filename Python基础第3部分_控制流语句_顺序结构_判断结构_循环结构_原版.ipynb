{
 "cells": [
  {
   "cell_type": "markdown",
   "metadata": {
    "toc": true
   },
   "source": [
    "<h1>Table of Contents<span class=\"tocSkip\"></span></h1>\n",
    "<div class=\"toc\"><ul class=\"toc-item\"><li><span><a href=\"#控制流语句\" data-toc-modified-id=\"控制流语句-1\"><span class=\"toc-item-num\">1&nbsp;&nbsp;</span>控制流语句</a></span><ul class=\"toc-item\"><li><span><a href=\"#if条件判断\" data-toc-modified-id=\"if条件判断-1.1\"><span class=\"toc-item-num\">1.1&nbsp;&nbsp;</span>if条件判断</a></span><ul class=\"toc-item\"><li><span><a href=\"#if-嵌套\" data-toc-modified-id=\"if-嵌套-1.1.1\"><span class=\"toc-item-num\">1.1.1&nbsp;&nbsp;</span>if 嵌套</a></span></li><li><span><a href=\"#if嵌套的应用\" data-toc-modified-id=\"if嵌套的应用-1.1.2\"><span class=\"toc-item-num\">1.1.2&nbsp;&nbsp;</span>if嵌套的应用</a></span></li><li><span><a href=\"#练一练\" data-toc-modified-id=\"练一练-1.1.3\"><span class=\"toc-item-num\">1.1.3&nbsp;&nbsp;</span>练一练</a></span></li><li><span><a href=\"#应用:猜拳游戏\" data-toc-modified-id=\"应用:猜拳游戏-1.1.4\"><span class=\"toc-item-num\">1.1.4&nbsp;&nbsp;</span>应用:猜拳游戏</a></span></li></ul></li><li><span><a href=\"#循环语句\" data-toc-modified-id=\"循环语句-1.2\"><span class=\"toc-item-num\">1.2&nbsp;&nbsp;</span>循环语句</a></span><ul class=\"toc-item\"><li><span><a href=\"#while循环\" data-toc-modified-id=\"while循环-1.2.1\"><span class=\"toc-item-num\">1.2.1&nbsp;&nbsp;</span>while循环</a></span></li><li><span><a href=\"#while循环嵌套\" data-toc-modified-id=\"while循环嵌套-1.2.2\"><span class=\"toc-item-num\">1.2.2&nbsp;&nbsp;</span>while循环嵌套</a></span></li><li><span><a href=\"#for循环\" data-toc-modified-id=\"for循环-1.2.3\"><span class=\"toc-item-num\">1.2.3&nbsp;&nbsp;</span>for循环</a></span></li><li><span><a href=\"#break\" data-toc-modified-id=\"break-1.2.4\"><span class=\"toc-item-num\">1.2.4&nbsp;&nbsp;</span>break</a></span></li><li><span><a href=\"#continue\" data-toc-modified-id=\"continue-1.2.5\"><span class=\"toc-item-num\">1.2.5&nbsp;&nbsp;</span>continue</a></span></li><li><span><a href=\"#作业\" data-toc-modified-id=\"作业-1.2.6\"><span class=\"toc-item-num\">1.2.6&nbsp;&nbsp;</span>作业</a></span></li></ul></li></ul></li></ul></div>"
   ]
  },
  {
   "cell_type": "markdown",
   "metadata": {},
   "source": [
    "# 控制流语句"
   ]
  },
  {
   "cell_type": "markdown",
   "metadata": {
    "collapsed": true
   },
   "source": [
    "## if条件判断"
   ]
  },
  {
   "cell_type": "code",
   "execution_count": 17,
   "metadata": {},
   "outputs": [
    {
     "name": "stdout",
     "output_type": "stream",
     "text": [
      "your age is 20\n",
      "adult\n"
     ]
    }
   ],
   "source": [
    "age = 20\n",
    "if age >= 18:\n",
    "    print('your age is', age)\n",
    "    print('adult')"
   ]
  },
  {
   "cell_type": "code",
   "execution_count": null,
   "metadata": {
    "collapsed": true
   },
   "outputs": [],
   "source": []
  },
  {
   "cell_type": "code",
   "execution_count": 18,
   "metadata": {},
   "outputs": [
    {
     "name": "stdout",
     "output_type": "stream",
     "text": [
      "your age is 3\n",
      "teenager\n"
     ]
    }
   ],
   "source": [
    "age = 3\n",
    "if age >= 18:\n",
    "    print('your age is', age)\n",
    "    print('adult')\n",
    "else:\n",
    "    print('your age is', age)\n",
    "    print('teenager')"
   ]
  },
  {
   "cell_type": "code",
   "execution_count": 19,
   "metadata": {},
   "outputs": [
    {
     "name": "stdout",
     "output_type": "stream",
     "text": [
      "kid\n"
     ]
    }
   ],
   "source": [
    "age = 3\n",
    "if age >= 18:\n",
    "    print('adult')\n",
    "elif age >= 6:\n",
    "    print('teenager')\n",
    "else:\n",
    "    print('kid')"
   ]
  },
  {
   "cell_type": "markdown",
   "metadata": {},
   "source": [
    "所以if语句的完整形式就是：\n",
    "\n",
    "```python\n",
    "if <条件判断1>:\n",
    "    <执行1>\n",
    "elif <条件判断2>:\n",
    "    <执行2>\n",
    "elif <条件判断3>:\n",
    "    <执行3>\n",
    "else:\n",
    "    <执行4>\n",
    "\n",
    "```"
   ]
  },
  {
   "cell_type": "markdown",
   "metadata": {},
   "source": [
    "if语句执行有个特点，它是从上往下判断，如果在某个判断上是True，把该判断对应的语句执行后，就忽略掉剩下的elif和else，所以，请测试并解释为什么下面的程序打印的是teenager："
   ]
  },
  {
   "cell_type": "code",
   "execution_count": 20,
   "metadata": {},
   "outputs": [
    {
     "name": "stdout",
     "output_type": "stream",
     "text": [
      "teenager\n"
     ]
    }
   ],
   "source": [
    "age = 20\n",
    "if age >= 6:\n",
    "    print('teenager')\n",
    "elif age >= 18:\n",
    "    print('adult')\n",
    "else:\n",
    "    print('kid')"
   ]
  },
  {
   "cell_type": "markdown",
   "metadata": {},
   "source": [
    "if判断条件还可以简写，比如写：\n",
    "\n",
    "```python\n",
    "if x:\n",
    "    print('True')\n",
    "    \n",
    "```\n",
    "只要x是非零数值、非空字符串、非空list等，就判断为True，否则为False。"
   ]
  },
  {
   "cell_type": "code",
   "execution_count": 21,
   "metadata": {},
   "outputs": [
    {
     "name": "stdout",
     "output_type": "stream",
     "text": [
      "birth: 1000\n"
     ]
    },
    {
     "ename": "TypeError",
     "evalue": "unorderable types: str() < int()",
     "output_type": "error",
     "traceback": [
      "\u001b[1;31m---------------------------------------------------------------------------\u001b[0m",
      "\u001b[1;31mTypeError\u001b[0m                                 Traceback (most recent call last)",
      "\u001b[1;32m<ipython-input-21-786392a83547>\u001b[0m in \u001b[0;36m<module>\u001b[1;34m()\u001b[0m\n\u001b[0;32m      1\u001b[0m \u001b[0mbirth\u001b[0m \u001b[1;33m=\u001b[0m \u001b[0minput\u001b[0m\u001b[1;33m(\u001b[0m\u001b[1;34m'birth: '\u001b[0m\u001b[1;33m)\u001b[0m\u001b[1;33m\u001b[0m\u001b[0m\n\u001b[1;32m----> 2\u001b[1;33m \u001b[1;32mif\u001b[0m \u001b[0mbirth\u001b[0m \u001b[1;33m<\u001b[0m \u001b[1;36m2000\u001b[0m\u001b[1;33m:\u001b[0m\u001b[1;33m\u001b[0m\u001b[0m\n\u001b[0m\u001b[0;32m      3\u001b[0m     \u001b[0mprint\u001b[0m\u001b[1;33m(\u001b[0m\u001b[1;34m'00前'\u001b[0m\u001b[1;33m)\u001b[0m\u001b[1;33m\u001b[0m\u001b[0m\n\u001b[0;32m      4\u001b[0m \u001b[1;32melse\u001b[0m\u001b[1;33m:\u001b[0m\u001b[1;33m\u001b[0m\u001b[0m\n\u001b[0;32m      5\u001b[0m     \u001b[0mprint\u001b[0m\u001b[1;33m(\u001b[0m\u001b[1;34m'00后'\u001b[0m\u001b[1;33m)\u001b[0m\u001b[1;33m\u001b[0m\u001b[0m\n",
      "\u001b[1;31mTypeError\u001b[0m: unorderable types: str() < int()"
     ]
    }
   ],
   "source": [
    "birth = input('birth: ')\n",
    "if birth < 2000:\n",
    "    print('00前')\n",
    "else:\n",
    "    print('00后')"
   ]
  },
  {
   "cell_type": "code",
   "execution_count": 22,
   "metadata": {},
   "outputs": [
    {
     "name": "stdout",
     "output_type": "stream",
     "text": [
      "birth: 1000\n",
      "00前\n"
     ]
    }
   ],
   "source": [
    "s = input('birth: ')\n",
    "birth = int(s)\n",
    "if birth < 2000:\n",
    "    print('00前')\n",
    "else:\n",
    "    print('00后')"
   ]
  },
  {
   "cell_type": "markdown",
   "metadata": {},
   "source": [
    "**练习:**\n",
    "要求：从键盘获取自己的年龄，判断是否大于或者等于18岁，如果满足就输出“哥，已成年，网吧可以去了”\n",
    "\n",
    "使用input从键盘中获取数据，并且存入到一个变量中\n",
    "使用if语句，来判断 age>=18是否成立"
   ]
  },
  {
   "cell_type": "code",
   "execution_count": null,
   "metadata": {
    "collapsed": true
   },
   "outputs": [],
   "source": []
  },
  {
   "cell_type": "markdown",
   "metadata": {},
   "source": [
    "**练习**\n",
    "\n",
    "小明身高1.75，体重80.5kg。请根据BMI公式（体重除以身高的平方）帮小明计算他的BMI指数，并根据BMI指数：\n",
    "\n",
    "低于18.5：过轻\n",
    "18.5-25：正常\n",
    "25-28：过重\n",
    "28-32：肥胖\n",
    "高于32：严重肥胖\n",
    "用if-elif判断并打印结果："
   ]
  },
  {
   "cell_type": "code",
   "execution_count": null,
   "metadata": {},
   "outputs": [],
   "source": []
  },
  {
   "cell_type": "markdown",
   "metadata": {},
   "source": [
    "### if 嵌套"
   ]
  },
  {
   "cell_type": "markdown",
   "metadata": {},
   "source": [
    "if嵌套\n",
    "\n",
    "通过学习if的基本用法，已经知道了\n",
    "\n",
    "当需要满足条件去做事情的这种情况需要使用if\n",
    "当满足条件时做事情A，不满足条件做事情B的这种情况使用if-else\n",
    "想一想：\n",
    "\n",
    "坐火车或者地铁的实际情况是：先进行安检如果安检通过才会判断是否有车票，或者是先检查是否有车票之后才会进行安检，即实际的情况某个判断是再另外一个判断成立的基础上进行的，这样的情况该怎样解决呢？\n",
    "\n",
    "答：\n",
    "\n",
    "if嵌套"
   ]
  },
  {
   "cell_type": "markdown",
   "metadata": {},
   "source": [
    "if嵌套的格式\n",
    "```python\n",
    " if 条件1:\n",
    "\n",
    "        满足条件1 做的事情1\n",
    "        满足条件1 做的事情2\n",
    "        ...(省略)...\n",
    "\n",
    "        if 条件2:\n",
    "            满足条件2 做的事情1\n",
    "            满足条件2 做的事情2\n",
    "            ...(省略)...\n",
    "\n",
    "```"
   ]
  },
  {
   "cell_type": "markdown",
   "metadata": {},
   "source": [
    "### if嵌套的应用"
   ]
  },
  {
   "cell_type": "code",
   "execution_count": 3,
   "metadata": {},
   "outputs": [
    {
     "name": "stdout",
     "output_type": "stream",
     "text": [
      "有车票，可以进站\n",
      "通过安检\n",
      "终于可以见到Ta了，美滋滋~~~\n"
     ]
    }
   ],
   "source": [
    "chePiao = 1     # 用1代表有车票，0代表没有车票\n",
    "daoLenght = 9     # 刀子的长度，单位为cm\n",
    "\n",
    "if chePiao == 1:\n",
    "    print(\"有车票，可以进站\")\n",
    "    if daoLenght < 10:\n",
    "        print(\"通过安检\")\n",
    "        print(\"终于可以见到Ta了，美滋滋~~~\")\n",
    "    else:\n",
    "        print(\"没有通过安检\")\n",
    "        print(\"刀子的长度超过规定，等待警察处理...\")\n",
    "else:\n",
    "    print(\"没有车票，不能进站\")\n",
    "    print(\"亲爱的，那就下次见了，一票难求啊~~~~(>_<)~~~~\")"
   ]
  },
  {
   "cell_type": "markdown",
   "metadata": {},
   "source": [
    "### 练一练\n",
    "\n",
    "情节描述：上公交车，并且可以有座位坐下\n",
    "\n",
    "要求：输入公交卡当前的余额，只要超过2元，就可以上公交车；如果空座位的数量大于0，就可以坐下"
   ]
  },
  {
   "cell_type": "markdown",
   "metadata": {},
   "source": [
    "### 应用:猜拳游戏"
   ]
  },
  {
   "cell_type": "code",
   "execution_count": null,
   "metadata": {},
   "outputs": [],
   "source": []
  },
  {
   "cell_type": "markdown",
   "metadata": {},
   "source": [
    "## 循环语句"
   ]
  },
  {
   "cell_type": "markdown",
   "metadata": {},
   "source": [
    "循环语句的使用场景\n",
    "\n",
    "这一天老师让你抄写一百遍\"我错了\""
   ]
  },
  {
   "cell_type": "code",
   "execution_count": 4,
   "metadata": {},
   "outputs": [
    {
     "name": "stdout",
     "output_type": "stream",
     "text": [
      "我错了\n",
      "我错了\n",
      "我错了\n",
      "我错了\n",
      "我错了\n",
      "......\n"
     ]
    }
   ],
   "source": [
    "print(\"我错了\")\n",
    "print(\"我错了\")\n",
    "print(\"我错了\")\n",
    "print(\"我错了\")\n",
    "print(\"我错了\")\n",
    "print(\"......\")"
   ]
  },
  {
   "cell_type": "code",
   "execution_count": 7,
   "metadata": {
    "collapsed": true
   },
   "outputs": [
    {
     "name": "stdout",
     "output_type": "stream",
     "text": [
      "第 0 次, 我错了\n",
      "第 1 次, 我错了\n",
      "第 2 次, 我错了\n",
      "第 3 次, 我错了\n",
      "第 4 次, 我错了\n",
      "第 5 次, 我错了\n",
      "第 6 次, 我错了\n",
      "第 7 次, 我错了\n",
      "第 8 次, 我错了\n",
      "第 9 次, 我错了\n",
      "第 10 次, 我错了\n",
      "第 11 次, 我错了\n",
      "第 12 次, 我错了\n",
      "第 13 次, 我错了\n",
      "第 14 次, 我错了\n",
      "第 15 次, 我错了\n",
      "第 16 次, 我错了\n",
      "第 17 次, 我错了\n",
      "第 18 次, 我错了\n",
      "第 19 次, 我错了\n",
      "第 20 次, 我错了\n",
      "第 21 次, 我错了\n",
      "第 22 次, 我错了\n",
      "第 23 次, 我错了\n",
      "第 24 次, 我错了\n",
      "第 25 次, 我错了\n",
      "第 26 次, 我错了\n",
      "第 27 次, 我错了\n",
      "第 28 次, 我错了\n",
      "第 29 次, 我错了\n",
      "第 30 次, 我错了\n",
      "第 31 次, 我错了\n",
      "第 32 次, 我错了\n",
      "第 33 次, 我错了\n",
      "第 34 次, 我错了\n",
      "第 35 次, 我错了\n",
      "第 36 次, 我错了\n",
      "第 37 次, 我错了\n",
      "第 38 次, 我错了\n",
      "第 39 次, 我错了\n",
      "第 40 次, 我错了\n",
      "第 41 次, 我错了\n",
      "第 42 次, 我错了\n",
      "第 43 次, 我错了\n",
      "第 44 次, 我错了\n",
      "第 45 次, 我错了\n",
      "第 46 次, 我错了\n",
      "第 47 次, 我错了\n",
      "第 48 次, 我错了\n",
      "第 49 次, 我错了\n",
      "第 50 次, 我错了\n",
      "第 51 次, 我错了\n",
      "第 52 次, 我错了\n",
      "第 53 次, 我错了\n",
      "第 54 次, 我错了\n",
      "第 55 次, 我错了\n",
      "第 56 次, 我错了\n",
      "第 57 次, 我错了\n",
      "第 58 次, 我错了\n",
      "第 59 次, 我错了\n",
      "第 60 次, 我错了\n",
      "第 61 次, 我错了\n",
      "第 62 次, 我错了\n",
      "第 63 次, 我错了\n",
      "第 64 次, 我错了\n",
      "第 65 次, 我错了\n",
      "第 66 次, 我错了\n",
      "第 67 次, 我错了\n",
      "第 68 次, 我错了\n",
      "第 69 次, 我错了\n",
      "第 70 次, 我错了\n",
      "第 71 次, 我错了\n",
      "第 72 次, 我错了\n",
      "第 73 次, 我错了\n",
      "第 74 次, 我错了\n",
      "第 75 次, 我错了\n",
      "第 76 次, 我错了\n",
      "第 77 次, 我错了\n",
      "第 78 次, 我错了\n",
      "第 79 次, 我错了\n",
      "第 80 次, 我错了\n",
      "第 81 次, 我错了\n",
      "第 82 次, 我错了\n",
      "第 83 次, 我错了\n",
      "第 84 次, 我错了\n",
      "第 85 次, 我错了\n",
      "第 86 次, 我错了\n",
      "第 87 次, 我错了\n",
      "第 88 次, 我错了\n",
      "第 89 次, 我错了\n",
      "第 90 次, 我错了\n",
      "第 91 次, 我错了\n",
      "第 92 次, 我错了\n",
      "第 93 次, 我错了\n",
      "第 94 次, 我错了\n",
      "第 95 次, 我错了\n",
      "第 96 次, 我错了\n",
      "第 97 次, 我错了\n",
      "第 98 次, 我错了\n",
      "第 99 次, 我错了\n"
     ]
    }
   ],
   "source": [
    "i = 0\n",
    "while i < 100:\n",
    "    print(\"第\", i, \"次,\", \"我错了\")\n",
    "    i += 1"
   ]
  },
  {
   "cell_type": "markdown",
   "metadata": {},
   "source": [
    "### while循环"
   ]
  },
  {
   "cell_type": "markdown",
   "metadata": {},
   "source": [
    "```python\n",
    "while 条件:\n",
    "        条件满足时，做的事情1\n",
    "        条件满足时，做的事情2\n",
    "        条件满足时，做的事情3\n",
    "        ...(省略)...\n",
    "```"
   ]
  },
  {
   "cell_type": "code",
   "execution_count": 8,
   "metadata": {},
   "outputs": [
    {
     "name": "stdout",
     "output_type": "stream",
     "text": [
      "当前是第1次执行循环\n",
      "i=0\n",
      "当前是第2次执行循环\n",
      "i=1\n",
      "当前是第3次执行循环\n",
      "i=2\n",
      "当前是第4次执行循环\n",
      "i=3\n",
      "当前是第5次执行循环\n",
      "i=4\n"
     ]
    }
   ],
   "source": [
    "i = 0\n",
    "while i<5:\n",
    "    print(\"当前是第%d次执行循环\"%(i+1))\n",
    "    print(\"i=%d\"%i)\n",
    "    i+=1"
   ]
  },
  {
   "cell_type": "code",
   "execution_count": null,
   "metadata": {
    "collapsed": true
   },
   "outputs": [],
   "source": []
  },
  {
   "cell_type": "code",
   "execution_count": 12,
   "metadata": {},
   "outputs": [
    {
     "name": "stdout",
     "output_type": "stream",
     "text": [
      "1~100的累积和为:5050\n"
     ]
    }
   ],
   "source": [
    "#计算1~100的累积和（包含1和100）\n",
    "\n",
    "i = 1\n",
    "sum = 0\n",
    "while i<=100:\n",
    "    sum = sum + i\n",
    "    i += 1\n",
    "\n",
    "print(\"1~100的累积和为:{}\".format(sum))"
   ]
  },
  {
   "cell_type": "code",
   "execution_count": 13,
   "metadata": {},
   "outputs": [
    {
     "name": "stdout",
     "output_type": "stream",
     "text": [
      "1~100的累积和为:2550\n"
     ]
    }
   ],
   "source": [
    "# 计算1~100之间偶数的累积和（包含1和100）\n",
    "i = 1\n",
    "sum = 0\n",
    "while i<=100:\n",
    "    if i%2 == 0:\n",
    "        sum = sum + i\n",
    "    i+=1\n",
    "\n",
    "print(\"1~100的累积和为:{}\".format(sum))"
   ]
  },
  {
   "cell_type": "markdown",
   "metadata": {},
   "source": [
    "### while循环嵌套"
   ]
  },
  {
   "cell_type": "code",
   "execution_count": 15,
   "metadata": {},
   "outputs": [
    {
     "name": "stdout",
     "output_type": "stream",
     "text": [
      "* \n",
      "\n",
      "* * \n",
      "\n",
      "* * * \n",
      "\n",
      "* * * * \n",
      "\n",
      "* * * * * \n",
      "\n"
     ]
    }
   ],
   "source": [
    "i = 1\n",
    "while i<=5:\n",
    "\n",
    "    j = 1\n",
    "    while j<=i:\n",
    "        print(\"* \",end='')\n",
    "        j+=1\n",
    "\n",
    "    print(\"\\n\")\n",
    "    i+=1"
   ]
  },
  {
   "cell_type": "markdown",
   "metadata": {},
   "source": [
    "### for循环"
   ]
  },
  {
   "cell_type": "markdown",
   "metadata": {},
   "source": [
    "像while循环一样，for可以完成循环的功能。\n",
    "\n",
    "在Python中 for循环可以遍历任何序列的项目，如一个列表或者一个字符串等。\n",
    "\n",
    "for循环的格式\n",
    "\n",
    "```python\n",
    "    for 临时变量 in 列表或者字符串等:\n",
    "        循环满足条件时执行的代码\n",
    "    else:\n",
    "        循环不满足条件时执行的代码\n",
    "\n",
    "```"
   ]
  },
  {
   "cell_type": "code",
   "execution_count": 19,
   "metadata": {},
   "outputs": [
    {
     "name": "stdout",
     "output_type": "stream",
     "text": [
      "世\n",
      "界\n",
      "杯\n",
      "在\n",
      "召\n",
      "唤\n",
      "我\n"
     ]
    }
   ],
   "source": [
    "name = '世界杯在召唤我'\n",
    "\n",
    "for x in name:\n",
    "    print(x)"
   ]
  },
  {
   "cell_type": "code",
   "execution_count": 20,
   "metadata": {},
   "outputs": [
    {
     "name": "stdout",
     "output_type": "stream",
     "text": [
      "世\n",
      "界\n",
      "杯\n",
      "在\n",
      "召\n",
      "唤\n",
      "我\n",
      "循环完了\n"
     ]
    }
   ],
   "source": [
    "name = '世界杯在召唤我'\n",
    "\n",
    "for x in name:\n",
    "    print(x)\n",
    "else:\n",
    "    print(\"循环完了\")"
   ]
  },
  {
   "cell_type": "code",
   "execution_count": 3,
   "metadata": {},
   "outputs": [
    {
     "data": {
      "text/plain": [
       "range(0, 10)"
      ]
     },
     "execution_count": 3,
     "metadata": {},
     "output_type": "execute_result"
    }
   ],
   "source": [
    "range(10)"
   ]
  },
  {
   "cell_type": "code",
   "execution_count": 4,
   "metadata": {},
   "outputs": [
    {
     "name": "stdout",
     "output_type": "stream",
     "text": [
      "0\n",
      "1\n",
      "2\n",
      "3\n",
      "4\n",
      "5\n",
      "6\n",
      "7\n",
      "8\n",
      "9\n"
     ]
    }
   ],
   "source": [
    "for i in range(10):\n",
    "    print(i)"
   ]
  },
  {
   "cell_type": "code",
   "execution_count": 5,
   "metadata": {},
   "outputs": [
    {
     "name": "stdout",
     "output_type": "stream",
     "text": [
      "0\n",
      "1\n",
      "4\n",
      "9\n",
      "16\n",
      "25\n",
      "36\n",
      "49\n",
      "64\n",
      "81\n"
     ]
    }
   ],
   "source": [
    "for i in range(10):\n",
    "    print(i**2)"
   ]
  },
  {
   "cell_type": "markdown",
   "metadata": {},
   "source": [
    "### break\n",
    "\n",
    "退出本\"层\"循环"
   ]
  },
  {
   "cell_type": "code",
   "execution_count": 21,
   "metadata": {},
   "outputs": [
    {
     "name": "stdout",
     "output_type": "stream",
     "text": [
      "----\n",
      "世\n",
      "----\n",
      "界\n",
      "----\n",
      "杯\n",
      "----\n"
     ]
    }
   ],
   "source": [
    "name = '世界杯在召唤我'\n",
    "\n",
    "for x in name:\n",
    "  print('----')\n",
    "  if x == '在': \n",
    "      break\n",
    "  print(x)"
   ]
  },
  {
   "cell_type": "code",
   "execution_count": 24,
   "metadata": {},
   "outputs": [
    {
     "name": "stdout",
     "output_type": "stream",
     "text": [
      "----\n",
      "1\n",
      "----\n",
      "2\n",
      "----\n",
      "3\n",
      "----\n",
      "4\n",
      "----\n"
     ]
    }
   ],
   "source": [
    "i = 0\n",
    "\n",
    "while i<10:\n",
    "    i = i+1\n",
    "    print('----')\n",
    "    if i==5:\n",
    "        break\n",
    "    print(i)"
   ]
  },
  {
   "cell_type": "markdown",
   "metadata": {},
   "source": [
    "break的作用：用来结束整个循环"
   ]
  },
  {
   "cell_type": "markdown",
   "metadata": {},
   "source": [
    "### continue\n",
    "\n",
    "结束本\"次\"循环\n",
    "\n",
    "continue的作用：用来结束本次循环，紧接着执行下一次的循环"
   ]
  },
  {
   "cell_type": "code",
   "execution_count": 25,
   "metadata": {},
   "outputs": [
    {
     "name": "stdout",
     "output_type": "stream",
     "text": [
      "----\n",
      "世\n",
      "----\n",
      "界\n",
      "----\n",
      "杯\n",
      "----\n",
      "----\n",
      "召\n",
      "----\n",
      "唤\n",
      "----\n",
      "我\n"
     ]
    }
   ],
   "source": [
    "name = '世界杯在召唤我'\n",
    "\n",
    "for x in name:\n",
    "    print('----')\n",
    "    if x == '在': \n",
    "        continue\n",
    "    print(x)"
   ]
  },
  {
   "cell_type": "code",
   "execution_count": 26,
   "metadata": {
    "scrolled": false
   },
   "outputs": [
    {
     "name": "stdout",
     "output_type": "stream",
     "text": [
      "----\n",
      "1\n",
      "----\n",
      "2\n",
      "----\n",
      "3\n",
      "----\n",
      "4\n",
      "----\n",
      "----\n",
      "6\n",
      "----\n",
      "7\n",
      "----\n",
      "8\n",
      "----\n",
      "9\n",
      "----\n",
      "10\n"
     ]
    }
   ],
   "source": [
    "i = 0\n",
    "\n",
    "while i<10:\n",
    "    i = i+1\n",
    "    print('----')\n",
    "    if i==5:\n",
    "        continue\n",
    "    print(i)"
   ]
  },
  {
   "cell_type": "markdown",
   "metadata": {},
   "source": [
    "注意:\n",
    "\n",
    "break/continue只能用在循环中，除此以外不能单独使用\n",
    "\n",
    "break/continue在嵌套循环中，只对最近的一层循环起作用"
   ]
  },
  {
   "cell_type": "markdown",
   "metadata": {},
   "source": [
    "### 作业\n",
    "\n",
    "1.使用if，编写程序，实现以下功能：\n",
    "\n",
    "- 从键盘获取用户名、密码\n",
    "- 如果用户名和密码都正确（预先设定一个用户名和密码），那么就显示“欢迎进入xxx的世界”，否则提示密码或者用户名错误\n",
    "\n",
    "2.使用while，完成以下图形的输出\n",
    "\n",
    "```python\n",
    "*\n",
    "* *\n",
    "* * *\n",
    "* * * *\n",
    "* * * * *\n",
    "* * * *\n",
    "* * *\n",
    "* *\n",
    "*\n",
    "```"
   ]
  },
  {
   "cell_type": "code",
   "execution_count": null,
   "metadata": {
    "collapsed": true
   },
   "outputs": [],
   "source": []
  },
  {
   "cell_type": "code",
   "execution_count": null,
   "metadata": {
    "collapsed": true
   },
   "outputs": [],
   "source": []
  },
  {
   "cell_type": "code",
   "execution_count": null,
   "metadata": {
    "collapsed": true
   },
   "outputs": [],
   "source": []
  },
  {
   "cell_type": "code",
   "execution_count": null,
   "metadata": {
    "collapsed": true
   },
   "outputs": [],
   "source": []
  },
  {
   "cell_type": "code",
   "execution_count": null,
   "metadata": {
    "collapsed": true
   },
   "outputs": [],
   "source": []
  },
  {
   "cell_type": "code",
   "execution_count": null,
   "metadata": {
    "collapsed": true
   },
   "outputs": [],
   "source": []
  },
  {
   "cell_type": "code",
   "execution_count": null,
   "metadata": {
    "collapsed": true
   },
   "outputs": [],
   "source": []
  }
 ],
 "metadata": {
  "kernelspec": {
   "display_name": "Python 3",
   "language": "python",
   "name": "python3"
  },
  "language_info": {
   "codemirror_mode": {
    "name": "ipython",
    "version": 3
   },
   "file_extension": ".py",
   "mimetype": "text/x-python",
   "name": "python",
   "nbconvert_exporter": "python",
   "pygments_lexer": "ipython3",
   "version": "3.6.5"
  },
  "toc": {
   "base_numbering": 1,
   "nav_menu": {},
   "number_sections": true,
   "sideBar": true,
   "skip_h1_title": false,
   "title_cell": "Table of Contents",
   "title_sidebar": "Contents",
   "toc_cell": true,
   "toc_position": {
    "height": "calc(100% - 180px)",
    "left": "10px",
    "top": "150px",
    "width": "245px"
   },
   "toc_section_display": true,
   "toc_window_display": true
  }
 },
 "nbformat": 4,
 "nbformat_minor": 2
}
