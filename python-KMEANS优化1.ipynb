{
 "cells": [
  {
   "cell_type": "code",
   "execution_count": 12,
   "metadata": {
    "collapsed": true
   },
   "outputs": [],
   "source": [
    "import numpy as np\n",
    "import matplotlib.pyplot as plt"
   ]
  },
  {
   "cell_type": "code",
   "execution_count": 13,
   "metadata": {
    "collapsed": true
   },
   "outputs": [],
   "source": [
    "data = np.genfromtxt('kmeans.txt',delimiter=' ')"
   ]
  },
  {
   "cell_type": "code",
   "execution_count": 14,
   "metadata": {
    "collapsed": false
   },
   "outputs": [
    {
     "data": {
      "image/png": "[encoded data removed]",
      "text/plain": [
       "<matplotlib.figure.Figure at 0x7cb3cf8>"
      ]
     },
     "metadata": {},
     "output_type": "display_data"
    }
   ],
   "source": [
    "plt.scatter(data[:,0],data[:,1])\n",
    "plt.show()"
   ]
  },
  {
   "cell_type": "code",
   "execution_count": 15,
   "metadata": {
    "collapsed": true
   },
   "outputs": [],
   "source": [
    "def euclDistance(vector1, vector2):\n",
    "    return np.sqrt(sum((vector1-vector2)**2))\n",
    "\n",
    "def initCentroids(data, k):\n",
    "    numSamples, dim = data.shape\n",
    "    # k个质心，列数跟样本的列数一样\n",
    "    centroids = np.zeros((k, dim))\n",
    "    # 随机选出k个质心\n",
    "    for i in range(k):\n",
    "        # 随机选取一个样本的索引\n",
    "        index = int(np.random.uniform(0, numSamples))\n",
    "        # 作为初始化的质心\n",
    "        centroids[i,:] = data[index,:]\n",
    "    return centroids\n",
    "\n",
    "# 传入数据和k值\n",
    "def kmeans(data, k):\n",
    "    # 计算样本的个数\n",
    "    numSamples = data.shape[0]\n",
    "    # clusterData样本的属性，行是代表各个样本，第一列保存样本属于哪个簇，\n",
    "    # 第二列保存样本跟它所属簇的距离\n",
    "    clusterData = np.array(np.zeros((numSamples, 2)))\n",
    "    # 决定质心是否要改变\n",
    "    clusterChanged = True\n",
    "    \n",
    "    # 初始化质心\n",
    "    centroids = initCentroids(data, k)\n",
    "    \n",
    "    while clusterChanged:\n",
    "        clusterChanged = False\n",
    "        # 循环每一个样本\n",
    "        for i in range(numSamples):\n",
    "            # 最小距离\n",
    "            minDist = 100000.0\n",
    "            # 定义样本所属的簇\n",
    "            minIndex = 0\n",
    "            # 循环计算每一个质心和样本的距离\n",
    "            for j in range(k):\n",
    "                # 计算距离\n",
    "                distance = euclDistance(centroids[j,:],data[i,:])\n",
    "                if distance < minDist:\n",
    "                    # 更新最小距离\n",
    "                    minDist = distance\n",
    "                    # 更新样本所属的簇\n",
    "                    minIndex = j\n",
    "                    # 更新样本保存的最小距离\n",
    "                    clusterData[i,1] = distance\n",
    "                  \n",
    "            # 如果样本所属的簇发生改变\n",
    "            if clusterData[i,0] != minIndex:\n",
    "                # 质心发生改变\n",
    "                clusterChanged = True\n",
    "                # 更新样本的簇\n",
    "                clusterData[i,0] = minIndex\n",
    "        \n",
    "        # 更新质心\n",
    "        for j in range(k):\n",
    "            # 获取第j个簇所有的样本所在的索引\n",
    "            cluster_index = np.nonzero(clusterData[:,0]==j)\n",
    "            # 第j个簇所有的样本点\n",
    "            pointsInCluster = data[cluster_index]\n",
    "            # 计算质心\n",
    "            centroids[j,:] = np.mean(pointsInCluster,axis=0)\n",
    "        \n",
    "#         showCluster(data, k, centroids, clusterData)\n",
    "        \n",
    "    return centroids, clusterData"
   ]
  },
  {
   "cell_type": "code",
   "execution_count": 16,
   "metadata": {
    "collapsed": false
   },
   "outputs": [],
   "source": [
    "# 设置k值\n",
    "k = 4\n",
    "\n",
    "# centroids簇的中心\n",
    "# clusterData样本的属性，行是代表各个样本，第一列保存样本属于哪个簇，\n",
    "# 第二列保存样本跟它所属簇的距离\n",
    "centroids,clusterData = kmeans(data, k)"
   ]
  },
  {
   "cell_type": "code",
   "execution_count": 17,
   "metadata": {
    "collapsed": false
   },
   "outputs": [
    {
     "data": {
      "text/plain": [
       "array([[ 2.6265299 ,  3.10868015],\n",
       "       [ 2.65077367, -2.79019029],\n",
       "       [-3.53973889, -2.89384326],\n",
       "       [-2.46154315,  2.78737555]])"
      ]
     },
     "execution_count": 17,
     "metadata": {},
     "output_type": "execute_result"
    }
   ],
   "source": [
    "centroids"
   ]
  },
  {
   "cell_type": "code",
   "execution_count": 18,
   "metadata": {
    "collapsed": false
   },
   "outputs": [
    {
     "data": {
      "text/plain": [
       "array([[ 0.        ,  1.52321748],\n",
       "       [ 3.        ,  1.17900336],\n",
       "       [ 1.        ,  2.73308265],\n",
       "       [ 2.        ,  1.89862393],\n",
       "       [ 0.        ,  1.66423502],\n",
       "       [ 3.        ,  1.67362246],\n",
       "       [ 1.        ,  2.25895462],\n",
       "       [ 2.        ,  1.17059516],\n",
       "       [ 0.        ,  1.51442703],\n",
       "       [ 3.        ,  0.80372102],\n",
       "       [ 1.        ,  1.31460906],\n",
       "       [ 2.        ,  0.78044598],\n",
       "       [ 0.        ,  1.5864911 ],\n",
       "       [ 3.        ,  0.37244653],\n",
       "       [ 1.        ,  3.02134578],\n",
       "       [ 1.        ,  3.2615729 ],\n",
       "       [ 0.        ,  1.54831171],\n",
       "       [ 3.        ,  1.76136981],\n",
       "       [ 1.        ,  0.6380005 ],\n",
       "       [ 2.        ,  0.70016851],\n",
       "       [ 0.        ,  0.37243272],\n",
       "       [ 3.        ,  0.71431155],\n",
       "       [ 1.        ,  0.99698365],\n",
       "       [ 2.        ,  0.1787465 ],\n",
       "       [ 0.        ,  1.14717525],\n",
       "       [ 3.        ,  0.95299726],\n",
       "       [ 1.        ,  0.73808875],\n",
       "       [ 2.        ,  0.56274476],\n",
       "       [ 0.        ,  0.46237065],\n",
       "       [ 3.        ,  2.01403167],\n",
       "       [ 1.        ,  2.10941336],\n",
       "       [ 2.        ,  0.64693459],\n",
       "       [ 0.        ,  0.69003097],\n",
       "       [ 3.        ,  1.24263474],\n",
       "       [ 1.        ,  2.61488837],\n",
       "       [ 2.        ,  1.13441851],\n",
       "       [ 0.        ,  2.20849671],\n",
       "       [ 3.        ,  1.76834366],\n",
       "       [ 1.        ,  0.22766046],\n",
       "       [ 2.        ,  0.46740345],\n",
       "       [ 0.        ,  0.94072084],\n",
       "       [ 3.        ,  0.28264306],\n",
       "       [ 1.        ,  0.81776605],\n",
       "       [ 2.        ,  1.95030594],\n",
       "       [ 0.        ,  0.30537248],\n",
       "       [ 3.        ,  0.95587941],\n",
       "       [ 1.        ,  1.1157394 ],\n",
       "       [ 2.        ,  0.51241015],\n",
       "       [ 0.        ,  0.973133  ],\n",
       "       [ 3.        ,  1.62430415],\n",
       "       [ 1.        ,  0.55830158],\n",
       "       [ 2.        ,  1.30586584],\n",
       "       [ 0.        ,  2.33830874],\n",
       "       [ 3.        ,  2.39406258],\n",
       "       [ 1.        ,  0.47128124],\n",
       "       [ 2.        ,  0.47706228],\n",
       "       [ 0.        ,  1.15266949],\n",
       "       [ 3.        ,  0.154283  ],\n",
       "       [ 1.        ,  0.87607678],\n",
       "       [ 2.        ,  0.77223217],\n",
       "       [ 0.        ,  0.67490952],\n",
       "       [ 3.        ,  0.14007598],\n",
       "       [ 1.        ,  1.43019127],\n",
       "       [ 2.        ,  1.31382715],\n",
       "       [ 0.        ,  1.12411748],\n",
       "       [ 3.        ,  1.15372603],\n",
       "       [ 1.        ,  0.43618951],\n",
       "       [ 2.        ,  0.9128413 ],\n",
       "       [ 0.        ,  0.30862863],\n",
       "       [ 3.        ,  0.79065148],\n",
       "       [ 1.        ,  0.91300802],\n",
       "       [ 2.        ,  1.27461225],\n",
       "       [ 0.        ,  2.52829447],\n",
       "       [ 3.        ,  0.44855365],\n",
       "       [ 1.        ,  2.0308991 ],\n",
       "       [ 2.        ,  1.05403955],\n",
       "       [ 0.        ,  0.26570937],\n",
       "       [ 3.        ,  0.50980516],\n",
       "       [ 1.        ,  2.09645134],\n",
       "       [ 2.        ,  1.36593574]])"
      ]
     },
     "execution_count": 18,
     "metadata": {},
     "output_type": "execute_result"
    }
   ],
   "source": [
    "clusterData"
   ]
  },
  {
   "cell_type": "code",
   "execution_count": 19,
   "metadata": {
    "collapsed": true
   },
   "outputs": [],
   "source": [
    "# 显示结果\n",
    "def showCluster(data, k, centroids, clusterData):\n",
    "    numSamples, dim = data.shape\n",
    "    if dim !=2 :\n",
    "        print(\"dimension of your data is not 2!\")\n",
    "        return 1\n",
    "    # 用不同颜色形状来表示各个类别\n",
    "    mark = ['or','ob','og','ok','^r','+r','sr','dr','<r','pr']\n",
    "    # 画样本点\n",
    "    for i in range(numSamples):\n",
    "        # 获取样本点的类别\n",
    "        markIndex = int(clusterData[i,0])\n",
    "        plt.plot(data[i,0],data[i,1],mark[markIndex])\n",
    "    \n",
    "    # 画质心\n",
    "    mark = ['*r','*b','*g','*k','^r','+r','sr','dr','<r','pr']\n",
    "    for i in range(k):\n",
    "        plt.plot(centroids[i,0], centroids[i,1], mark[i], markersize = 20)\n",
    "    plt.show()"
   ]
  },
  {
   "cell_type": "code",
   "execution_count": 20,
   "metadata": {
    "collapsed": false
   },
   "outputs": [
    {
     "data": {
      "image/png": "[encoded data removed]",
      "text/plain": [
       "<matplotlib.figure.Figure at 0x804b1d0>"
      ]
     },
     "metadata": {},
     "output_type": "display_data"
    }
   ],
   "source": [
    "showCluster(data, k, centroids, clusterData)"
   ]
  },
  {
   "cell_type": "markdown",
   "metadata": {},
   "source": [
    "# 做预测"
   ]
  },
  {
   "cell_type": "code",
   "execution_count": 21,
   "metadata": {
    "collapsed": true
   },
   "outputs": [],
   "source": [
    "x_test = [0,1]"
   ]
  },
  {
   "cell_type": "code",
   "execution_count": 22,
   "metadata": {
    "collapsed": false
   },
   "outputs": [
    {
     "data": {
      "text/plain": [
       "array([[0, 1],\n",
       "       [0, 1],\n",
       "       [0, 1],\n",
       "       [0, 1]])"
      ]
     },
     "execution_count": 22,
     "metadata": {},
     "output_type": "execute_result"
    }
   ],
   "source": [
    "np.tile(x_test,(k,1))"
   ]
  },
  {
   "cell_type": "code",
   "execution_count": 23,
   "metadata": {
    "collapsed": false
   },
   "outputs": [
    {
     "data": {
      "text/plain": [
       "array([[-2.6265299 , -2.10868015],\n",
       "       [-2.65077367,  3.79019029],\n",
       "       [ 3.53973889,  3.89384326],\n",
       "       [ 2.46154315, -1.78737555]])"
      ]
     },
     "execution_count": 23,
     "metadata": {},
     "output_type": "execute_result"
    }
   ],
   "source": [
    "np.tile(x_test,(k,1)) - centroids"
   ]
  },
  {
   "cell_type": "code",
   "execution_count": 24,
   "metadata": {
    "collapsed": false
   },
   "outputs": [
    {
     "data": {
      "text/plain": [
       "array([[  6.89865932,   4.44653198],\n",
       "       [  7.02660103,  14.3655424 ],\n",
       "       [ 12.52975144,  15.16201536],\n",
       "       [  6.05919468,   3.19471136]])"
      ]
     },
     "execution_count": 24,
     "metadata": {},
     "output_type": "execute_result"
    }
   ],
   "source": [
    "(np.tile(x_test,(k,1)) - centroids)**2"
   ]
  },
  {
   "cell_type": "code",
   "execution_count": 25,
   "metadata": {
    "collapsed": false
   },
   "outputs": [
    {
     "data": {
      "text/plain": [
       "array([ 11.34519129,  21.39214343,  27.6917668 ,   9.25390604])"
      ]
     },
     "execution_count": 25,
     "metadata": {},
     "output_type": "execute_result"
    }
   ],
   "source": [
    "((np.tile(x_test,(k,1)) - centroids)**2).sum(axis=1)"
   ]
  },
  {
   "cell_type": "code",
   "execution_count": 26,
   "metadata": {
    "collapsed": false
   },
   "outputs": [
    {
     "data": {
      "text/plain": [
       "array([ 3.36826235,  4.62516415,  5.26229672,  3.04202335])"
      ]
     },
     "execution_count": 26,
     "metadata": {},
     "output_type": "execute_result"
    }
   ],
   "source": [
    "np.sqrt(((np.tile(x_test,(k,1)) - centroids)**2).sum(axis=1))"
   ]
  },
  {
   "cell_type": "code",
   "execution_count": 27,
   "metadata": {
    "collapsed": false
   },
   "outputs": [
    {
     "data": {
      "text/plain": [
       "3"
      ]
     },
     "execution_count": 27,
     "metadata": {},
     "output_type": "execute_result"
    }
   ],
   "source": [
    "np.argmin(np.sqrt(((np.tile(x_test,(k,1)) - centroids)**2).sum(axis=1)))"
   ]
  },
  {
   "cell_type": "code",
   "execution_count": 28,
   "metadata": {
    "collapsed": true
   },
   "outputs": [],
   "source": [
    "def predict(datas):\n",
    "    return np.array([np.argmin(np.sqrt(((np.tile(data,(k,1)) - centroids)**2).sum(axis=1))) for data in datas])"
   ]
  },
  {
   "cell_type": "markdown",
   "metadata": {},
   "source": [
    "# 画出每个簇的区域"
   ]
  },
  {
   "cell_type": "code",
   "execution_count": 29,
   "metadata": {
    "collapsed": false,
    "scrolled": true
   },
   "outputs": [
    {
     "name": "stderr",
     "output_type": "stream",
     "text": [
      "C:\\Anaconda3\\lib\\site-packages\\numpy\\ma\\core.py:6385: MaskedArrayFutureWarning: In the future the default for ma.minimum.reduce will be axis=0, not the current None, to match np.minimum.reduce. Explicitly pass 0 or None to silence this warning.\n",
      "  return self.reduce(a)\n",
      "C:\\Anaconda3\\lib\\site-packages\\numpy\\ma\\core.py:6385: MaskedArrayFutureWarning: In the future the default for ma.maximum.reduce will be axis=0, not the current None, to match np.maximum.reduce. Explicitly pass 0 or None to silence this warning.\n",
      "  return self.reduce(a)\n"
     ]
    },
    {
     "data": {
      "image/png": "[encoded data removed]",
      "text/plain": [
       "<matplotlib.figure.Figure at 0x80090f0>"
      ]
     },
     "metadata": {},
     "output_type": "display_data"
    }
   ],
   "source": [
    "# 获取数据值所在的范围\n",
    "x_min, x_max = data[:, 0].min() - 1, data[:, 0].max() + 1\n",
    "y_min, y_max = data[:, 1].min() - 1, data[:, 1].max() + 1\n",
    "\n",
    "# 生成网格矩阵\n",
    "xx, yy = np.meshgrid(np.arange(x_min, x_max, 0.02),\n",
    "                     np.arange(y_min, y_max, 0.02))\n",
    "\n",
    "z = predict(np.c_[xx.ravel(), yy.ravel()])# ravel与flatten类似，多维数据转一维。flatten不会改变原始数据，ravel会改变原始数据\n",
    "z = z.reshape(xx.shape)\n",
    "# 等高线图\n",
    "cs = plt.contourf(xx, yy, z)\n",
    "\n",
    "showCluster(data, k, centroids, clusterData)"
   ]
  },
  {
   "cell_type": "code",
   "execution_count": 30,
   "metadata": {
    "collapsed": false
   },
   "outputs": [
    {
     "data": {
      "text/plain": [
       "array([0, 3, 1, 2, 0, 3, 1, 2, 0, 3, 1, 2, 0, 3, 1, 1, 0, 3, 1, 2, 0, 3, 1,\n",
       "       2, 0, 3, 1, 2, 0, 3, 1, 2, 0, 3, 1, 2, 0, 3, 1, 2, 0, 3, 1, 2, 0, 3,\n",
       "       1, 2, 0, 3, 1, 2, 0, 3, 1, 2, 0, 3, 1, 2, 0, 3, 1, 2, 0, 3, 1, 2, 0,\n",
       "       3, 1, 2, 0, 3, 1, 2, 0, 3, 1, 2], dtype=int64)"
      ]
     },
     "execution_count": 30,
     "metadata": {},
     "output_type": "execute_result"
    }
   ],
   "source": [
    "predict(data)"
   ]
  },
  {
   "cell_type": "code",
   "execution_count": 51,
   "metadata": {
    "collapsed": false,
    "scrolled": true
   },
   "outputs": [
    {
     "name": "stderr",
     "output_type": "stream",
     "text": [
      "C:\\Anaconda3\\lib\\site-packages\\numpy\\core\\fromnumeric.py:2909: RuntimeWarning: Mean of empty slice.\n",
      "  out=out, **kwargs)\n",
      "C:\\Anaconda3\\lib\\site-packages\\numpy\\core\\_methods.py:73: RuntimeWarning: invalid value encountered in true_divide\n",
      "  ret, rcount, out=ret, casting='unsafe', subok=False)\n"
     ]
    },
    {
     "data": {
      "image/png": "[encoded data removed]",
      "text/plain": [
       "<matplotlib.figure.Figure at 0x9253e48>"
      ]
     },
     "metadata": {},
     "output_type": "display_data"
    }
   ],
   "source": [
    "# 设置k值\n",
    "k = 4\n",
    "min_loss = 10000\n",
    "min_loss_centroids = np.array([])\n",
    "min_loss_clusterData = np.array([])\n",
    "\n",
    "for i in range(50):\n",
    "    # centroids簇的中心\n",
    "    # clusterData样本的属性，行是代表各个样本，第一列保存样本属于哪个簇，\n",
    "    # 第二列保存样本跟它所属簇的距离\n",
    "    centroids,clusterData = kmeans(data, k)\n",
    "    loss = sum((clusterData[:,1])**2)/data.shape[0]\n",
    "    if loss < min_loss:\n",
    "        min_loss = loss\n",
    "        min_loss_centroids = centroids\n",
    "        min_loss_clusterData = clusterData\n",
    "        \n",
    "centroids = min_loss_centroids\n",
    "clusterData = min_loss_clusterData\n",
    "\n",
    "showCluster(data, k, centroids, clusterData)"
   ]
  },
  {
   "cell_type": "code",
   "execution_count": null,
   "metadata": {
    "collapsed": true
   },
   "outputs": [],
   "source": []
  }
 ],
 "metadata": {
  "anaconda-cloud": {},
  "kernelspec": {
   "display_name": "Python [default]",
   "language": "python",
   "name": "python3"
  },
  "language_info": {
   "codemirror_mode": {
    "name": "ipython",
    "version": 3
   },
   "file_extension": ".py",
   "mimetype": "text/x-python",
   "name": "python",
   "nbconvert_exporter": "python",
   "pygments_lexer": "ipython3",
   "version": "3.5.2"
  }
 },
 "nbformat": 4,
 "nbformat_minor": 1
}
