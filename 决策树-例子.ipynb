{
 "cells": [
  {
   "cell_type": "code",
   "execution_count": 1,
   "metadata": {
    "collapsed": true
   },
   "outputs": [],
   "source": [
    "from sklearn.feature_extraction import DictVectorizer\n",
    "from sklearn import tree\n",
    "from sklearn import preprocessing\n",
    "import csv"
   ]
  },
  {
   "cell_type": "code",
   "execution_count": 2,
   "metadata": {
    "collapsed": false
   },
   "outputs": [
    {
     "name": "stdout",
     "output_type": "stream",
     "text": [
      "['RID', 'age', 'income', 'student', 'credit_rating', 'class_buys_computer']\n",
      "[{'income': 'high', 'student': 'no', 'age': 'youth', 'credit_rating': 'fair'}, {'income': 'high', 'student': 'no', 'age': 'youth', 'credit_rating': 'excellent'}, {'income': 'high', 'student': 'no', 'age': 'middle_aged', 'credit_rating': 'fair'}, {'income': 'medium', 'student': 'no', 'age': 'senior', 'credit_rating': 'fair'}, {'income': 'low', 'student': 'yes', 'age': 'senior', 'credit_rating': 'fair'}, {'income': 'low', 'student': 'yes', 'age': 'senior', 'credit_rating': 'excellent'}, {'income': 'low', 'student': 'yes', 'age': 'middle_aged', 'credit_rating': 'excellent'}, {'income': 'medium', 'student': 'no', 'age': 'youth', 'credit_rating': 'fair'}, {'income': 'low', 'student': 'yes', 'age': 'youth', 'credit_rating': 'fair'}, {'income': 'medium', 'student': 'yes', 'age': 'senior', 'credit_rating': 'fair'}, {'income': 'medium', 'student': 'yes', 'age': 'youth', 'credit_rating': 'excellent'}, {'income': 'medium', 'student': 'no', 'age': 'middle_aged', 'credit_rating': 'excellent'}, {'income': 'high', 'student': 'yes', 'age': 'middle_aged', 'credit_rating': 'fair'}, {'income': 'medium', 'student': 'no', 'age': 'senior', 'credit_rating': 'excellent'}]\n"
     ]
    }
   ],
   "source": [
    "# 读入数据\n",
    "Dtree = open(r'AllElectronics.csv', 'r')\n",
    "reader = csv.reader(Dtree)\n",
    "\n",
    "# 获取第一行数据\n",
    "headers = reader.__next__()\n",
    "print(headers)\n",
    "\n",
    "# 定义两个列表\n",
    "featureList = []\n",
    "labelList = []\n",
    "\n",
    "# \n",
    "for row in reader:\n",
    "    # 把label存入list\n",
    "    labelList.append(row[-1])\n",
    "    rowDict = {}\n",
    "    for i in range(1, len(row)-1):\n",
    "        #建立一个数据字典\n",
    "        rowDict[headers[i]] = row[i]\n",
    "    # 把数据字典存入list\n",
    "    featureList.append(rowDict)\n",
    "\n",
    "print(featureList)"
   ]
  },
  {
   "cell_type": "code",
   "execution_count": 3,
   "metadata": {
    "collapsed": false
   },
   "outputs": [
    {
     "name": "stdout",
     "output_type": "stream",
     "text": [
      "x_data: [[ 0.  0.  1.  0.  1.  1.  0.  0.  1.  0.]\n",
      " [ 0.  0.  1.  1.  0.  1.  0.  0.  1.  0.]\n",
      " [ 1.  0.  0.  0.  1.  1.  0.  0.  1.  0.]\n",
      " [ 0.  1.  0.  0.  1.  0.  0.  1.  1.  0.]\n",
      " [ 0.  1.  0.  0.  1.  0.  1.  0.  0.  1.]\n",
      " [ 0.  1.  0.  1.  0.  0.  1.  0.  0.  1.]\n",
      " [ 1.  0.  0.  1.  0.  0.  1.  0.  0.  1.]\n",
      " [ 0.  0.  1.  0.  1.  0.  0.  1.  1.  0.]\n",
      " [ 0.  0.  1.  0.  1.  0.  1.  0.  0.  1.]\n",
      " [ 0.  1.  0.  0.  1.  0.  0.  1.  0.  1.]\n",
      " [ 0.  0.  1.  1.  0.  0.  0.  1.  0.  1.]\n",
      " [ 1.  0.  0.  1.  0.  0.  0.  1.  1.  0.]\n",
      " [ 1.  0.  0.  0.  1.  1.  0.  0.  0.  1.]\n",
      " [ 0.  1.  0.  1.  0.  0.  0.  1.  1.  0.]]\n",
      "['age=middle_aged', 'age=senior', 'age=youth', 'credit_rating=excellent', 'credit_rating=fair', 'income=high', 'income=low', 'income=medium', 'student=no', 'student=yes']\n",
      "labelList: ['no', 'no', 'yes', 'yes', 'yes', 'no', 'yes', 'no', 'yes', 'yes', 'yes', 'yes', 'yes', 'no']\n",
      "y_data: [[0]\n",
      " [0]\n",
      " [1]\n",
      " [1]\n",
      " [1]\n",
      " [0]\n",
      " [1]\n",
      " [0]\n",
      " [1]\n",
      " [1]\n",
      " [1]\n",
      " [1]\n",
      " [1]\n",
      " [0]]\n"
     ]
    }
   ],
   "source": [
    "# 把数据转换成01表示\n",
    "vec = DictVectorizer()\n",
    "x_data = vec.fit_transform(featureList).toarray()\n",
    "print(\"x_data: \" + str(x_data))\n",
    "\n",
    "# 打印属性名称\n",
    "print(vec.get_feature_names())\n",
    "print(\"labelList: \" + str(labelList))\n",
    "\n",
    "# 把标签转换成01表示\n",
    "lb = preprocessing.LabelBinarizer()\n",
    "y_data = lb.fit_transform(labelList)\n",
    "print(\"y_data: \" + str(y_data))"
   ]
  },
  {
   "cell_type": "code",
   "execution_count": 19,
   "metadata": {
    "collapsed": false
   },
   "outputs": [
    {
     "data": {
      "text/plain": [
       "DecisionTreeClassifier(class_weight=None, criterion='entropy', max_depth=None,\n",
       "            max_features=None, max_leaf_nodes=None,\n",
       "            min_impurity_split=1e-07, min_samples_leaf=1,\n",
       "            min_samples_split=2, min_weight_fraction_leaf=0.0,\n",
       "            presort=False, random_state=None, splitter='best')"
      ]
     },
     "execution_count": 19,
     "metadata": {},
     "output_type": "execute_result"
    }
   ],
   "source": [
    "# 创建决策树模型\n",
    "model = tree.DecisionTreeClassifier(criterion='entropy')\n",
    "# 输入数据建立模型\n",
    "model.fit(x_data, y_data)"
   ]
  },
  {
   "cell_type": "code",
   "execution_count": 20,
   "metadata": {
    "collapsed": false
   },
   "outputs": [
    {
     "name": "stdout",
     "output_type": "stream",
     "text": [
      "x_test: [ 0.  0.  1.  0.  1.  1.  0.  0.  1.  0.]\n",
      "predict: [0]\n"
     ]
    }
   ],
   "source": [
    "# 测试\n",
    "x_test = x_data[0]\n",
    "print(\"x_test: \" + str(x_test))\n",
    "\n",
    "predict = model.predict(x_test.reshape(1,-1))\n",
    "print(\"predict: \" + str(predict))"
   ]
  },
  {
   "cell_type": "code",
   "execution_count": 21,
   "metadata": {
    "collapsed": false
   },
   "outputs": [
    {
     "data": {
      "text/plain": [
       "'computer.pdf'"
      ]
     },
     "execution_count": 21,
     "metadata": {},
     "output_type": "execute_result"
    }
   ],
   "source": [
    "# 导出决策树\n",
    "import graphviz # http://www.graphviz.org/\n",
    "\n",
    "dot_data = tree.export_graphviz(model, \n",
    "                                out_file = None, \n",
    "                                feature_names = vec.get_feature_names(),\n",
    "                                class_names = lb.classes_,\n",
    "                                filled = True,\n",
    "                                rounded = True,\n",
    "                                special_characters = True)\n",
    "graph = graphviz.Source(dot_data)\n",
    "graph.render('computer')"
   ]
  },
  {
   "cell_type": "code",
   "execution_count": 22,
   "metadata": {
    "collapsed": false
   },
   "outputs": [
    {
     "data": {
      "image/svg+xml": [
       "<?xml version=\"1.0\" encoding=\"UTF-8\" standalone=\"no\"?>\r\n",
       "<!DOCTYPE svg PUBLIC \"-//W3C//DTD SVG 1.1//EN\"\r\n",
       " \"http://www.w3.org/Graphics/SVG/1.1/DTD/svg11.dtd\">\r\n",
       "<!-- Generated by graphviz version 2.38.0 (20140413.2041)\r\n",
       " -->\r\n",
       "<!-- Title: Tree Pages: 1 -->\r\n",
       "<svg width=\"549pt\" height=\"552pt\"\r\n",
       " viewBox=\"0.00 0.00 549.00 552.00\" xmlns=\"http://www.w3.org/2000/svg\" xmlns:xlink=\"http://www.w3.org/1999/xlink\">\r\n",
       "<g id=\"graph0\" class=\"graph\" transform=\"scale(1 1) rotate(0) translate(4 548)\">\r\n",
       "<title>Tree</title>\r\n",
       "<polygon fill=\"white\" stroke=\"none\" points=\"-4,4 -4,-548 545,-548 545,4 -4,4\"/>\r\n",
       "<!-- 0 -->\r\n",
       "<g id=\"node1\" class=\"node\"><title>0</title>\r\n",
       "<path fill=\"#399de5\" fill-opacity=\"0.443137\" stroke=\"black\" d=\"M395.5,-544C395.5,-544 252.5,-544 252.5,-544 246.5,-544 240.5,-538 240.5,-532 240.5,-532 240.5,-473 240.5,-473 240.5,-467 246.5,-461 252.5,-461 252.5,-461 395.5,-461 395.5,-461 401.5,-461 407.5,-467 407.5,-473 407.5,-473 407.5,-532 407.5,-532 407.5,-538 401.5,-544 395.5,-544\"/>\r\n",
       "<text text-anchor=\"start\" x=\"248.5\" y=\"-528.8\" font-family=\"Helvetica,sans-Serif\" font-size=\"14.00\">age=middle_aged ≤ 0.5</text>\r\n",
       "<text text-anchor=\"start\" x=\"269.5\" y=\"-513.8\" font-family=\"Helvetica,sans-Serif\" font-size=\"14.00\">entropy = 0.9403</text>\r\n",
       "<text text-anchor=\"start\" x=\"280.5\" y=\"-498.8\" font-family=\"Helvetica,sans-Serif\" font-size=\"14.00\">samples = 14</text>\r\n",
       "<text text-anchor=\"start\" x=\"283.5\" y=\"-483.8\" font-family=\"Helvetica,sans-Serif\" font-size=\"14.00\">value = [5, 9]</text>\r\n",
       "<text text-anchor=\"start\" x=\"288\" y=\"-468.8\" font-family=\"Helvetica,sans-Serif\" font-size=\"14.00\">class = yes</text>\r\n",
       "</g>\r\n",
       "<!-- 1 -->\r\n",
       "<g id=\"node2\" class=\"node\"><title>1</title>\r\n",
       "<path fill=\"none\" stroke=\"black\" d=\"M309,-425C309,-425 211,-425 211,-425 205,-425 199,-419 199,-413 199,-413 199,-354 199,-354 199,-348 205,-342 211,-342 211,-342 309,-342 309,-342 315,-342 321,-348 321,-354 321,-354 321,-413 321,-413 321,-419 315,-425 309,-425\"/>\r\n",
       "<text text-anchor=\"start\" x=\"207\" y=\"-409.8\" font-family=\"Helvetica,sans-Serif\" font-size=\"14.00\">student=no ≤ 0.5</text>\r\n",
       "<text text-anchor=\"start\" x=\"218\" y=\"-394.8\" font-family=\"Helvetica,sans-Serif\" font-size=\"14.00\">entropy = 1.0</text>\r\n",
       "<text text-anchor=\"start\" x=\"216.5\" y=\"-379.8\" font-family=\"Helvetica,sans-Serif\" font-size=\"14.00\">samples = 10</text>\r\n",
       "<text text-anchor=\"start\" x=\"219.5\" y=\"-364.8\" font-family=\"Helvetica,sans-Serif\" font-size=\"14.00\">value = [5, 5]</text>\r\n",
       "<text text-anchor=\"start\" x=\"227.5\" y=\"-349.8\" font-family=\"Helvetica,sans-Serif\" font-size=\"14.00\">class = no</text>\r\n",
       "</g>\r\n",
       "<!-- 0&#45;&gt;1 -->\r\n",
       "<g id=\"edge1\" class=\"edge\"><title>0&#45;&gt;1</title>\r\n",
       "<path fill=\"none\" stroke=\"black\" d=\"M301.796,-460.907C297.03,-452.195 291.944,-442.897 287.019,-433.893\"/>\r\n",
       "<polygon fill=\"black\" stroke=\"black\" points=\"290.035,-432.114 282.165,-425.021 283.894,-435.474 290.035,-432.114\"/>\r\n",
       "<text text-anchor=\"middle\" x=\"275.14\" y=\"-445.313\" font-family=\"Helvetica,sans-Serif\" font-size=\"14.00\">True</text>\r\n",
       "</g>\r\n",
       "<!-- 12 -->\r\n",
       "<g id=\"node13\" class=\"node\"><title>12</title>\r\n",
       "<path fill=\"#399de5\" stroke=\"black\" d=\"M427,-417.5C427,-417.5 351,-417.5 351,-417.5 345,-417.5 339,-411.5 339,-405.5 339,-405.5 339,-361.5 339,-361.5 339,-355.5 345,-349.5 351,-349.5 351,-349.5 427,-349.5 427,-349.5 433,-349.5 439,-355.5 439,-361.5 439,-361.5 439,-405.5 439,-405.5 439,-411.5 433,-417.5 427,-417.5\"/>\r\n",
       "<text text-anchor=\"start\" x=\"347\" y=\"-402.3\" font-family=\"Helvetica,sans-Serif\" font-size=\"14.00\">entropy = 0.0</text>\r\n",
       "<text text-anchor=\"start\" x=\"349.5\" y=\"-387.3\" font-family=\"Helvetica,sans-Serif\" font-size=\"14.00\">samples = 4</text>\r\n",
       "<text text-anchor=\"start\" x=\"348.5\" y=\"-372.3\" font-family=\"Helvetica,sans-Serif\" font-size=\"14.00\">value = [0, 4]</text>\r\n",
       "<text text-anchor=\"start\" x=\"353\" y=\"-357.3\" font-family=\"Helvetica,sans-Serif\" font-size=\"14.00\">class = yes</text>\r\n",
       "</g>\r\n",
       "<!-- 0&#45;&gt;12 -->\r\n",
       "<g id=\"edge12\" class=\"edge\"><title>0&#45;&gt;12</title>\r\n",
       "<path fill=\"none\" stroke=\"black\" d=\"M346.551,-460.907C352.743,-449.763 359.468,-437.658 365.7,-426.439\"/>\r\n",
       "<polygon fill=\"black\" stroke=\"black\" points=\"368.777,-428.108 370.574,-417.667 362.658,-424.709 368.777,-428.108\"/>\r\n",
       "<text text-anchor=\"middle\" x=\"377.442\" y=\"-438.005\" font-family=\"Helvetica,sans-Serif\" font-size=\"14.00\">False</text>\r\n",
       "</g>\r\n",
       "<!-- 2 -->\r\n",
       "<g id=\"node3\" class=\"node\"><title>2</title>\r\n",
       "<path fill=\"#399de5\" fill-opacity=\"0.749020\" stroke=\"black\" d=\"M256,-306C256,-306 86,-306 86,-306 80,-306 74,-300 74,-294 74,-294 74,-235 74,-235 74,-229 80,-223 86,-223 86,-223 256,-223 256,-223 262,-223 268,-229 268,-235 268,-235 268,-294 268,-294 268,-300 262,-306 256,-306\"/>\r\n",
       "<text text-anchor=\"start\" x=\"82\" y=\"-290.8\" font-family=\"Helvetica,sans-Serif\" font-size=\"14.00\">credit_rating=excellent ≤ 0.5</text>\r\n",
       "<text text-anchor=\"start\" x=\"116.5\" y=\"-275.8\" font-family=\"Helvetica,sans-Serif\" font-size=\"14.00\">entropy = 0.7219</text>\r\n",
       "<text text-anchor=\"start\" x=\"131.5\" y=\"-260.8\" font-family=\"Helvetica,sans-Serif\" font-size=\"14.00\">samples = 5</text>\r\n",
       "<text text-anchor=\"start\" x=\"130.5\" y=\"-245.8\" font-family=\"Helvetica,sans-Serif\" font-size=\"14.00\">value = [1, 4]</text>\r\n",
       "<text text-anchor=\"start\" x=\"135\" y=\"-230.8\" font-family=\"Helvetica,sans-Serif\" font-size=\"14.00\">class = yes</text>\r\n",
       "</g>\r\n",
       "<!-- 1&#45;&gt;2 -->\r\n",
       "<g id=\"edge2\" class=\"edge\"><title>1&#45;&gt;2</title>\r\n",
       "<path fill=\"none\" stroke=\"black\" d=\"M229.122,-341.907C222.288,-332.923 214.979,-323.315 207.931,-314.05\"/>\r\n",
       "<polygon fill=\"black\" stroke=\"black\" points=\"210.664,-311.861 201.824,-306.021 205.092,-316.099 210.664,-311.861\"/>\r\n",
       "</g>\r\n",
       "<!-- 7 -->\r\n",
       "<g id=\"node8\" class=\"node\"><title>7</title>\r\n",
       "<path fill=\"#e58139\" fill-opacity=\"0.749020\" stroke=\"black\" d=\"M399.5,-306C399.5,-306 298.5,-306 298.5,-306 292.5,-306 286.5,-300 286.5,-294 286.5,-294 286.5,-235 286.5,-235 286.5,-229 292.5,-223 298.5,-223 298.5,-223 399.5,-223 399.5,-223 405.5,-223 411.5,-229 411.5,-235 411.5,-235 411.5,-294 411.5,-294 411.5,-300 405.5,-306 399.5,-306\"/>\r\n",
       "<text text-anchor=\"start\" x=\"298\" y=\"-290.8\" font-family=\"Helvetica,sans-Serif\" font-size=\"14.00\">age=youth ≤ 0.5</text>\r\n",
       "<text text-anchor=\"start\" x=\"294.5\" y=\"-275.8\" font-family=\"Helvetica,sans-Serif\" font-size=\"14.00\">entropy = 0.7219</text>\r\n",
       "<text text-anchor=\"start\" x=\"309.5\" y=\"-260.8\" font-family=\"Helvetica,sans-Serif\" font-size=\"14.00\">samples = 5</text>\r\n",
       "<text text-anchor=\"start\" x=\"308.5\" y=\"-245.8\" font-family=\"Helvetica,sans-Serif\" font-size=\"14.00\">value = [4, 1]</text>\r\n",
       "<text text-anchor=\"start\" x=\"316.5\" y=\"-230.8\" font-family=\"Helvetica,sans-Serif\" font-size=\"14.00\">class = no</text>\r\n",
       "</g>\r\n",
       "<!-- 1&#45;&gt;7 -->\r\n",
       "<g id=\"edge7\" class=\"edge\"><title>1&#45;&gt;7</title>\r\n",
       "<path fill=\"none\" stroke=\"black\" d=\"M290.878,-341.907C297.712,-332.923 305.021,-323.315 312.069,-314.05\"/>\r\n",
       "<polygon fill=\"black\" stroke=\"black\" points=\"314.908,-316.099 318.176,-306.021 309.336,-311.861 314.908,-316.099\"/>\r\n",
       "</g>\r\n",
       "<!-- 3 -->\r\n",
       "<g id=\"node4\" class=\"node\"><title>3</title>\r\n",
       "<path fill=\"#399de5\" stroke=\"black\" d=\"M88,-179.5C88,-179.5 12,-179.5 12,-179.5 6,-179.5 0,-173.5 0,-167.5 0,-167.5 0,-123.5 0,-123.5 0,-117.5 6,-111.5 12,-111.5 12,-111.5 88,-111.5 88,-111.5 94,-111.5 100,-117.5 100,-123.5 100,-123.5 100,-167.5 100,-167.5 100,-173.5 94,-179.5 88,-179.5\"/>\r\n",
       "<text text-anchor=\"start\" x=\"8\" y=\"-164.3\" font-family=\"Helvetica,sans-Serif\" font-size=\"14.00\">entropy = 0.0</text>\r\n",
       "<text text-anchor=\"start\" x=\"10.5\" y=\"-149.3\" font-family=\"Helvetica,sans-Serif\" font-size=\"14.00\">samples = 3</text>\r\n",
       "<text text-anchor=\"start\" x=\"9.5\" y=\"-134.3\" font-family=\"Helvetica,sans-Serif\" font-size=\"14.00\">value = [0, 3]</text>\r\n",
       "<text text-anchor=\"start\" x=\"14\" y=\"-119.3\" font-family=\"Helvetica,sans-Serif\" font-size=\"14.00\">class = yes</text>\r\n",
       "</g>\r\n",
       "<!-- 2&#45;&gt;3 -->\r\n",
       "<g id=\"edge3\" class=\"edge\"><title>2&#45;&gt;3</title>\r\n",
       "<path fill=\"none\" stroke=\"black\" d=\"M129.02,-222.907C116.923,-211.211 103.734,-198.457 91.6568,-186.78\"/>\r\n",
       "<polygon fill=\"black\" stroke=\"black\" points=\"93.9227,-184.102 84.3008,-179.667 89.0568,-189.134 93.9227,-184.102\"/>\r\n",
       "</g>\r\n",
       "<!-- 4 -->\r\n",
       "<g id=\"node5\" class=\"node\"><title>4</title>\r\n",
       "<path fill=\"none\" stroke=\"black\" d=\"M229.5,-187C229.5,-187 130.5,-187 130.5,-187 124.5,-187 118.5,-181 118.5,-175 118.5,-175 118.5,-116 118.5,-116 118.5,-110 124.5,-104 130.5,-104 130.5,-104 229.5,-104 229.5,-104 235.5,-104 241.5,-110 241.5,-116 241.5,-116 241.5,-175 241.5,-175 241.5,-181 235.5,-187 229.5,-187\"/>\r\n",
       "<text text-anchor=\"start\" x=\"126.5\" y=\"-171.8\" font-family=\"Helvetica,sans-Serif\" font-size=\"14.00\">age=senior ≤ 0.5</text>\r\n",
       "<text text-anchor=\"start\" x=\"138\" y=\"-156.8\" font-family=\"Helvetica,sans-Serif\" font-size=\"14.00\">entropy = 1.0</text>\r\n",
       "<text text-anchor=\"start\" x=\"140.5\" y=\"-141.8\" font-family=\"Helvetica,sans-Serif\" font-size=\"14.00\">samples = 2</text>\r\n",
       "<text text-anchor=\"start\" x=\"139.5\" y=\"-126.8\" font-family=\"Helvetica,sans-Serif\" font-size=\"14.00\">value = [1, 1]</text>\r\n",
       "<text text-anchor=\"start\" x=\"147.5\" y=\"-111.8\" font-family=\"Helvetica,sans-Serif\" font-size=\"14.00\">class = no</text>\r\n",
       "</g>\r\n",
       "<!-- 2&#45;&gt;4 -->\r\n",
       "<g id=\"edge4\" class=\"edge\"><title>2&#45;&gt;4</title>\r\n",
       "<path fill=\"none\" stroke=\"black\" d=\"M174.123,-222.907C174.765,-214.558 175.448,-205.671 176.114,-197.02\"/>\r\n",
       "<polygon fill=\"black\" stroke=\"black\" points=\"179.606,-197.26 176.883,-187.021 172.626,-196.723 179.606,-197.26\"/>\r\n",
       "</g>\r\n",
       "<!-- 5 -->\r\n",
       "<g id=\"node6\" class=\"node\"><title>5</title>\r\n",
       "<path fill=\"#399de5\" stroke=\"black\" d=\"M111,-68C111,-68 35,-68 35,-68 29,-68 23,-62 23,-56 23,-56 23,-12 23,-12 23,-6 29,-0 35,-0 35,-0 111,-0 111,-0 117,-0 123,-6 123,-12 123,-12 123,-56 123,-56 123,-62 117,-68 111,-68\"/>\r\n",
       "<text text-anchor=\"start\" x=\"31\" y=\"-52.8\" font-family=\"Helvetica,sans-Serif\" font-size=\"14.00\">entropy = 0.0</text>\r\n",
       "<text text-anchor=\"start\" x=\"33.5\" y=\"-37.8\" font-family=\"Helvetica,sans-Serif\" font-size=\"14.00\">samples = 1</text>\r\n",
       "<text text-anchor=\"start\" x=\"32.5\" y=\"-22.8\" font-family=\"Helvetica,sans-Serif\" font-size=\"14.00\">value = [0, 1]</text>\r\n",
       "<text text-anchor=\"start\" x=\"37\" y=\"-7.8\" font-family=\"Helvetica,sans-Serif\" font-size=\"14.00\">class = yes</text>\r\n",
       "</g>\r\n",
       "<!-- 4&#45;&gt;5 -->\r\n",
       "<g id=\"edge5\" class=\"edge\"><title>4&#45;&gt;5</title>\r\n",
       "<path fill=\"none\" stroke=\"black\" d=\"M140.157,-103.726C131.155,-94.5142 121.601,-84.7364 112.609,-75.5343\"/>\r\n",
       "<polygon fill=\"black\" stroke=\"black\" points=\"115.032,-73.0057 105.539,-68.2996 110.025,-77.898 115.032,-73.0057\"/>\r\n",
       "</g>\r\n",
       "<!-- 6 -->\r\n",
       "<g id=\"node7\" class=\"node\"><title>6</title>\r\n",
       "<path fill=\"#e58139\" stroke=\"black\" d=\"M229,-68C229,-68 153,-68 153,-68 147,-68 141,-62 141,-56 141,-56 141,-12 141,-12 141,-6 147,-0 153,-0 153,-0 229,-0 229,-0 235,-0 241,-6 241,-12 241,-12 241,-56 241,-56 241,-62 235,-68 229,-68\"/>\r\n",
       "<text text-anchor=\"start\" x=\"149\" y=\"-52.8\" font-family=\"Helvetica,sans-Serif\" font-size=\"14.00\">entropy = 0.0</text>\r\n",
       "<text text-anchor=\"start\" x=\"151.5\" y=\"-37.8\" font-family=\"Helvetica,sans-Serif\" font-size=\"14.00\">samples = 1</text>\r\n",
       "<text text-anchor=\"start\" x=\"150.5\" y=\"-22.8\" font-family=\"Helvetica,sans-Serif\" font-size=\"14.00\">value = [1, 0]</text>\r\n",
       "<text text-anchor=\"start\" x=\"158.5\" y=\"-7.8\" font-family=\"Helvetica,sans-Serif\" font-size=\"14.00\">class = no</text>\r\n",
       "</g>\r\n",
       "<!-- 4&#45;&gt;6 -->\r\n",
       "<g id=\"edge6\" class=\"edge\"><title>4&#45;&gt;6</title>\r\n",
       "<path fill=\"none\" stroke=\"black\" d=\"M184.096,-103.726C184.93,-95.4263 185.81,-86.6671 186.652,-78.2834\"/>\r\n",
       "<polygon fill=\"black\" stroke=\"black\" points=\"190.138,-78.5994 187.655,-68.2996 183.173,-77.8997 190.138,-78.5994\"/>\r\n",
       "</g>\r\n",
       "<!-- 8 -->\r\n",
       "<g id=\"node9\" class=\"node\"><title>8</title>\r\n",
       "<path fill=\"none\" stroke=\"black\" d=\"M411,-187C411,-187 277,-187 277,-187 271,-187 265,-181 265,-175 265,-175 265,-116 265,-116 265,-110 271,-104 277,-104 277,-104 411,-104 411,-104 417,-104 423,-110 423,-116 423,-116 423,-175 423,-175 423,-181 417,-187 411,-187\"/>\r\n",
       "<text text-anchor=\"start\" x=\"273\" y=\"-171.8\" font-family=\"Helvetica,sans-Serif\" font-size=\"14.00\">credit_rating=fair ≤ 0.5</text>\r\n",
       "<text text-anchor=\"start\" x=\"302\" y=\"-156.8\" font-family=\"Helvetica,sans-Serif\" font-size=\"14.00\">entropy = 1.0</text>\r\n",
       "<text text-anchor=\"start\" x=\"304.5\" y=\"-141.8\" font-family=\"Helvetica,sans-Serif\" font-size=\"14.00\">samples = 2</text>\r\n",
       "<text text-anchor=\"start\" x=\"303.5\" y=\"-126.8\" font-family=\"Helvetica,sans-Serif\" font-size=\"14.00\">value = [1, 1]</text>\r\n",
       "<text text-anchor=\"start\" x=\"311.5\" y=\"-111.8\" font-family=\"Helvetica,sans-Serif\" font-size=\"14.00\">class = no</text>\r\n",
       "</g>\r\n",
       "<!-- 7&#45;&gt;8 -->\r\n",
       "<g id=\"edge8\" class=\"edge\"><title>7&#45;&gt;8</title>\r\n",
       "<path fill=\"none\" stroke=\"black\" d=\"M347.265,-222.907C346.908,-214.558 346.529,-205.671 346.159,-197.02\"/>\r\n",
       "<polygon fill=\"black\" stroke=\"black\" points=\"349.656,-196.862 345.732,-187.021 342.662,-197.161 349.656,-196.862\"/>\r\n",
       "</g>\r\n",
       "<!-- 11 -->\r\n",
       "<g id=\"node12\" class=\"node\"><title>11</title>\r\n",
       "<path fill=\"#e58139\" stroke=\"black\" d=\"M529,-179.5C529,-179.5 453,-179.5 453,-179.5 447,-179.5 441,-173.5 441,-167.5 441,-167.5 441,-123.5 441,-123.5 441,-117.5 447,-111.5 453,-111.5 453,-111.5 529,-111.5 529,-111.5 535,-111.5 541,-117.5 541,-123.5 541,-123.5 541,-167.5 541,-167.5 541,-173.5 535,-179.5 529,-179.5\"/>\r\n",
       "<text text-anchor=\"start\" x=\"449\" y=\"-164.3\" font-family=\"Helvetica,sans-Serif\" font-size=\"14.00\">entropy = 0.0</text>\r\n",
       "<text text-anchor=\"start\" x=\"451.5\" y=\"-149.3\" font-family=\"Helvetica,sans-Serif\" font-size=\"14.00\">samples = 3</text>\r\n",
       "<text text-anchor=\"start\" x=\"450.5\" y=\"-134.3\" font-family=\"Helvetica,sans-Serif\" font-size=\"14.00\">value = [3, 0]</text>\r\n",
       "<text text-anchor=\"start\" x=\"458.5\" y=\"-119.3\" font-family=\"Helvetica,sans-Serif\" font-size=\"14.00\">class = no</text>\r\n",
       "</g>\r\n",
       "<!-- 7&#45;&gt;11 -->\r\n",
       "<g id=\"edge11\" class=\"edge\"><title>7&#45;&gt;11</title>\r\n",
       "<path fill=\"none\" stroke=\"black\" d=\"M398.266,-222.907C412.73,-210.99 428.525,-197.976 442.914,-186.12\"/>\r\n",
       "<polygon fill=\"black\" stroke=\"black\" points=\"445.254,-188.727 450.746,-179.667 440.803,-183.325 445.254,-188.727\"/>\r\n",
       "</g>\r\n",
       "<!-- 9 -->\r\n",
       "<g id=\"node10\" class=\"node\"><title>9</title>\r\n",
       "<path fill=\"#e58139\" stroke=\"black\" d=\"M370,-68C370,-68 294,-68 294,-68 288,-68 282,-62 282,-56 282,-56 282,-12 282,-12 282,-6 288,-0 294,-0 294,-0 370,-0 370,-0 376,-0 382,-6 382,-12 382,-12 382,-56 382,-56 382,-62 376,-68 370,-68\"/>\r\n",
       "<text text-anchor=\"start\" x=\"290\" y=\"-52.8\" font-family=\"Helvetica,sans-Serif\" font-size=\"14.00\">entropy = 0.0</text>\r\n",
       "<text text-anchor=\"start\" x=\"292.5\" y=\"-37.8\" font-family=\"Helvetica,sans-Serif\" font-size=\"14.00\">samples = 1</text>\r\n",
       "<text text-anchor=\"start\" x=\"291.5\" y=\"-22.8\" font-family=\"Helvetica,sans-Serif\" font-size=\"14.00\">value = [1, 0]</text>\r\n",
       "<text text-anchor=\"start\" x=\"299.5\" y=\"-7.8\" font-family=\"Helvetica,sans-Serif\" font-size=\"14.00\">class = no</text>\r\n",
       "</g>\r\n",
       "<!-- 8&#45;&gt;9 -->\r\n",
       "<g id=\"edge9\" class=\"edge\"><title>8&#45;&gt;9</title>\r\n",
       "<path fill=\"none\" stroke=\"black\" d=\"M339.532,-103.726C338.622,-95.4263 337.662,-86.6671 336.743,-78.2834\"/>\r\n",
       "<polygon fill=\"black\" stroke=\"black\" points=\"340.218,-77.8588 335.649,-68.2996 333.26,-78.6214 340.218,-77.8588\"/>\r\n",
       "</g>\r\n",
       "<!-- 10 -->\r\n",
       "<g id=\"node11\" class=\"node\"><title>10</title>\r\n",
       "<path fill=\"#399de5\" stroke=\"black\" d=\"M488,-68C488,-68 412,-68 412,-68 406,-68 400,-62 400,-56 400,-56 400,-12 400,-12 400,-6 406,-0 412,-0 412,-0 488,-0 488,-0 494,-0 500,-6 500,-12 500,-12 500,-56 500,-56 500,-62 494,-68 488,-68\"/>\r\n",
       "<text text-anchor=\"start\" x=\"408\" y=\"-52.8\" font-family=\"Helvetica,sans-Serif\" font-size=\"14.00\">entropy = 0.0</text>\r\n",
       "<text text-anchor=\"start\" x=\"410.5\" y=\"-37.8\" font-family=\"Helvetica,sans-Serif\" font-size=\"14.00\">samples = 1</text>\r\n",
       "<text text-anchor=\"start\" x=\"409.5\" y=\"-22.8\" font-family=\"Helvetica,sans-Serif\" font-size=\"14.00\">value = [0, 1]</text>\r\n",
       "<text text-anchor=\"start\" x=\"414\" y=\"-7.8\" font-family=\"Helvetica,sans-Serif\" font-size=\"14.00\">class = yes</text>\r\n",
       "</g>\r\n",
       "<!-- 8&#45;&gt;10 -->\r\n",
       "<g id=\"edge10\" class=\"edge\"><title>8&#45;&gt;10</title>\r\n",
       "<path fill=\"none\" stroke=\"black\" d=\"M383.47,-103.726C392.388,-94.5142 401.853,-84.7364 410.761,-75.5343\"/>\r\n",
       "<polygon fill=\"black\" stroke=\"black\" points=\"413.324,-77.919 417.765,-68.2996 408.295,-73.0502 413.324,-77.919\"/>\r\n",
       "</g>\r\n",
       "</g>\r\n",
       "</svg>\r\n"
      ],
      "text/plain": [
       "<graphviz.files.Source at 0x2438e6b5860>"
      ]
     },
     "execution_count": 22,
     "metadata": {},
     "output_type": "execute_result"
    }
   ],
   "source": [
    "graph"
   ]
  },
  {
   "cell_type": "code",
   "execution_count": 23,
   "metadata": {
    "collapsed": false
   },
   "outputs": [
    {
     "data": {
      "text/plain": [
       "['age=middle_aged',\n",
       " 'age=senior',\n",
       " 'age=youth',\n",
       " 'credit_rating=excellent',\n",
       " 'credit_rating=fair',\n",
       " 'income=high',\n",
       " 'income=low',\n",
       " 'income=medium',\n",
       " 'student=no',\n",
       " 'student=yes']"
      ]
     },
     "execution_count": 23,
     "metadata": {},
     "output_type": "execute_result"
    }
   ],
   "source": [
    "vec.get_feature_names()"
   ]
  },
  {
   "cell_type": "code",
   "execution_count": 13,
   "metadata": {
    "collapsed": false
   },
   "outputs": [
    {
     "data": {
      "text/plain": [
       "array(['no', 'yes'],\n",
       "      dtype='<U3')"
      ]
     },
     "execution_count": 13,
     "metadata": {},
     "output_type": "execute_result"
    }
   ],
   "source": [
    "lb.classes_"
   ]
  },
  {
   "cell_type": "code",
   "execution_count": null,
   "metadata": {
    "collapsed": true
   },
   "outputs": [],
   "source": []
  }
 ],
 "metadata": {
  "anaconda-cloud": {},
  "kernelspec": {
   "display_name": "Python [default]",
   "language": "python",
   "name": "python3"
  },
  "language_info": {
   "codemirror_mode": {
    "name": "ipython",
    "version": 3
   },
   "file_extension": ".py",
   "mimetype": "text/x-python",
   "name": "python",
   "nbconvert_exporter": "python",
   "pygments_lexer": "ipython3",
   "version": "3.5.2"
  }
 },
 "nbformat": 4,
 "nbformat_minor": 2
}
